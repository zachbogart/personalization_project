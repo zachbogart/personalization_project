{
 "cells": [
  {
   "cell_type": "code",
   "execution_count": 1,
   "metadata": {
    "colab": {
     "base_uri": "https://localhost:8080/",
     "height": 153
    },
    "colab_type": "code",
    "id": "fFlbmdm84J-q",
    "outputId": "9f1cb040-4be9-4ff5-ace3-802a14017cbc"
   },
   "outputs": [],
   "source": [
    "# %%bash\n",
    "# pip install lightfm"
   ]
  },
  {
   "cell_type": "code",
   "execution_count": 51,
   "metadata": {
    "colab": {},
    "colab_type": "code",
    "id": "vRAyVp2f3_JM"
   },
   "outputs": [],
   "source": [
    "from lightfm import LightFM\n",
    "from lightfm.datasets import fetch_movielens\n",
    "from lightfm.evaluation import *\n",
    "from sklearn import model_selection\n",
    "from sklearn.model_selection import KFold\n",
    "from scipy.sparse import coo_matrix\n",
    "from time import time\n",
    "import matplotlib.pyplot as plt\n",
    "import csv\n",
    "\n",
    "import numpy as np\n",
    "import pandas as pd\n",
    "\n",
    "# from google.colab import files"
   ]
  },
  {
   "cell_type": "markdown",
   "metadata": {
    "colab_type": "text",
    "id": "lggw5EBugV0m"
   },
   "source": [
    "## Util"
   ]
  },
  {
   "cell_type": "code",
   "execution_count": 3,
   "metadata": {
    "colab": {},
    "colab_type": "code",
    "id": "ZXYmkugHfKU3"
   },
   "outputs": [],
   "source": [
    "def downloadCSVFile(listOfDicts, fileName):\n",
    "  resultDF = pd.DataFrame(listOfDicts)\n",
    "  resultDF.to_csv(fileName)\n",
    "#   files.download(fileName)"
   ]
  },
  {
   "cell_type": "markdown",
   "metadata": {
    "colab_type": "text",
    "id": "dfDaz12o6Nkp"
   },
   "source": [
    "##Get Data"
   ]
  },
  {
   "cell_type": "code",
   "execution_count": 4,
   "metadata": {
    "colab": {},
    "colab_type": "code",
    "id": "Movb0besXQMK"
   },
   "outputs": [],
   "source": [
    "# %%bash\n",
    "# mkdir -p 'results'\n",
    "\n",
    "# rm ratings.csv"
   ]
  },
  {
   "cell_type": "code",
   "execution_count": 5,
   "metadata": {
    "colab": {
     "base_uri": "https://localhost:8080/",
     "height": 86,
     "resources": {
      "http://localhost:8080/nbextensions/google.colab/files.js": {
       "data": "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",
       "headers": [
        [
         "content-type",
         "application/javascript"
        ]
       ],
       "ok": true,
       "status": 200,
       "status_text": ""
      }
     }
    },
    "colab_type": "code",
    "id": "fFtc23SrRECP",
    "outputId": "0d664e92-865d-4ca2-b60d-cbe9ecea80e4"
   },
   "outputs": [],
   "source": [
    "# # Upload ratings.csv\n",
    "\n",
    "# from google.colab import files\n",
    "\n",
    "# uploaded = files.upload()\n",
    "\n",
    "# for fn in uploaded.keys():\n",
    "#   print('User uploaded file \"{name}\" with length {length} bytes'.format(\n",
    "#       name=fn, length=len(uploaded[fn])))"
   ]
  },
  {
   "cell_type": "code",
   "execution_count": null,
   "metadata": {},
   "outputs": [],
   "source": []
  },
  {
   "cell_type": "markdown",
   "metadata": {
    "colab_type": "text",
    "id": "u0QZRkcZ5UgA"
   },
   "source": [
    "### Make Train, Validate, Test"
   ]
  },
  {
   "cell_type": "code",
   "execution_count": 6,
   "metadata": {
    "colab": {
     "base_uri": "https://localhost:8080/",
     "height": 119
    },
    "colab_type": "code",
    "id": "PR0ZJtyOP8M0",
    "outputId": "cb186bae-9861-428f-dfde-04c9c160aeb2"
   },
   "outputs": [
    {
     "name": "stdout",
     "output_type": "stream",
     "text": [
      "We have 203750 users\n",
      "We have 24174 movies\n",
      "We have 1110137 train ratings\n",
      "We have 277535 test ratings\n",
      "We have 740091 grid search train ratings for each of 3 folds\n",
      "We have 370046 grid search validate ratings for each of 3 folds\n"
     ]
    }
   ],
   "source": [
    "# ratingsDataPath = 'data-medium/ratings_8326033.csv'\n",
    "ratingsDataPath = 'data-medium/ratings_1387672.csv'\n",
    "# ratingsDataPath = 'ml-latest-small/ratings.csv'\n",
    "\n",
    "ratingsDF = pd.read_csv(ratingsDataPath)\n",
    "ratingsDF = ratingsDF[['userId', 'movieId', 'rating']]\n",
    "\n",
    "# Alter ratings to work better for our model\n",
    "ratingsDF['rating'] = ratingsDF['rating'].apply(lambda x: x - 2.9)\n",
    "\n",
    "ratingsDF['userId'] = ratingsDF['userId'].astype('int32')\n",
    "ratingsDF['movieId'] = ratingsDF['movieId'].astype('int32')\n",
    "\n",
    "userIds = ratingsDF['userId'].unique()\n",
    "movieIds = ratingsDF['movieId'].unique()\n",
    "\n",
    "movieIdToIndex = {}\n",
    "for index, movieId in enumerate(movieIds):\n",
    "  movieIdToIndex[movieId] = index\n",
    "\n",
    "userIdToIndex = {}\n",
    "for index, userId in enumerate(userIds):\n",
    "  userIdToIndex[userId] = index\n",
    "\n",
    "ratingsTrainDF, ratingsTestDF = model_selection.train_test_split(ratingsDF, test_size=0.2, random_state=324)\n",
    "\n",
    "# We want to do k-fold validation, so we create k differen't versions of the data\n",
    "ratingsTrainArray = ratingsTrainDF.values\n",
    "\n",
    "k = 3\n",
    "trainValidateArrays = []\n",
    "kFold = KFold(n_splits=k, random_state=299, shuffle=True)\n",
    "for train_index, test_index in kFold.split(ratingsTrainArray):\n",
    "  ratingsTrainGridSearch, ratingsValidateGridSearch = ratingsTrainArray[train_index], ratingsTrainArray[test_index]\n",
    "  trainValidateArrays.append((ratingsTrainGridSearch, ratingsValidateGridSearch))\n",
    "# ratingsTrainGridSearchDF, ratingsValidateGridSearchDF = model_selection.train_test_split(ratingsTrainDF, test_size=0.2, random_state=773)\n",
    "\n",
    "print('We have {} users'.format(len(userIds)))\n",
    "print('We have {} movies'.format(len(movieIds)))\n",
    "print('We have {} train ratings'.format(len(ratingsTrainDF)))\n",
    "print('We have {} test ratings'.format(len(ratingsTestDF)))\n",
    "print('We have {} grid search train ratings for each of {} folds'.format(len(trainValidateArrays[0][0]), k))\n",
    "print('We have {} grid search validate ratings for each of {} folds'.format(len(trainValidateArrays[0][1]), k))"
   ]
  },
  {
   "cell_type": "code",
   "execution_count": 7,
   "metadata": {
    "colab": {
     "base_uri": "https://localhost:8080/",
     "height": 204
    },
    "colab_type": "code",
    "id": "lwWtcTxsNKa2",
    "outputId": "3d329772-4c23-4c3a-ce11-5719ad1c66d2"
   },
   "outputs": [
    {
     "data": {
      "text/html": [
       "<div>\n",
       "<style scoped>\n",
       "    .dataframe tbody tr th:only-of-type {\n",
       "        vertical-align: middle;\n",
       "    }\n",
       "\n",
       "    .dataframe tbody tr th {\n",
       "        vertical-align: top;\n",
       "    }\n",
       "\n",
       "    .dataframe thead th {\n",
       "        text-align: right;\n",
       "    }\n",
       "</style>\n",
       "<table border=\"1\" class=\"dataframe\">\n",
       "  <thead>\n",
       "    <tr style=\"text-align: right;\">\n",
       "      <th></th>\n",
       "      <th>userId</th>\n",
       "      <th>movieId</th>\n",
       "      <th>rating</th>\n",
       "    </tr>\n",
       "  </thead>\n",
       "  <tbody>\n",
       "    <tr>\n",
       "      <th>1385920</th>\n",
       "      <td>258790</td>\n",
       "      <td>594</td>\n",
       "      <td>-0.4</td>\n",
       "    </tr>\n",
       "    <tr>\n",
       "      <th>18532</th>\n",
       "      <td>211231</td>\n",
       "      <td>2797</td>\n",
       "      <td>-0.4</td>\n",
       "    </tr>\n",
       "    <tr>\n",
       "      <th>784929</th>\n",
       "      <td>198557</td>\n",
       "      <td>356</td>\n",
       "      <td>1.1</td>\n",
       "    </tr>\n",
       "    <tr>\n",
       "      <th>812525</th>\n",
       "      <td>266597</td>\n",
       "      <td>166486</td>\n",
       "      <td>0.1</td>\n",
       "    </tr>\n",
       "    <tr>\n",
       "      <th>608720</th>\n",
       "      <td>191893</td>\n",
       "      <td>434</td>\n",
       "      <td>1.1</td>\n",
       "    </tr>\n",
       "  </tbody>\n",
       "</table>\n",
       "</div>"
      ],
      "text/plain": [
       "         userId  movieId  rating\n",
       "1385920  258790      594    -0.4\n",
       "18532    211231     2797    -0.4\n",
       "784929   198557      356     1.1\n",
       "812525   266597   166486     0.1\n",
       "608720   191893      434     1.1"
      ]
     },
     "execution_count": 7,
     "metadata": {},
     "output_type": "execute_result"
    }
   ],
   "source": [
    "ratingsTrainDF.head()"
   ]
  },
  {
   "cell_type": "code",
   "execution_count": 8,
   "metadata": {
    "colab": {
     "base_uri": "https://localhost:8080/",
     "height": 170
    },
    "colab_type": "code",
    "id": "r8cYXga6Kjt4",
    "outputId": "33fd3f85-158c-4b31-8552-50dd510dbe38"
   },
   "outputs": [
    {
     "data": {
      "text/plain": [
       "array([[ 2.11231e+05,  2.79700e+03, -4.00000e-01],\n",
       "       [ 1.98557e+05,  3.56000e+02,  1.10000e+00],\n",
       "       [ 1.91893e+05,  4.34000e+02,  1.10000e+00],\n",
       "       [ 4.16520e+04,  1.56900e+03, -1.90000e+00],\n",
       "       [ 6.05000e+02,  1.25800e+03, -1.90000e+00],\n",
       "       [ 2.42800e+05,  5.39100e+03,  1.10000e+00],\n",
       "       [ 1.78749e+05,  5.52470e+04,  6.00000e-01],\n",
       "       [ 7.76090e+04,  6.11500e+03, -9.00000e-01],\n",
       "       [ 1.79327e+05,  4.69670e+04,  6.00000e-01]])"
      ]
     },
     "execution_count": 8,
     "metadata": {},
     "output_type": "execute_result"
    }
   ],
   "source": [
    "trainValidateArrays[0][0][1:10]"
   ]
  },
  {
   "cell_type": "markdown",
   "metadata": {
    "colab_type": "text",
    "id": "I1ppHISbiyv_"
   },
   "source": [
    "### Convert to Matrix"
   ]
  },
  {
   "cell_type": "code",
   "execution_count": 9,
   "metadata": {
    "colab": {
     "base_uri": "https://localhost:8080/",
     "height": 102
    },
    "colab_type": "code",
    "id": "Q3oHre0tVS1E",
    "outputId": "68206ec9-b266-4c0a-edcb-475905e4e4ee"
   },
   "outputs": [
    {
     "name": "stdout",
     "output_type": "stream",
     "text": [
      "Shape of X Train: (203750, 24174)\n",
      "Shape of X Test: (203750, 24174)\n",
      "\n",
      "Shape of each X Train: (203750, 24174)\n",
      "Shape of each X Validate: (203750, 24174)\n"
     ]
    }
   ],
   "source": [
    "def ratingsDFToUserMovieMatrix(ratingsDF, userIdToIndex, movieIdToIndex): \n",
    "  return ratingsArrayToUserMovieMatrix(ratingsDF.values, userIdToIndex, movieIdToIndex)\n",
    "\n",
    "def ratingsArrayToUserMovieMatrix(ratings, userIdToIndex, movieIdToIndex):\n",
    "  numUsers = len(userIdToIndex)\n",
    "  numMovies = len(movieIdToIndex)\n",
    "  \n",
    "  userMovieMatrix = np.zeros((numUsers, numMovies))\n",
    "  \n",
    "  for userId, movieId, rating in ratings:\n",
    "    userId = int(userId)\n",
    "    movieId = int(movieId)\n",
    "    rating = float(rating)\n",
    "    \n",
    "    userIndex = userIdToIndex[userId]\n",
    "    movieIndex = movieIdToIndex[movieId]\n",
    "    userMovieMatrix[userIndex, movieIndex] = rating\n",
    "    \n",
    "  \n",
    "  return coo_matrix(userMovieMatrix)\n",
    "\n",
    "\n",
    "XTrainValidateFolds = []\n",
    "for ratingsTrain, ratingsValidate in trainValidateArrays:\n",
    "  XTrain = ratingsArrayToUserMovieMatrix(ratingsTrain, userIdToIndex, movieIdToIndex)\n",
    "  XValidate = ratingsArrayToUserMovieMatrix(ratingsValidate, userIdToIndex, movieIdToIndex)\n",
    "  XTrainValidateFolds.append((XTrain, XValidate))\n",
    "\n",
    "\n",
    "print('Shape of each X Train: {}'.format(XTrainValidateFolds[0][0].shape))\n",
    "print('Shape of each X Validate: {}'.format(XTrainValidateFolds[0][1].shape))\n",
    "\n",
    "XTrain = ratingsArrayToUserMovieMatrix(ratingsTrainArray, userIdToIndex, movieIdToIndex)\n",
    "XTest = ratingsDFToUserMovieMatrix(ratingsTestDF, userIdToIndex, movieIdToIndex)\n",
    "\n",
    "print('')\n",
    "print('Shape of Total X Train: {}'.format(XTrain.shape))\n",
    "print('Shape of X Test: {}'.format(XTest.shape))"
   ]
  },
  {
   "cell_type": "markdown",
   "metadata": {
    "colab_type": "text",
    "id": "N-SA-VNz0pz4"
   },
   "source": [
    "# Find Baseline Score"
   ]
  },
  {
   "cell_type": "code",
   "execution_count": 10,
   "metadata": {
    "colab": {},
    "colab_type": "code",
    "id": "xULs4HlS99Ii"
   },
   "outputs": [],
   "source": [
    "def calculateAUC(userStats):\n",
    "  tp = userStats['tp']\n",
    "  fp = userStats['fp']\n",
    "  tn = userStats['tn']\n",
    "  fn = userStats['fn']\n",
    "  if tp + fn == 0 or tn + fp == 0:\n",
    "    return -5\n",
    "  tpr = tp / (tp + fn)\n",
    "  fpr = fp / (tn + fp)\n",
    "  auc = (tpr - fpr + 1) / 2\n",
    "  return auc"
   ]
  },
  {
   "cell_type": "code",
   "execution_count": 11,
   "metadata": {
    "colab": {
     "base_uri": "https://localhost:8080/",
     "height": 34
    },
    "colab_type": "code",
    "id": "tywOqOdp4rVm",
    "outputId": "24e77fbe-2f84-47ba-9c8f-e6e00a7c2ca4"
   },
   "outputs": [
    {
     "name": "stdout",
     "output_type": "stream",
     "text": [
      "Our baseline AUC is 0.10802340452518355\n"
     ]
    }
   ],
   "source": [
    "averageMovieRatings = np.asarray(np.mean(XTrain, axis=0))[0]\n",
    "\n",
    "numUsers = XTest.shape[0]\n",
    "numMovies = XTest.shape[1]\n",
    "\n",
    "\n",
    "startingStats = {\n",
    "  'tp': 0,\n",
    "  'fp': 0,\n",
    "  'tn': 0,\n",
    "  'fn': 0\n",
    "}\n",
    "\n",
    "currentUserIndex = -1\n",
    "currentUserStats = {**startingStats}\n",
    "aucPerUser = np.zeros(numUsers)\n",
    "\n",
    "for userIndex,movieIndex,ratingActual in zip(XTest.row, XTest.col, XTest.data):\n",
    "  if userIndex != currentUserIndex:\n",
    "    aucPerUser[currentUserIndex] = calculateAUC(currentUserStats)\n",
    "    currentUserStats = {**startingStats}\n",
    "    currentUserIndex = userIndex\n",
    "  \n",
    "  if ratingActual != 0:\n",
    "    ratingPredicted = averageMovieRatings[movieIndex]\n",
    "    if ratingActual > 0:\n",
    "      if ratingPredicted > 0:\n",
    "        currentUserStats['tp'] += 1\n",
    "      else:\n",
    "        currentUserStats['fn'] += 1\n",
    "    else:\n",
    "      if ratingPredicted > 0:\n",
    "        currentUserStats['fp'] += 1\n",
    "      else:\n",
    "        currentUserStats['tn'] += 1\n",
    "\n",
    "aucPerUser = [auc for auc in aucPerUser if auc != -5]\n",
    "baselineAUC = np.mean(aucPerUser)\n",
    "print('Our baseline AUC is {}'.format(baselineAUC))"
   ]
  },
  {
   "cell_type": "markdown",
   "metadata": {
    "colab_type": "text",
    "id": "OJ5XGOkCi5xt"
   },
   "source": [
    "# Run Grid Search"
   ]
  },
  {
   "cell_type": "code",
   "execution_count": 12,
   "metadata": {
    "colab": {},
    "colab_type": "code",
    "id": "q5WF_ACA4VxH"
   },
   "outputs": [],
   "source": [
    "def runModel(params, XTrain, XTest, numEpochs):\n",
    "  model = LightFM(**params)\n",
    "  \n",
    "  startTime = time()\n",
    "  model.fit(XTrain, epochs=numEpochs)\n",
    "  \n",
    "  totalTime = time() - startTime\n",
    "\n",
    "  train_auc = auc_score(model, XTrain).mean()\n",
    "  test_auc = auc_score(model, XTest).mean()\n",
    "  \n",
    "  return train_auc, test_auc, totalTime"
   ]
  },
  {
   "cell_type": "code",
   "execution_count": 13,
   "metadata": {
    "colab": {},
    "colab_type": "code",
    "id": "nPP7-8qL6CEX"
   },
   "outputs": [],
   "source": [
    "gridSearchParams = {\n",
    "    'learning_rate': [0.05, 0.1, 0.15],\n",
    "    'loss': ['bpr', 'warp', 'warp-kos'],\n",
    "    'learning_schedule': ['adagrad', 'adadelta'],\n",
    "    'no_components': [5, 8, 10, 14],\n",
    "    'item_alpha': [0.0, 0.0001, 0.001, 0.01],\n",
    "    'user_alpha': [0.0, 0.0001, 0.001, 0.01],\n",
    "}\n",
    "\n",
    "def gridSearch(gridSearchParams, XTrainValidateFolds):\n",
    "  numEpochs = 3\n",
    "  \n",
    "  gridSearchResults = {}\n",
    "  for gridSearchParam, paramValues in gridSearchParams.items():\n",
    "    print('')\n",
    "    print('Running for parameter: {}'.format(gridSearchParam))\n",
    "    gridSearchResults[gridSearchParam] = []\n",
    "    for paramValue in paramValues:\n",
    "      print('Running for parameter value: {}'.format(paramValue))\n",
    "      params = {\n",
    "          gridSearchParam: paramValue\n",
    "      }\n",
    "      \n",
    "      trainAUCs = []\n",
    "      testAUCs = []\n",
    "      times = []\n",
    "      for XTrain, XValidate in XTrainValidateFolds:\n",
    "        trainAUC, testAUC, time = runModel(params, XTrain, XValidate, numEpochs)\n",
    "        trainAUCs.append(trainAUC)\n",
    "        testAUCs.append(testAUC)\n",
    "        times.append(time)\n",
    "      \n",
    "      \n",
    "      result = {\n",
    "          'value': paramValue,\n",
    "          'train_auc': np.mean(trainAUCs),\n",
    "          'test_auc': np.mean(testAUC),\n",
    "          'time': np.mean(time),\n",
    "      }\n",
    "      gridSearchResults[gridSearchParam].append(result)\n",
    "        \n",
    "  return gridSearchResults"
   ]
  },
  {
   "cell_type": "code",
   "execution_count": 14,
   "metadata": {
    "colab": {
     "base_uri": "https://localhost:8080/",
     "height": 136
    },
    "colab_type": "code",
    "id": "11Kr4x5Ye9xK",
    "outputId": "f3b03048-07c8-4b55-d226-3e3c9915e79a"
   },
   "outputs": [
    {
     "name": "stdout",
     "output_type": "stream",
     "text": [
      "Running for parameter: learning_rate\n",
      "Running for parameter: loss\n",
      "Running for parameter: learning_schedule\n",
      "Running for parameter: no_components\n",
      "Running for parameter: item_alpha\n",
      "Running for parameter: user_alpha\n",
      "\n",
      "{'learning_rate': [{'value': 0.05, 'train_auc': 0.91217804, 'test_auc': 0.9080754, 'time': 2.4245808124542236}, {'value': 0.1, 'train_auc': 0.8985498, 'test_auc': 0.8954912, 'time': 2.4444241523742676}, {'value': 0.15, 'train_auc': 0.8761795, 'test_auc': 0.8829375, 'time': 2.9925239086151123}], 'loss': [{'value': 'bpr', 'train_auc': 0.72418404, 'test_auc': 0.7120526, 'time': 2.4355180263519287}, {'value': 'warp', 'train_auc': 0.96770805, 'test_auc': 0.95011705, 'time': 2.988554000854492}, {'value': 'warp-kos', 'train_auc': 0.9737305, 'test_auc': 0.9446754, 'time': 4.6286139488220215}], 'learning_schedule': [{'value': 'adagrad', 'train_auc': 0.91225004, 'test_auc': 0.90811515, 'time': 1.972306251525879}, {'value': 'adadelta', 'train_auc': 0.92191696, 'test_auc': 0.9173852, 'time': 2.802922010421753}], 'no_components': [{'value': 5, 'train_auc': 0.9123129, 'test_auc': 0.9079264, 'time': 1.8691151142120361}, {'value': 8, 'train_auc': 0.91232395, 'test_auc': 0.90827155, 'time': 1.9574337005615234}, {'value': 10, 'train_auc': 0.912206, 'test_auc': 0.9079811, 'time': 2.3452672958374023}, {'value': 14, 'train_auc': 0.91223305, 'test_auc': 0.9082588, 'time': 2.599480152130127}], 'item_alpha': [{'value': 0.0, 'train_auc': 0.9122394, 'test_auc': 0.9081243, 'time': 2.285921096801758}, {'value': 0.0001, 'train_auc': 0.89195687, 'test_auc': 0.89838284, 'time': 2.281958818435669}, {'value': 0.001, 'train_auc': 0.7519579, 'test_auc': 0.7272721, 'time': 2.239029884338379}, {'value': 0.01, 'train_auc': 0.75573164, 'test_auc': 0.7479396, 'time': 2.295742988586426}], 'user_alpha': [{'value': 0.0, 'train_auc': 0.9122825, 'test_auc': 0.908072, 'time': 2.146152973175049}, {'value': 0.0001, 'train_auc': 0.90856785, 'test_auc': 0.9040808, 'time': 1.8433289527893066}, {'value': 0.001, 'train_auc': 0.89363307, 'test_auc': 0.88950187, 'time': 2.3188869953155518}, {'value': 0.01, 'train_auc': 0.915474, 'test_auc': 0.91136026, 'time': 2.303194284439087}]}\n",
      "Total time: 267.21 minutes\n"
     ]
    }
   ],
   "source": [
    "startTime = time()\n",
    "\n",
    "gridSearchResults = gridSearch(gridSearchParams, XTrainValidateFolds)\n",
    "print('')\n",
    "print(gridSearchResults)\n",
    "# downloadCSVFile(gridSearchResults, 'gridSearchResults.csv')\n",
    "\n",
    "totalTime = time() - startTime\n",
    "if totalTime > 3600:\n",
    "    print('Total time: {:0.2f} hours'.format(totalTime / 3600))\n",
    "elif totalTime > 60:\n",
    "    print('Total time: {:0.2f} minutes'.format(totalTime / 60))\n",
    "else:\n",
    "    print('Total time: {:0.2f} seconds'.format(totalTime))"
   ]
  },
  {
   "cell_type": "code",
   "execution_count": 15,
   "metadata": {
    "colab": {
     "base_uri": "https://localhost:8080/",
     "height": 221
    },
    "colab_type": "code",
    "id": "jb5dF-0LfoOm",
    "outputId": "d9595c9a-0c2c-4c89-fb75-a971458187db"
   },
   "outputs": [
    {
     "name": "stdout",
     "output_type": "stream",
     "text": [
      "Best AUC for learning_rate is: 0.9080753922462463\n",
      "Best AUC for loss is: 0.9501170516014099\n",
      "Best AUC for learning_schedule is: 0.9173852205276489\n",
      "Best AUC for no_components is: 0.9082715511322021\n",
      "Best AUC for item_alpha is: 0.9081243276596069\n",
      "Best AUC for user_alpha is: 0.9113602638244629\n"
     ]
    },
    {
     "data": {
      "text/plain": [
       "{'item_alpha': 0.0,\n",
       " 'learning_rate': 0.05,\n",
       " 'learning_schedule': 'adadelta',\n",
       " 'loss': 'warp',\n",
       " 'no_components': 8,\n",
       " 'user_alpha': 0.01}"
      ]
     },
     "execution_count": 15,
     "metadata": {},
     "output_type": "execute_result"
    }
   ],
   "source": [
    "def extractBestParams(gridSearchResults):\n",
    "  bestParams = {}\n",
    "  \n",
    "  for parameter, parameterResults in gridSearchResults.items():\n",
    "    bestIndex = 0\n",
    "    bestAUC = parameterResults[0]['test_auc']\n",
    "\n",
    "    for index, stats in enumerate(parameterResults):\n",
    "      if stats['test_auc'] > bestAUC:\n",
    "        bestAUC = stats['test_auc']\n",
    "        bestIndex = index\n",
    "    \n",
    "    bestStats = parameterResults[bestIndex]\n",
    "    bestParams[parameter] = bestStats['value']\n",
    "  \n",
    "    print('Best AUC for {} is: {}'.format(parameter, bestAUC))\n",
    "  return bestParams\n",
    "\n",
    "bestParams = extractBestParams(gridSearchResults)\n",
    "bestParams"
   ]
  },
  {
   "cell_type": "code",
   "execution_count": 16,
   "metadata": {
    "colab": {
     "base_uri": "https://localhost:8080/",
     "height": 4325
    },
    "colab_type": "code",
    "id": "ck1uk4lQx5WW",
    "outputId": "8c54d6c3-6ec9-4261-d08d-10910935622e"
   },
   "outputs": [
    {
     "data": {
      "image/png": "[encoded data removed]",
      "text/plain": [
       "<Figure size 432x288 with 1 Axes>"
      ]
     },
     "metadata": {
      "needs_background": "light"
     },
     "output_type": "display_data"
    },
    {
     "data": {
      "image/png": "[encoded data removed]",
      "text/plain": [
       "<Figure size 432x288 with 1 Axes>"
      ]
     },
     "metadata": {
      "needs_background": "light"
     },
     "output_type": "display_data"
    },
    {
     "data": {
      "image/png": "[encoded data removed]",
      "text/plain": [
       "<Figure size 432x288 with 1 Axes>"
      ]
     },
     "metadata": {
      "needs_background": "light"
     },
     "output_type": "display_data"
    },
    {
     "data": {
      "image/png": "[encoded data removed]",
      "text/plain": [
       "<Figure size 432x288 with 1 Axes>"
      ]
     },
     "metadata": {
      "needs_background": "light"
     },
     "output_type": "display_data"
    },
    {
     "data": {
      "image/png": "[encoded data removed]",
      "text/plain": [
       "<Figure size 432x288 with 1 Axes>"
      ]
     },
     "metadata": {
      "needs_background": "light"
     },
     "output_type": "display_data"
    },
    {
     "data": {
      "image/png": "[encoded data removed]",
      "text/plain": [
       "<Figure size 432x288 with 1 Axes>"
      ]
     },
     "metadata": {
      "needs_background": "light"
     },
     "output_type": "display_data"
    },
    {
     "data": {
      "image/png": "[encoded data removed]",
      "text/plain": [
       "<Figure size 432x288 with 1 Axes>"
      ]
     },
     "metadata": {
      "needs_background": "light"
     },
     "output_type": "display_data"
    },
    {
     "data": {
      "image/png": "[encoded data removed]",
      "text/plain": [
       "<Figure size 432x288 with 1 Axes>"
      ]
     },
     "metadata": {
      "needs_background": "light"
     },
     "output_type": "display_data"
    },
    {
     "data": {
      "image/png": "[encoded data removed]",
      "text/plain": [
       "<Figure size 432x288 with 1 Axes>"
      ]
     },
     "metadata": {
      "needs_background": "light"
     },
     "output_type": "display_data"
    },
    {
     "data": {
      "image/png": "[encoded data removed]",
      "text/plain": [
       "<Figure size 432x288 with 1 Axes>"
      ]
     },
     "metadata": {
      "needs_background": "light"
     },
     "output_type": "display_data"
    },
    {
     "data": {
      "image/png": "[encoded data removed]",
      "text/plain": [
       "<Figure size 432x288 with 1 Axes>"
      ]
     },
     "metadata": {
      "needs_background": "light"
     },
     "output_type": "display_data"
    },
    {
     "data": {
      "image/png": "[encoded data removed]",
      "text/plain": [
       "<Figure size 432x288 with 1 Axes>"
      ]
     },
     "metadata": {
      "needs_background": "light"
     },
     "output_type": "display_data"
    }
   ],
   "source": [
    "def plotGridSearchResults(gridSearchResults):\n",
    "  for param, paramResults in gridSearchResults.items():\n",
    "    gridSearchDF = pd.DataFrame(paramResults)\n",
    "   \n",
    "    barWidth = 0.3\n",
    "    barSpace = 0.16\n",
    "    _X = np.arange(len(gridSearchDF['value']))\n",
    "    plt.bar(_X - barSpace, gridSearchDF['train_auc'], barWidth, color='blue')\n",
    "    plt.bar(_X + barSpace, gridSearchDF['test_auc'], barWidth, color='green')\n",
    "    plt.xticks(_X, gridSearchDF['value'])\n",
    "    plt.title('AUC -- {}'.format(param))\n",
    "    plt.ylabel('AUC')\n",
    "    plt.xlabel(param)\n",
    "    plt.legend(['train', 'test'], loc='best')\n",
    "    plt.show()\n",
    "\n",
    "    plt.bar(_X, gridSearchDF['time'], barWidth, color='red')\n",
    "    plt.xticks(_X, gridSearchDF['value'])\n",
    "    plt.title('Time -- {}'.format('time'))\n",
    "    plt.ylabel('Time')\n",
    "    plt.xlabel(param)\n",
    "    plt.legend(['train'], loc='best')\n",
    "    plt.show()\n",
    "  \n",
    "plotGridSearchResults(gridSearchResults)"
   ]
  },
  {
   "cell_type": "markdown",
   "metadata": {
    "colab_type": "text",
    "id": "bcxWq7S3V4QZ"
   },
   "source": [
    "## Find Best Number of Epochs"
   ]
  },
  {
   "cell_type": "code",
   "execution_count": 18,
   "metadata": {
    "colab": {},
    "colab_type": "code",
    "id": "0S0Fi_CcCsC_"
   },
   "outputs": [],
   "source": [
    "def runModelOverEpochs(params, XTrain, XTest, maxEpochs): \n",
    "  model = LightFM(**params)\n",
    "  results = []\n",
    "  \n",
    "  runningTotalTime = 0\n",
    "  for epoch in range(1, maxEpochs + 1):\n",
    "    print('Epoch {}'.format(epoch))\n",
    "    startTime = time()\n",
    "    model.fit_partial(XTrain)\n",
    "    totalTime = time() - startTime\n",
    "    runningTotalTime += totalTime\n",
    "    train_auc = auc_score(model, XTrain).mean()\n",
    "    test_auc = auc_score(model, XTest).mean()\n",
    "    results.append((train_auc, test_auc, runningTotalTime, epoch))\n",
    "  return results"
   ]
  },
  {
   "cell_type": "code",
   "execution_count": 19,
   "metadata": {
    "colab": {},
    "colab_type": "code",
    "id": "qJEJ0qwNV8tt"
   },
   "outputs": [],
   "source": [
    "def epochSearch(XTrain, XValidate, maxEpochs):\n",
    "  \n",
    "  modelResults = runModelOverEpochs(bestParams, XTrain, XValidate, maxEpochs)\n",
    "  \n",
    "  epochSearchResults = []\n",
    "  for train_auc, test_auc, time, epoch in modelResults:\n",
    "    epochSearchResults.append({\n",
    "        'train_auc': train_auc,\n",
    "        'test_auc': test_auc,\n",
    "        'epoch': epoch,\n",
    "        'time': time,\n",
    "    })\n",
    "    \n",
    "#   print(epochSearchResults)\n",
    "  return epochSearchResults"
   ]
  },
  {
   "cell_type": "code",
   "execution_count": 20,
   "metadata": {
    "colab": {
     "base_uri": "https://localhost:8080/",
     "height": 34
    },
    "colab_type": "code",
    "id": "QLD2UKNmCU19",
    "outputId": "58182f24-b59a-4115-a1ae-0469677012fa"
   },
   "outputs": [
    {
     "name": "stdout",
     "output_type": "stream",
     "text": [
      "Running fold: 1\n",
      "Running fold: 2\n",
      "Running fold: 3\n",
      "Total time: 252.84 minutes\n"
     ]
    }
   ],
   "source": [
    "startTime = time()\n",
    "\n",
    "maxEpochs = 20\n",
    "epochSearchResults = []\n",
    "fold = 1\n",
    "for XTrain, XValidate in XTrainValidateFolds:\n",
    "  print('Running fold: {}'.format(fold))\n",
    "  epochSearchResults.append(epochSearch(XTrain, XValidate, maxEpochs))\n",
    "  fold += 1\n",
    "#   downloadCSVFile(epochSearchResults, 'epochSearchResults.csv')\n",
    "\n",
    "totalTime = time() - startTime\n",
    "if totalTime > 60:\n",
    "    print('Total time: {:0.2f} minutes'.format(totalTime / 60))\n",
    "else:\n",
    "    print('Total time: {:0.2f} seconds'.format(totalTime))"
   ]
  },
  {
   "cell_type": "code",
   "execution_count": 21,
   "metadata": {
    "colab": {
     "base_uri": "https://localhost:8080/",
     "height": 102
    },
    "colab_type": "code",
    "id": "mHx0qwXkGPmN",
    "outputId": "bccbe46b-94a4-4c0a-ab9f-a5f29a18b300"
   },
   "outputs": [
    {
     "name": "stdout",
     "output_type": "stream",
     "text": [
      "The best number of Epochs for fold 1 is 2\n",
      "The best number of Epochs for fold 2 is 2\n",
      "The best number of Epochs for fold 3 is 3\n",
      "\n",
      "The best number of Epochs overall is 2\n"
     ]
    }
   ],
   "source": [
    "def findBestEpoch(epochSearchResults):\n",
    "  previousAUC = -10\n",
    "  threshold = 0.001 # If AUC doesn't increase by this much, it's not worth the extra time to run this epoch\n",
    "  \n",
    "  for result in epochSearchResults:\n",
    "    testAUC = result['test_auc']\n",
    "    if testAUC > previousAUC + threshold:\n",
    "      previousAUC = testAUC\n",
    "    else:\n",
    "      epoch = result['epoch']\n",
    "      return epoch - 1\n",
    "    \n",
    "bestEpochs = []\n",
    "for index, epochSearchResult in enumerate(epochSearchResults):\n",
    "  bestEpochFold = findBestEpoch(epochSearchResult)\n",
    "  bestEpochs.append(bestEpochFold)\n",
    "  print('The best number of Epochs for fold {} is {}'.format(index + 1, bestEpochFold))\n",
    "\n",
    "bestEpoch = int(np.median(bestEpochs))\n",
    "print('')\n",
    "print('The best number of Epochs overall is {}'.format(bestEpoch))"
   ]
  },
  {
   "cell_type": "code",
   "execution_count": 22,
   "metadata": {
    "colab": {
     "base_uri": "https://localhost:8080/",
     "height": 2171
    },
    "colab_type": "code",
    "id": "cnf2_Nr1EJOi",
    "outputId": "8a7e6650-dc34-4829-cc9f-5b51802681a1"
   },
   "outputs": [
    {
     "data": {
      "image/png": "[encoded data removed]",
      "text/plain": [
       "<Figure size 432x288 with 1 Axes>"
      ]
     },
     "metadata": {
      "needs_background": "light"
     },
     "output_type": "display_data"
    },
    {
     "data": {
      "image/png": "[encoded data removed]",
      "text/plain": [
       "<Figure size 432x288 with 1 Axes>"
      ]
     },
     "metadata": {
      "needs_background": "light"
     },
     "output_type": "display_data"
    },
    {
     "data": {
      "image/png": "[encoded data removed]",
      "text/plain": [
       "<Figure size 432x288 with 1 Axes>"
      ]
     },
     "metadata": {
      "needs_background": "light"
     },
     "output_type": "display_data"
    },
    {
     "data": {
      "image/png": "[encoded data removed]",
      "text/plain": [
       "<Figure size 432x288 with 1 Axes>"
      ]
     },
     "metadata": {
      "needs_background": "light"
     },
     "output_type": "display_data"
    },
    {
     "data": {
      "image/png": "[encoded data removed]",
      "text/plain": [
       "<Figure size 432x288 with 1 Axes>"
      ]
     },
     "metadata": {
      "needs_background": "light"
     },
     "output_type": "display_data"
    },
    {
     "data": {
      "image/png": "[encoded data removed]",
      "text/plain": [
       "<Figure size 432x288 with 1 Axes>"
      ]
     },
     "metadata": {
      "needs_background": "light"
     },
     "output_type": "display_data"
    }
   ],
   "source": [
    "def plotEpochSearchResults(epochSearchResults):\n",
    "  for epochSearchResult in epochSearchResults:\n",
    "    epochSearchDF = pd.DataFrame(epochSearchResult)\n",
    "    plt.plot(epochSearchDF['epoch'], epochSearchDF['train_auc'], color='blue')\n",
    "    plt.scatter(epochSearchDF['epoch'], epochSearchDF['train_auc'], color='blue')\n",
    "    plt.plot(epochSearchDF['epoch'], epochSearchDF['test_auc'], color='green')\n",
    "    plt.scatter(epochSearchDF['epoch'], epochSearchDF['test_auc'], color='green')\n",
    "    plt.title('AUC -- Epochs')\n",
    "    plt.ylabel('AUC')\n",
    "    plt.xlabel('Epoch')\n",
    "    plt.legend(['train', 'test'], loc='best')\n",
    "    plt.show()\n",
    "\n",
    "    plt.plot(epochSearchDF['epoch'], epochSearchDF['time'], color='red')\n",
    "    plt.scatter(epochSearchDF['epoch'], epochSearchDF['time'], color='red')\n",
    "    plt.title('Time -- Epochs')\n",
    "    plt.ylabel('Time')\n",
    "    plt.xlabel('Epoch')\n",
    "    plt.legend(['train'], loc='best')\n",
    "    plt.show()\n",
    "\n",
    "  \n",
    "plotEpochSearchResults(epochSearchResults)"
   ]
  },
  {
   "cell_type": "markdown",
   "metadata": {
    "colab_type": "text",
    "id": "mHKpyLy77IvI"
   },
   "source": [
    "# Sampling Amount of Data"
   ]
  },
  {
   "cell_type": "code",
   "execution_count": 23,
   "metadata": {
    "colab": {
     "base_uri": "https://localhost:8080/",
     "height": 34
    },
    "colab_type": "code",
    "id": "R8tRcWXv0BIy",
    "outputId": "f6544d79-639d-473f-b47f-946664b98c40"
   },
   "outputs": [
    {
     "data": {
      "text/plain": [
       "[222027, 444054, 666082, 888109, 1110137]"
      ]
     },
     "execution_count": 23,
     "metadata": {},
     "output_type": "execute_result"
    }
   ],
   "source": [
    "dataFractions = np.arange(0.2, 1.2, 0.2)\n",
    "numRatings = len(ratingsTrainDF)\n",
    "dataSizes = [int(fraction * numRatings) for fraction in dataFractions]\n",
    "dataSizes"
   ]
  },
  {
   "cell_type": "code",
   "execution_count": 24,
   "metadata": {
    "colab": {},
    "colab_type": "code",
    "id": "wacMRXoR-o2j"
   },
   "outputs": [],
   "source": [
    "def sizeSamplingSearch(dataSizes):\n",
    "  sizeSamplingResults = []\n",
    "\n",
    "  for numRatings in dataSizes:\n",
    "    print('Running for size: {}'.format(numRatings))\n",
    "    ratingsTrainDFSampled = ratingsTrainDF.sample(n=numRatings)\n",
    "    XTrain = ratingsDFToUserMovieMatrix(ratingsTrainDFSampled, userIdToIndex, movieIdToIndex)\n",
    "    train_auc, test_auc, totalTime = runModel(bestParams, XTrain, XTest, bestEpoch)\n",
    "    result = {\n",
    "        'numRatings': numRatings,\n",
    "        'train_auc': train_auc,\n",
    "        'test_auc': test_auc,\n",
    "        'time': totalTime,\n",
    "    }\n",
    "    sizeSamplingResults.append(result)\n",
    "\n",
    "  return sizeSamplingResults"
   ]
  },
  {
   "cell_type": "code",
   "execution_count": 25,
   "metadata": {
    "colab": {
     "base_uri": "https://localhost:8080/",
     "height": 102
    },
    "colab_type": "code",
    "id": "7mQkH7OmB7oL",
    "outputId": "5b1a0312-c40a-4a4e-d18d-407ab162a37c"
   },
   "outputs": [
    {
     "name": "stdout",
     "output_type": "stream",
     "text": [
      "Running for size: 222027\n",
      "Running for size: 444054\n",
      "Running for size: 666082\n",
      "Running for size: 888109\n",
      "Running for size: 1110137\n"
     ]
    }
   ],
   "source": [
    "sizeSamplingResults = sizeSamplingSearch(dataSizes)\n"
   ]
  },
  {
   "cell_type": "code",
   "execution_count": 26,
   "metadata": {
    "colab": {
     "base_uri": "https://localhost:8080/",
     "height": 735
    },
    "colab_type": "code",
    "id": "TQlm7kVqB9bF",
    "outputId": "d7e46571-a0ed-4c1b-db13-c3b2706e4336"
   },
   "outputs": [
    {
     "data": {
      "image/png": "[encoded data removed]",
      "text/plain": [
       "<Figure size 432x288 with 1 Axes>"
      ]
     },
     "metadata": {
      "needs_background": "light"
     },
     "output_type": "display_data"
    },
    {
     "data": {
      "image/png": "[encoded data removed]",
      "text/plain": [
       "<Figure size 432x288 with 1 Axes>"
      ]
     },
     "metadata": {
      "needs_background": "light"
     },
     "output_type": "display_data"
    }
   ],
   "source": [
    "def plotSizeSamplingResults(sizeSamplingResults):\n",
    "  sizeSamplingDF = pd.DataFrame(sizeSamplingResults)\n",
    "  \n",
    "  plt.scatter(sizeSamplingDF['numRatings'], sizeSamplingDF['train_auc'], color='blue')\n",
    "  plt.plot(sizeSamplingDF['numRatings'], sizeSamplingDF['train_auc'], color='blue')\n",
    "  plt.scatter(sizeSamplingDF['numRatings'], sizeSamplingDF['test_auc'], color='green')\n",
    "  plt.plot(sizeSamplingDF['numRatings'], sizeSamplingDF['test_auc'], color='green')\n",
    "  plt.title('AUC -- Number of Ratings')\n",
    "  plt.ylabel('AUC')\n",
    "  plt.xlabel('Number of Ratings')\n",
    "  plt.legend(['train', 'test'], loc='best')\n",
    "  plt.show()\n",
    "  \n",
    "  plt.scatter(sizeSamplingDF['numRatings'], sizeSamplingDF['time'], color='red')\n",
    "  plt.plot(sizeSamplingDF['numRatings'], sizeSamplingDF['time'], color='red')\n",
    "  plt.title('Time -- Number of Ratings')\n",
    "  plt.ylabel('Time')\n",
    "  plt.xlabel('Number of Ratings')\n",
    "  plt.legend(['train', 'test'], loc='best')\n",
    "  plt.show()\n",
    "  \n",
    "  \n",
    "plotSizeSamplingResults(sizeSamplingResults)"
   ]
  },
  {
   "cell_type": "code",
   "execution_count": null,
   "metadata": {
    "colab": {},
    "colab_type": "code",
    "id": "yYUb7usiJAZo"
   },
   "outputs": [],
   "source": []
  },
  {
   "cell_type": "markdown",
   "metadata": {
    "colab_type": "text",
    "id": "Y8wOv6zqTMRv"
   },
   "source": [
    "# Sample By Number of Users"
   ]
  },
  {
   "cell_type": "code",
   "execution_count": 27,
   "metadata": {
    "colab": {},
    "colab_type": "code",
    "id": "OWk9QiKunSMM"
   },
   "outputs": [],
   "source": [
    "def sortUsersByDensity(ratingsDF):\n",
    "  counts = ratingsDF['userId'].value_counts()\n",
    "  return np.asarray(counts.keys())"
   ]
  },
  {
   "cell_type": "code",
   "execution_count": 28,
   "metadata": {
    "colab": {
     "base_uri": "https://localhost:8080/",
     "height": 34
    },
    "colab_type": "code",
    "id": "WIprTpi1TPAG",
    "outputId": "ab14c9a9-ad54-48c3-8ea6-626c76cdd1b6"
   },
   "outputs": [
    {
     "data": {
      "text/plain": [
       "[40750, 81500, 122250, 163000, 203750]"
      ]
     },
     "execution_count": 28,
     "metadata": {},
     "output_type": "execute_result"
    }
   ],
   "source": [
    "numUsersTotal = len(userIds)\n",
    "userIdsByDensity = sortUsersByDensity(ratingsDF)\n",
    "userFractions = np.arange(0.2, 1.2, 0.2)\n",
    "userSizes = [int(fraction * numUsersTotal) for fraction in userFractions]\n",
    "userSizes"
   ]
  },
  {
   "cell_type": "code",
   "execution_count": 29,
   "metadata": {
    "colab": {},
    "colab_type": "code",
    "id": "5TOQTQpY6uzZ"
   },
   "outputs": [],
   "source": [
    "def userSamplingSearch(userSizes):\n",
    "  userSamplingResultsDense = []\n",
    "\n",
    "  for numUsers in userSizes:\n",
    "    print('Running for the most dense users of size: {}'.format(numUsers))\n",
    "    sampledUserIds = userIdsByDensity[:numUsers]\n",
    "    userIdToIndexSampled = {}\n",
    "    for index, userId in enumerate(sampledUserIds):\n",
    "      userIdToIndexSampled[userId] = index\n",
    "      \n",
    "    ratingsTrainDFSampled = ratingsTrainDF[ratingsTrainDF['userId'].isin(sampledUserIds)]\n",
    "    ratingsTestDFSampled = ratingsTestDF[ratingsTestDF['userId'].isin(sampledUserIds)]\n",
    "    \n",
    "    XTrain = ratingsDFToUserMovieMatrix(ratingsTrainDFSampled, userIdToIndexSampled, movieIdToIndex)\n",
    "    XTest = ratingsDFToUserMovieMatrix(ratingsTestDFSampled, userIdToIndexSampled, movieIdToIndex)\n",
    "    \n",
    "    train_auc, test_auc, totalTime = runModel(bestParams, XTrain, XTest, bestEpoch)\n",
    "    result = {\n",
    "        'numUsers': numUsers,\n",
    "        'train_auc': train_auc,\n",
    "        'test_auc': test_auc,\n",
    "        'time': totalTime,\n",
    "    }\n",
    "    userSamplingResultsDense.append(result)\n",
    "    \n",
    "    \n",
    "  userSamplingResultsSparse = []\n",
    "  \n",
    "  for numUsers in userSizes:\n",
    "    print('Running for the least dense users of size: {}'.format(numUsers))\n",
    "    sampledUserIds = userIdsByDensity[(numUsersTotal - numUsers):]\n",
    "    userIdToIndexSampled = {}\n",
    "    for index, userId in enumerate(sampledUserIds):\n",
    "      userIdToIndexSampled[userId] = index\n",
    "      \n",
    "    ratingsTrainDFSampled = ratingsTrainDF[ratingsTrainDF['userId'].isin(sampledUserIds)]\n",
    "    ratingsTestDFSampled = ratingsTestDF[ratingsTestDF['userId'].isin(sampledUserIds)]\n",
    "\n",
    "    \n",
    "    XTrain = ratingsDFToUserMovieMatrix(ratingsTrainDFSampled, userIdToIndexSampled, movieIdToIndex)\n",
    "    XTest = ratingsDFToUserMovieMatrix(ratingsTestDFSampled, userIdToIndexSampled, movieIdToIndex)\n",
    "    \n",
    "    train_auc, test_auc, totalTime = runModel(bestParams, XTrain, XTest, bestEpoch)\n",
    "    result = {\n",
    "        'numUsers': numUsers,\n",
    "        'train_auc': train_auc,\n",
    "        'test_auc': test_auc,\n",
    "        'time': totalTime,\n",
    "    }\n",
    "    userSamplingResultsSparse.append(result)\n",
    "\n",
    "  return userSamplingResultsDense, userSamplingResultsSparse"
   ]
  },
  {
   "cell_type": "code",
   "execution_count": 30,
   "metadata": {
    "colab": {
     "base_uri": "https://localhost:8080/",
     "height": 187
    },
    "colab_type": "code",
    "id": "xsLzLcOaAQsT",
    "outputId": "1b5113b8-c1b1-4a72-81da-60d223d1e5a2"
   },
   "outputs": [
    {
     "name": "stdout",
     "output_type": "stream",
     "text": [
      "Running for the most dense users of size: 40750\n",
      "Running for the most dense users of size: 81500\n",
      "Running for the most dense users of size: 122250\n",
      "Running for the most dense users of size: 163000\n",
      "Running for the most dense users of size: 203750\n",
      "Running for the least dense users of size: 40750\n",
      "Running for the least dense users of size: 81500\n",
      "Running for the least dense users of size: 122250\n",
      "Running for the least dense users of size: 163000\n",
      "Running for the least dense users of size: 203750\n"
     ]
    }
   ],
   "source": [
    "userSamplingResultsDense, userSamplingResultsSparse = userSamplingSearch(userSizes)\n",
    "# userSamplingResults"
   ]
  },
  {
   "cell_type": "code",
   "execution_count": 31,
   "metadata": {
    "colab": {
     "base_uri": "https://localhost:8080/",
     "height": 735
    },
    "colab_type": "code",
    "id": "mtMts6T1AT7R",
    "outputId": "1135df54-7919-4d4e-fb69-a3ffea49fd43"
   },
   "outputs": [
    {
     "data": {
      "image/png": "[encoded data removed]",
      "text/plain": [
       "<Figure size 432x288 with 1 Axes>"
      ]
     },
     "metadata": {
      "needs_background": "light"
     },
     "output_type": "display_data"
    },
    {
     "data": {
      "image/png": "[encoded data removed]",
      "text/plain": [
       "<Figure size 432x288 with 1 Axes>"
      ]
     },
     "metadata": {
      "needs_background": "light"
     },
     "output_type": "display_data"
    }
   ],
   "source": [
    "def plotUserSamplingResults(userSamplingResultsDense, userSamplingResultsSparse):\n",
    "  sizeSamplingDFDense = pd.DataFrame(userSamplingResultsDense)\n",
    "  sizeSamplingDFSparse = pd.DataFrame(userSamplingResultsSparse)\n",
    "  \n",
    "  plt.scatter(sizeSamplingDFDense['numUsers'], sizeSamplingDFDense['train_auc'], color='blue')\n",
    "  plt.scatter(sizeSamplingDFSparse['numUsers'], sizeSamplingDFSparse['train_auc'], color='#4f8ff7')\n",
    "  plt.scatter(sizeSamplingDFDense['numUsers'], sizeSamplingDFDense['test_auc'], color='green')\n",
    "  plt.scatter(sizeSamplingDFSparse['numUsers'], sizeSamplingDFSparse['test_auc'], color='#57f954')\n",
    "  plt.plot(sizeSamplingDFDense['numUsers'], sizeSamplingDFDense['train_auc'], color='blue')\n",
    "  plt.plot(sizeSamplingDFSparse['numUsers'], sizeSamplingDFSparse['train_auc'], color='#4f8ff7')\n",
    "  plt.plot(sizeSamplingDFDense['numUsers'], sizeSamplingDFDense['test_auc'], color='green')\n",
    "  plt.plot(sizeSamplingDFSparse['numUsers'], sizeSamplingDFSparse['test_auc'], color='#57f954')\n",
    "  plt.title('AUC -- Number of Users')\n",
    "  plt.ylabel('AUC')\n",
    "  plt.xlabel('Number of Users')\n",
    "  plt.legend(['train dense', 'train sparse', 'test dense', 'test sparse'], loc='best')\n",
    "  plt.show()\n",
    "  \n",
    "  plt.scatter(sizeSamplingDFDense['numUsers'], sizeSamplingDFDense['time'], color='blue')\n",
    "  plt.scatter(sizeSamplingDFSparse['numUsers'], sizeSamplingDFSparse['time'], color='#4f8ff7')\n",
    "  plt.plot(sizeSamplingDFDense['numUsers'], sizeSamplingDFDense['time'], color='blue')\n",
    "  plt.plot(sizeSamplingDFSparse['numUsers'], sizeSamplingDFSparse['time'], color='#4f8ff7')\n",
    "  plt.title('Time -- Number of Users')\n",
    "  plt.ylabel('Time')\n",
    "  plt.xlabel('Number of Users')\n",
    "  plt.legend( ['time'], loc='best')\n",
    "  plt.show()\n",
    " \n",
    "  \n",
    "plotUserSamplingResults(userSamplingResultsDense, userSamplingResultsSparse)"
   ]
  },
  {
   "cell_type": "markdown",
   "metadata": {
    "colab_type": "text",
    "id": "ywsfc21AzsT6"
   },
   "source": [
    "# Sample By Number Of Movies"
   ]
  },
  {
   "cell_type": "code",
   "execution_count": 32,
   "metadata": {
    "colab": {},
    "colab_type": "code",
    "id": "-9Opw_EQBcPF"
   },
   "outputs": [],
   "source": [
    "def sortMoviesByDensity(ratingsDF):\n",
    "  counts = ratingsDF['movieId'].value_counts()\n",
    "  return np.asarray(counts.keys())"
   ]
  },
  {
   "cell_type": "code",
   "execution_count": 33,
   "metadata": {
    "colab": {
     "base_uri": "https://localhost:8080/",
     "height": 34
    },
    "colab_type": "code",
    "id": "3d6gTa2oz3Bq",
    "outputId": "6789fe22-b7f2-44e0-9e68-e3e3778a71a2"
   },
   "outputs": [
    {
     "data": {
      "text/plain": [
       "[4834, 9669, 14504, 19339, 24174]"
      ]
     },
     "execution_count": 33,
     "metadata": {},
     "output_type": "execute_result"
    }
   ],
   "source": [
    "numMoviesTotal = len(movieIds)\n",
    "movieIdsByDensity = sortMoviesByDensity(ratingsDF)\n",
    "movieFractions = np.arange(0.2, 1.2, 0.2)\n",
    "movieSizes = [int(fraction * numMoviesTotal) for fraction in movieFractions]\n",
    "movieSizes"
   ]
  },
  {
   "cell_type": "code",
   "execution_count": 34,
   "metadata": {
    "colab": {},
    "colab_type": "code",
    "id": "7T3cnJcAz3eY"
   },
   "outputs": [],
   "source": [
    "def movieSamplingSearch(movieSizes):\n",
    "  movieSamplingResultsDense = []\n",
    "\n",
    "  for numMovies in movieSizes:\n",
    "    print('Running for the most dense movies of size: {}'.format(numMovies))\n",
    "    sampledMovieIds = movieIdsByDensity[:numMovies]\n",
    "    movieIdToIndexSampled = {}\n",
    "    for index, movieId in enumerate(sampledMovieIds):\n",
    "      movieIdToIndexSampled[movieId] = index\n",
    "      \n",
    "    ratingsTrainDFSampled = ratingsTrainDF[ratingsTrainDF['movieId'].isin(sampledMovieIds)]\n",
    "    ratingsTestDFSampled = ratingsTestDF[ratingsTestDF['movieId'].isin(sampledMovieIds)]\n",
    "    \n",
    "    XTrain = ratingsDFToUserMovieMatrix(ratingsTrainDFSampled, userIdToIndex, movieIdToIndexSampled)\n",
    "    XTest = ratingsDFToUserMovieMatrix(ratingsTestDFSampled, userIdToIndex, movieIdToIndexSampled)\n",
    "    \n",
    "    train_auc, test_auc, totalTime = runModel(bestParams, XTrain, XTest, bestEpoch)\n",
    "    result = {\n",
    "        'numMovies': numMovies,\n",
    "        'train_auc': train_auc,\n",
    "        'test_auc': test_auc,\n",
    "        'time': totalTime,\n",
    "    }\n",
    "    movieSamplingResultsDense.append(result)\n",
    "    \n",
    "    \n",
    "  movieSamplingResultsSparse = []\n",
    "  \n",
    "  for numMovies in movieSizes:\n",
    "    print('Running for the least dense movies of size: {}'.format(numMovies))\n",
    "    sampledMovieIds = movieIdsByDensity[(numMoviesTotal - numMovies):]\n",
    "    movieIdToIndexSampled = {}\n",
    "    for index, movieId in enumerate(sampledMovieIds):\n",
    "      movieIdToIndexSampled[movieId] = index\n",
    "      \n",
    "    ratingsTrainDFSampled = ratingsTrainDF[ratingsTrainDF['movieId'].isin(sampledMovieIds)]\n",
    "    ratingsTestDFSampled = ratingsTestDF[ratingsTestDF['movieId'].isin(sampledMovieIds)]\n",
    "\n",
    "    \n",
    "    XTrain = ratingsDFToUserMovieMatrix(ratingsTrainDFSampled, userIdToIndex, movieIdToIndexSampled)\n",
    "    XTest = ratingsDFToUserMovieMatrix(ratingsTestDFSampled, userIdToIndex, movieIdToIndexSampled)\n",
    "    \n",
    "    train_auc, test_auc, totalTime = runModel(bestParams, XTrain, XTest, bestEpoch)\n",
    "    result = {\n",
    "        'numMovies': numMovies,\n",
    "        'train_auc': train_auc,\n",
    "        'test_auc': test_auc,\n",
    "        'time': totalTime,\n",
    "    }\n",
    "    movieSamplingResultsSparse.append(result)\n",
    "\n",
    "  return movieSamplingResultsDense, movieSamplingResultsSparse"
   ]
  },
  {
   "cell_type": "code",
   "execution_count": 35,
   "metadata": {
    "colab": {
     "base_uri": "https://localhost:8080/",
     "height": 187
    },
    "colab_type": "code",
    "id": "y1ZfGalX1bgz",
    "outputId": "032395e5-2f7d-4b16-e5ca-c200a2dcd37a"
   },
   "outputs": [
    {
     "name": "stdout",
     "output_type": "stream",
     "text": [
      "Running for the most dense movies of size: 4834\n",
      "Running for the most dense movies of size: 9669\n",
      "Running for the most dense movies of size: 14504\n",
      "Running for the most dense movies of size: 19339\n",
      "Running for the most dense movies of size: 24174\n",
      "Running for the least dense movies of size: 4834\n",
      "Running for the least dense movies of size: 9669\n",
      "Running for the least dense movies of size: 14504\n",
      "Running for the least dense movies of size: 19339\n",
      "Running for the least dense movies of size: 24174\n"
     ]
    }
   ],
   "source": [
    "movieSamplingResultsDense, movieSamplingResultsSparse = movieSamplingSearch(movieSizes)\n",
    "# userSamplingResults"
   ]
  },
  {
   "cell_type": "code",
   "execution_count": 36,
   "metadata": {
    "colab": {
     "base_uri": "https://localhost:8080/",
     "height": 735
    },
    "colab_type": "code",
    "id": "KJuLQKWYz7ak",
    "outputId": "be3f11fe-d56b-461b-c502-326d1a78bfd8"
   },
   "outputs": [
    {
     "data": {
      "image/png": "[encoded data removed]",
      "text/plain": [
       "<Figure size 432x288 with 1 Axes>"
      ]
     },
     "metadata": {
      "needs_background": "light"
     },
     "output_type": "display_data"
    },
    {
     "data": {
      "image/png": "[encoded data removed]",
      "text/plain": [
       "<Figure size 432x288 with 1 Axes>"
      ]
     },
     "metadata": {
      "needs_background": "light"
     },
     "output_type": "display_data"
    }
   ],
   "source": [
    "def plotMovieSamplingResults(movieSamplingResultsDense, movieSamplingResultsSparse):\n",
    "  sizeSamplingDFDense = pd.DataFrame(movieSamplingResultsDense)\n",
    "  sizeSamplingDFSparse = pd.DataFrame(movieSamplingResultsSparse)\n",
    "  \n",
    "  plt.scatter(sizeSamplingDFDense['numMovies'], sizeSamplingDFDense['train_auc'], color='blue')\n",
    "  plt.scatter(sizeSamplingDFSparse['numMovies'], sizeSamplingDFSparse['train_auc'], color='#4f8ff7')\n",
    "  plt.scatter(sizeSamplingDFDense['numMovies'], sizeSamplingDFDense['test_auc'], color='green')\n",
    "  plt.scatter(sizeSamplingDFSparse['numMovies'], sizeSamplingDFSparse['test_auc'], color='#57f954')\n",
    "  plt.plot(sizeSamplingDFDense['numMovies'], sizeSamplingDFDense['train_auc'], color='blue')\n",
    "  plt.plot(sizeSamplingDFSparse['numMovies'], sizeSamplingDFSparse['train_auc'], color='#4f8ff7')\n",
    "  plt.plot(sizeSamplingDFDense['numMovies'], sizeSamplingDFDense['test_auc'], color='green')\n",
    "  plt.plot(sizeSamplingDFSparse['numMovies'], sizeSamplingDFSparse['test_auc'], color='#57f954')\n",
    "  plt.title('AUC -- Number of Movies')\n",
    "  plt.ylabel('AUC')\n",
    "  plt.xlabel('Number of Movies')\n",
    "  plt.legend(['train dense', 'train sparse', 'test dense', 'test sparse'], loc='best')\n",
    "  plt.show()\n",
    "  \n",
    "  plt.scatter(sizeSamplingDFDense['numMovies'], sizeSamplingDFDense['time'], color='blue')\n",
    "  plt.scatter(sizeSamplingDFSparse['numMovies'], sizeSamplingDFSparse['time'], color='#4f8ff7')\n",
    "  plt.plot(sizeSamplingDFDense['numMovies'], sizeSamplingDFDense['time'], color='blue')\n",
    "  plt.plot(sizeSamplingDFSparse['numMovies'], sizeSamplingDFSparse['time'], color='#4f8ff7')\n",
    "  plt.title('Time -- Number of Movies')\n",
    "  plt.ylabel('Time')\n",
    "  plt.xlabel('Number of Movies')\n",
    "  plt.legend( ['dense', 'sparse'], loc='best')\n",
    "  plt.show()\n",
    "  \n",
    "plotMovieSamplingResults(movieSamplingResultsDense, movieSamplingResultsSparse)"
   ]
  },
  {
   "cell_type": "code",
   "execution_count": null,
   "metadata": {
    "colab": {},
    "colab_type": "code",
    "id": "PmczEImD1MbH"
   },
   "outputs": [],
   "source": []
  },
  {
   "cell_type": "markdown",
   "metadata": {},
   "source": [
    "## Other Evaluation Metrics"
   ]
  },
  {
   "cell_type": "code",
   "execution_count": 40,
   "metadata": {},
   "outputs": [
    {
     "data": {
      "text/plain": [
       "<lightfm.lightfm.LightFM at 0x117546d30>"
      ]
     },
     "execution_count": 40,
     "metadata": {},
     "output_type": "execute_result"
    }
   ],
   "source": [
    "finalModel = LightFM(**bestParams)\n",
    "finalModel.fit(XTrain, epochs=bestEpoch)"
   ]
  },
  {
   "cell_type": "code",
   "execution_count": 43,
   "metadata": {},
   "outputs": [
    {
     "name": "stdout",
     "output_type": "stream",
     "text": [
      "The train precision is 0.013357476331293583\n",
      "The test precision is 0.0076100886799395084\n"
     ]
    }
   ],
   "source": [
    "precisionTrain = precision_at_k(finalModel, XTrain).mean()\n",
    "precisionTest = precision_at_k(finalModel, XTest).mean()\n",
    "\n",
    "print('The train precision is {}'.format(precisionTrain))\n",
    "print('The test precision is {}'.format(precisionTest))"
   ]
  },
  {
   "cell_type": "code",
   "execution_count": 44,
   "metadata": {},
   "outputs": [
    {
     "name": "stdout",
     "output_type": "stream",
     "text": [
      "The train recall is 0.050128746063251295\n",
      "The test recall is 0.043804286319119215\n"
     ]
    }
   ],
   "source": [
    "recallTrain = recall_at_k(finalModel, XTrain).mean()\n",
    "recallTest = recall_at_k(finalModel, XTest).mean()\n",
    "\n",
    "print('The train recall is {}'.format(recallTrain))\n",
    "print('The test recall is {}'.format(recallTest))"
   ]
  },
  {
   "cell_type": "code",
   "execution_count": 46,
   "metadata": {},
   "outputs": [
    {
     "name": "stdout",
     "output_type": "stream",
     "text": [
      "The train auc is 0.9547702670097351\n",
      "The test auc is 0.9492618441581726\n"
     ]
    }
   ],
   "source": [
    "aucTrain = auc_score(finalModel, XTrain).mean()\n",
    "aucTest = auc_score(finalModel, XTest).mean()\n",
    "\n",
    "print('The train auc is {}'.format(aucTrain))\n",
    "print('The test auc is {}'.format(aucTest))"
   ]
  },
  {
   "cell_type": "code",
   "execution_count": 50,
   "metadata": {},
   "outputs": [
    {
     "name": "stdout",
     "output_type": "stream",
     "text": [
      "The train reciprocalRank is 0.055595558136701584\n",
      "The test reciprocalRank is 0.0350869745016098\n"
     ]
    }
   ],
   "source": [
    "reciprocalRankTrain = reciprocal_rank(finalModel, XTrain).mean()\n",
    "reciprocalRankTest = reciprocal_rank(finalModel, XTest).mean()\n",
    "\n",
    "print('The train reciprocalRank is {}'.format(reciprocalRankTrain))\n",
    "print('The test reciprocalRank is {}'.format(reciprocalRankTest))"
   ]
  },
  {
   "cell_type": "code",
   "execution_count": null,
   "metadata": {},
   "outputs": [],
   "source": []
  },
  {
   "cell_type": "code",
   "execution_count": null,
   "metadata": {},
   "outputs": [],
   "source": []
  }
 ],
 "metadata": {
  "accelerator": "GPU",
  "colab": {
   "collapsed_sections": [],
   "name": "Personalization Project - FM.ipynb",
   "provenance": [],
   "version": "0.3.2"
  },
  "kernelspec": {
   "display_name": "Python 3",
   "language": "python",
   "name": "python3"
  },
  "language_info": {
   "codemirror_mode": {
    "name": "ipython",
    "version": 3
   },
   "file_extension": ".py",
   "mimetype": "text/x-python",
   "name": "python",
   "nbconvert_exporter": "python",
   "pygments_lexer": "ipython3",
   "version": "3.6.6"
  }
 },
 "nbformat": 4,
 "nbformat_minor": 1
}
