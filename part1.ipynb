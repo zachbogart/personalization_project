{
 "cells": [
  {
   "cell_type": "code",
   "execution_count": 53,
   "metadata": {
    "collapsed": true
   },
   "outputs": [],
   "source": [
    "import pandas as pd\n",
    "import numpy as np\n",
    "import implicit\n",
    "import nmslib\n",
    "from scipy.sparse import csr_matrix\n",
    "\n",
    "from surprise import NMF, KNNBasic, KNNWithMeans\n",
    "from surprise.model_selection import GridSearchCV\n",
    "from surprise import Dataset\n",
    "from surprise import Reader\n",
    "\n",
    "\n",
    "\n",
    "\n"
   ]
  },
  {
   "cell_type": "code",
   "execution_count": 2,
   "metadata": {},
   "outputs": [],
   "source": [
    "# dataFolder = 'ml-latest-small'\n",
    "dataFolder = 'ml-latest-small'\n",
    "links = pd.read_csv(dataFolder + '/links.csv')\n",
    "movies = pd.read_csv(dataFolder + '/movies.csv')\n",
    "ratings = pd.read_csv(dataFolder + '/ratings.csv')\n",
    "tags = pd.read_csv(dataFolder + '/tags.csv')"
   ]
  },
  {
   "cell_type": "code",
   "execution_count": 25,
   "metadata": {
    "collapsed": false
   },
   "outputs": [
    {
     "data": {
      "text/html": [
       "<div>\n",
       "<style scoped>\n",
       "    .dataframe tbody tr th:only-of-type {\n",
       "        vertical-align: middle;\n",
       "    }\n",
       "\n",
       "    .dataframe tbody tr th {\n",
       "        vertical-align: top;\n",
       "    }\n",
       "\n",
       "    .dataframe thead th {\n",
       "        text-align: right;\n",
       "    }\n",
       "</style>\n",
       "<table border=\"1\" class=\"dataframe\">\n",
       "  <thead>\n",
       "    <tr style=\"text-align: right;\">\n",
       "      <th></th>\n",
       "      <th>userId</th>\n",
       "      <th>movieId</th>\n",
       "      <th>rating</th>\n",
       "      <th>timestamp</th>\n",
       "    </tr>\n",
       "  </thead>\n",
       "  <tbody>\n",
       "    <tr>\n",
       "      <th>0</th>\n",
       "      <td>1</td>\n",
       "      <td>1</td>\n",
       "      <td>4.0</td>\n",
       "      <td>964982703</td>\n",
       "    </tr>\n",
       "    <tr>\n",
       "      <th>1</th>\n",
       "      <td>1</td>\n",
       "      <td>3</td>\n",
       "      <td>4.0</td>\n",
       "      <td>964981247</td>\n",
       "    </tr>\n",
       "    <tr>\n",
       "      <th>2</th>\n",
       "      <td>1</td>\n",
       "      <td>6</td>\n",
       "      <td>4.0</td>\n",
       "      <td>964982224</td>\n",
       "    </tr>\n",
       "    <tr>\n",
       "      <th>3</th>\n",
       "      <td>1</td>\n",
       "      <td>47</td>\n",
       "      <td>5.0</td>\n",
       "      <td>964983815</td>\n",
       "    </tr>\n",
       "    <tr>\n",
       "      <th>4</th>\n",
       "      <td>1</td>\n",
       "      <td>50</td>\n",
       "      <td>5.0</td>\n",
       "      <td>964982931</td>\n",
       "    </tr>\n",
       "  </tbody>\n",
       "</table>\n",
       "</div>"
      ],
      "text/plain": [
       "<div>\n",
       "<style scoped>\n",
       "    .dataframe tbody tr th:only-of-type {\n",
       "        vertical-align: middle;\n",
       "    }\n",
       "\n",
       "    .dataframe tbody tr th {\n",
       "        vertical-align: top;\n",
       "    }\n",
       "\n",
       "    .dataframe thead th {\n",
       "        text-align: right;\n",
       "    }\n",
       "</style>\n",
       "<table border=\"1\" class=\"dataframe\">\n",
       "  <thead>\n",
       "    <tr style=\"text-align: right;\">\n",
       "      <th></th>\n",
       "      <th>userId</th>\n",
       "      <th>movieId</th>\n",
       "      <th>rating</th>\n",
       "      <th>timestamp</th>\n",
       "    </tr>\n",
       "  </thead>\n",
       "  <tbody>\n",
       "    <tr>\n",
       "      <th>0</th>\n",
       "      <td>1</td>\n",
       "      <td>1</td>\n",
       "      <td>4.0</td>\n",
       "      <td>964982703</td>\n",
       "    </tr>\n",
       "    <tr>\n",
       "      <th>1</th>\n",
       "      <td>1</td>\n",
       "      <td>3</td>\n",
       "      <td>4.0</td>\n",
       "      <td>964981247</td>\n",
       "    </tr>\n",
       "    <tr>\n",
       "      <th>2</th>\n",
       "      <td>1</td>\n",
       "      <td>6</td>\n",
       "      <td>4.0</td>\n",
       "      <td>964982224</td>\n",
       "    </tr>\n",
       "    <tr>\n",
       "      <th>3</th>\n",
       "      <td>1</td>\n",
       "      <td>47</td>\n",
       "      <td>5.0</td>\n",
       "      <td>964983815</td>\n",
       "    </tr>\n",
       "    <tr>\n",
       "      <th>4</th>\n",
       "      <td>1</td>\n",
       "      <td>50</td>\n",
       "      <td>5.0</td>\n",
       "      <td>964982931</td>\n",
       "    </tr>\n",
       "  </tbody>\n",
       "</table>\n",
       "</div>"
      ]
     },
     "execution_count": 25,
     "metadata": {},
     "output_type": "execute_result"
    }
   ],
   "source": [
    "ratings.head()\n"
   ]
  },
  {
   "cell_type": "code",
   "execution_count": 4,
   "metadata": {
    "collapsed": false
   },
   "outputs": [
    {
     "name": "stdout",
     "output_type": "stream",
     "text": [
      "We have 9742 movies\n"
     ]
    }
   ],
   "source": [
    "movieIds = movies['movieId'].unique()\n",
    "numMovies = len(movieIds)\n",
    "print('We have {} movies'.format(numMovies))"
   ]
  },
  {
   "cell_type": "code",
   "execution_count": 5,
   "metadata": {},
   "outputs": [
    {
     "name": "stdout",
     "output_type": "stream",
     "text": [
      "We have 610 users\n"
     ]
    }
   ],
   "source": [
    "userIds = ratings['userId'].unique()\n",
    "numUsers = len(userIds)\n",
    "print('We have {} users'.format(numUsers))"
   ]
  },
  {
   "cell_type": "code",
   "execution_count": 6,
   "metadata": {},
   "outputs": [],
   "source": [
    "movieUserMatrix = np.empty((numMovies, numUsers), dtype=int)\n",
    "\n",
    "userIdToUserIndex = {}\n",
    "for index, userId in enumerate(userIds):\n",
    "    userIdToUserIndex[userId] = index\n",
    "\n",
    "movieIdToMovieIndex = {}\n",
    "for index, movieId in enumerate(movieIds):\n",
    "    movieIdToMovieIndex[movieId] = index\n",
    "\n",
    "for row in ratings.iterrows():\n",
    "    userId = row[1]['userId']\n",
    "    movieId = row[1]['movieId']\n",
    "    rating = row[1]['rating']\n",
    "\n",
    "    userIndex = int(userIdToUserIndex[userId])\n",
    "    movieIndex = int(movieIdToMovieIndex[movieId])\n",
    "\n",
    "    movieUserMatrix[movieIndex][userIndex] = int(rating)"
   ]
  },
  {
   "cell_type": "code",
   "execution_count": 7,
   "metadata": {
    "collapsed": false
   },
   "outputs": [
    {
     "data": {
      "text/plain": [
       "<9742x610 sparse matrix of type '<class 'numpy.int64'>'\n\twith 99466 stored elements in Compressed Sparse Row format>"
      ]
     },
     "execution_count": 7,
     "metadata": {},
     "output_type": "execute_result"
    }
   ],
   "source": [
    "movieUserMatrixSparse = csr_matrix(movieUserMatrix)\n",
    "movieUserMatrixSparse"
   ]
  },
  {
   "cell_type": "code",
   "execution_count": 8,
   "metadata": {},
   "outputs": [],
   "source": []
  },
  {
   "cell_type": "code",
   "execution_count": 33,
   "metadata": {},
   "outputs": [
    {
     "name": "stderr",
     "output_type": "stream",
     "text": [
      "\r  0%|          | 0/15 [00:00<?, ?it/s]"
     ]
    },
    {
     "name": "stderr",
     "output_type": "stream",
     "text": [
      "\r 13%|█▎        | 2.0/15 [00:00<00:00, 16.40it/s]"
     ]
    },
    {
     "name": "stderr",
     "output_type": "stream",
     "text": [
      "\r 27%|██▋       | 4.0/15 [00:00<00:00, 16.94it/s]"
     ]
    },
    {
     "name": "stderr",
     "output_type": "stream",
     "text": [
      "\r 37%|███▋      | 5.5/15 [00:00<00:00, 16.21it/s]"
     ]
    },
    {
     "name": "stderr",
     "output_type": "stream",
     "text": [
      "\r 47%|████▋     | 7.0/15 [00:00<00:00, 15.58it/s]"
     ]
    },
    {
     "name": "stderr",
     "output_type": "stream",
     "text": [
      "\r 60%|██████    | 9.0/15 [00:00<00:00, 15.74it/s]"
     ]
    },
    {
     "name": "stderr",
     "output_type": "stream",
     "text": [
      "\r 73%|███████▎  | 11.0/15 [00:00<00:00, 16.56it/s]"
     ]
    },
    {
     "name": "stderr",
     "output_type": "stream",
     "text": [
      "\r 87%|████████▋ | 13.0/15 [00:00<00:00, 16.99it/s]"
     ]
    },
    {
     "name": "stderr",
     "output_type": "stream",
     "text": [
      "\r100%|██████████| 15.0/15 [00:00<00:00, 16.89it/s]"
     ]
    },
    {
     "name": "stderr",
     "output_type": "stream",
     "text": [
      "\n"
     ]
    }
   ],
   "source": [
    "#Matrix Factorization\n",
    "\n",
    "\n",
    "# initialize a model\n",
    "modelMatrixFactorization = implicit.als.AlternatingLeastSquares(factors=50)\n",
    "\n",
    "# train the model on a sparse matrix of item/user/confidence weights\n",
    "modelMatrixFactorization.fit(movieUserMatrixSparse)\n",
    "\n",
    "# recommend items for a user\n",
    "user_items = movieUserMatrixSparse.T.tocsr()\n",
    "userId = 1\n",
    "recommendations = modelMatrixFactorization.recommend(userId, user_items)\n",
    "\n",
    "# find related items\n",
    "movieId = 1\n",
    "related = modelMatrixFactorization.similar_items(movieId)\n"
   ]
  },
  {
   "cell_type": "code",
   "execution_count": 34,
   "metadata": {},
   "outputs": [
    {
     "name": "stderr",
     "output_type": "stream",
     "text": [
      "\r  0%|          | 0/15 [00:00<?, ?it/s]"
     ]
    },
    {
     "name": "stderr",
     "output_type": "stream",
     "text": [
      "\r  7%|▋         | 1.0/15 [00:00<00:01,  9.85it/s]"
     ]
    },
    {
     "name": "stderr",
     "output_type": "stream",
     "text": [
      "\r 17%|█▋        | 2.5/15 [00:00<00:01, 10.49it/s]"
     ]
    },
    {
     "name": "stderr",
     "output_type": "stream",
     "text": [
      "\r 23%|██▎       | 3.5/15 [00:00<00:01,  9.66it/s]"
     ]
    },
    {
     "name": "stderr",
     "output_type": "stream",
     "text": [
      "\r 30%|███       | 4.5/15 [00:00<00:01,  8.79it/s]"
     ]
    },
    {
     "name": "stderr",
     "output_type": "stream",
     "text": [
      "\r 40%|████      | 6.0/15 [00:00<00:00,  9.37it/s]"
     ]
    },
    {
     "name": "stderr",
     "output_type": "stream",
     "text": [
      "\r 50%|█████     | 7.5/15 [00:00<00:00, 10.25it/s]"
     ]
    },
    {
     "name": "stderr",
     "output_type": "stream",
     "text": [
      "\r 57%|█████▋    | 8.5/15 [00:00<00:00,  9.99it/s]"
     ]
    },
    {
     "name": "stderr",
     "output_type": "stream",
     "text": [
      "\r 63%|██████▎   | 9.5/15 [00:00<00:00,  9.86it/s]"
     ]
    },
    {
     "name": "stderr",
     "output_type": "stream",
     "text": [
      "\r 70%|███████   | 10.5/15 [00:01<00:00,  9.80it/s]"
     ]
    },
    {
     "name": "stderr",
     "output_type": "stream",
     "text": [
      "\r 77%|███████▋  | 11.5/15 [00:01<00:00,  9.70it/s]"
     ]
    },
    {
     "name": "stderr",
     "output_type": "stream",
     "text": [
      "\r 83%|████████▎ | 12.5/15 [00:01<00:00,  9.47it/s]"
     ]
    },
    {
     "name": "stderr",
     "output_type": "stream",
     "text": [
      "\r 90%|█████████ | 13.5/15 [00:01<00:00,  9.43it/s]"
     ]
    },
    {
     "name": "stderr",
     "output_type": "stream",
     "text": [
      "\r 97%|█████████▋| 14.5/15 [00:01<00:00,  9.50it/s]"
     ]
    },
    {
     "name": "stderr",
     "output_type": "stream",
     "text": [
      "\r100%|██████████| 15.0/15 [00:01<00:00,  9.70it/s]"
     ]
    },
    {
     "name": "stderr",
     "output_type": "stream",
     "text": [
      "\n"
     ]
    }
   ],
   "source": [
    "# Approximate Nearest Neighbors\n",
    "\n",
    "\n",
    "# initialize a model\n",
    "modelNearestNeighbor = implicit.approximate_als.NMSLibAlternatingLeastSquares()\n",
    "\n",
    "# train the model on a sparse matrix of item/user/confidence weights\n",
    "modelNearestNeighbor.fit(movieUserMatrixSparse)\n",
    "\n",
    "# recommend items for a user\n",
    "user_items = movieUserMatrixSparse.T.tocsr()\n",
    "userId = 1\n",
    "recommendations = modelNearestNeighbor.recommend(userId, user_items)\n",
    "\n",
    "# find related items\n",
    "movieId = 1\n",
    "related = modelNearestNeighbor.similar_items(movieId)\n",
    "\n"
   ]
  },
  {
   "cell_type": "code",
   "execution_count": 9,
   "metadata": {},
   "outputs": [
    {
     "name": "stdout",
     "output_type": "stream",
     "text": [
      "Looking at Toy Story (1995)\n\nWe are 30% confident that Toy Story (1995) is similar\nWe are 18% confident that Aladdin (1992) is similar\nWe are 17% confident that Lion King, The (1994) is similar\nWe are 17% confident that Twister (1996) is similar\nWe are 17% confident that Toy Story 2 (1999) is similar\nWe are 16% confident that Jurassic Park (1993) is similar\nWe are 16% confident that Sense and Sensibility (1995) is similar\nWe are 16% confident that Independence Day (a.k.a. ID4) (1996) is similar\nWe are 16% confident that Mission: Impossible (1996) is similar\nWe are 16% confident that Twelve Monkeys (a.k.a. 12 Monkeys) (1995) is similar\n"
     ]
    }
   ],
   "source": [
    "# find related items\n",
    "movieIndex = 0\n",
    "\n",
    "\n",
    "def getMovieName(movieIndex):\n",
    "    return movies[movies['movieId'] == movieIds[movieIndex]].iloc[0]['title']\n",
    "\n",
    "\n",
    "movieName = getMovieName(movieIndex)\n",
    "\n",
    "print('Looking at {}'.format(movieName))\n",
    "print('')\n",
    "\n",
    "relatedMovies = modelMatrixFactorization.similar_items(movieIndex)\n",
    "\n",
    "for movieIndex, confidence in relatedMovies:\n",
    "    movieName = getMovieName(movieIndex)\n",
    "    print('We are {:.0f}% confident that {} is similar'.format(confidence * 100, movieName))"
   ]
  },
  {
   "cell_type": "code",
   "execution_count": 35,
   "metadata": {},
   "outputs": [
    {
     "name": "stdout",
     "output_type": "stream",
     "text": [
      "Looking at Toy Story (1995)\n\nWe are 100% confident that Toy Story (1995) is similar\nWe are 46% confident that Once Upon a Time... When We Were Colored (1995) is similar\nWe are 43% confident that Toy Story 2 (1999) is similar\nWe are 42% confident that Toy Story 3 (2010) is similar\nWe are 41% confident that Dear God (1996) is similar\nWe are 41% confident that Thin Line Between Love and Hate, A (1996) is similar\nWe are 36% confident that Cry, the Beloved Country (1995) is similar\nWe are 36% confident that 1-900 (06) (1994) is similar\nWe are 36% confident that Shrek (2001) is similar\nWe are 35% confident that Anne Frank Remembered (1995) is similar\n"
     ]
    }
   ],
   "source": [
    "# find related items\n",
    "movieIndex = 0\n",
    "\n",
    "\n",
    "def getMovieName(movieIndex):\n",
    "    return movies[movies['movieId'] == movieIds[movieIndex]].iloc[0]['title']\n",
    "\n",
    "\n",
    "movieName = getMovieName(movieIndex)\n",
    "\n",
    "print('Looking at {}'.format(movieName))\n",
    "print('')\n",
    "\n",
    "relatedMovies = modelNearestNeighbor.similar_items(movieIndex)\n",
    "\n",
    "for movieIndex, confidence in relatedMovies:\n",
    "    movieName = getMovieName(movieIndex)\n",
    "    print('We are {:.0f}% confident that {} is similar'.format(confidence * 100, movieName))"
   ]
  },
  {
   "cell_type": "code",
   "execution_count": 16,
   "metadata": {},
   "outputs": [
    {
     "ename": "IndexError",
     "evalue": "Item index larger than the largest item index",
     "traceback": [
      "\u001b[0;31m---------------------------------------------------------------------------\u001b[0m",
      "\u001b[0;31mIndexError\u001b[0m                                Traceback (most recent call last)",
      "\u001b[0;32m<ipython-input-16-92bda32d0907>\u001b[0m in \u001b[0;36m<module>\u001b[0;34m()\u001b[0m\n\u001b[1;32m     14\u001b[0m \u001b[0mu\u001b[0m \u001b[0;34m=\u001b[0m \u001b[0mAnnoyIndex\u001b[0m\u001b[0;34m(\u001b[0m\u001b[0mf\u001b[0m\u001b[0;34m)\u001b[0m\u001b[0;34m\u001b[0m\u001b[0m\n\u001b[1;32m     15\u001b[0m \u001b[0mu\u001b[0m\u001b[0;34m.\u001b[0m\u001b[0mload\u001b[0m\u001b[0;34m(\u001b[0m\u001b[0;34m'test.ann'\u001b[0m\u001b[0;34m)\u001b[0m \u001b[0;31m# super fast, will just mmap the file\u001b[0m\u001b[0;34m\u001b[0m\u001b[0m\n\u001b[0;32m---> 16\u001b[0;31m \u001b[0mprint\u001b[0m\u001b[0;34m(\u001b[0m\u001b[0mu\u001b[0m\u001b[0;34m.\u001b[0m\u001b[0mget_nns_by_item\u001b[0m\u001b[0;34m(\u001b[0m\u001b[0;36m0\u001b[0m\u001b[0;34m,\u001b[0m \u001b[0;36m10\u001b[0m\u001b[0;34m)\u001b[0m\u001b[0;34m)\u001b[0m \u001b[0;31m# will find the 1000 nearest neighbors\u001b[0m\u001b[0;34m\u001b[0m\u001b[0m\n\u001b[0m",
      "\u001b[0;31mIndexError\u001b[0m: Item index larger than the largest item index"
     ],
     "output_type": "error"
    }
   ],
   "source": [
    "from annoy import AnnoyIndex\n",
    "\n",
    "f = 40\n",
    "model = AnnoyIndex(numMovies)  # Length of item vector that will be indexed\n",
    "    \n",
    "for index, movieRow in enumerate(movieUserMatrix.transpose()):\n",
    "    model.add_item(index, movieRow)\n",
    "\n",
    "model.build(10) # 10 trees\n",
    "model.save('test.ann')\n",
    "\n",
    "u = AnnoyIndex(f)\n",
    "u.load('test.ann') # super fast, will just mmap the file\n",
    "print(u.get_nns_by_item(0, 10)) # will find the 1000 nearest neighbors"
   ]
  },
  {
   "cell_type": "code",
   "execution_count": 43,
   "metadata": {},
   "outputs": [],
   "source": [
    "# A reader is still needed but only the rating_scale param is required.\n",
    "reader = Reader(rating_scale=(1, 5))\n",
    "\n",
    "# The columns must correspond to user id, item id and ratings (in that order).\n",
    "ratingsData = Dataset.load_from_df(ratings[['userId', 'movieId', 'rating']], reader)"
   ]
  },
  {
   "cell_type": "code",
   "execution_count": 51,
   "metadata": {},
   "outputs": [],
   "source": [
    "def runModel(ratingsData, model, paramGrid):\n",
    "    \n",
    "    crossValidationSplits = 5\n",
    "    gs = GridSearchCV(model, paramGrid, measures=['rmse', 'mae'], cv=crossValidationSplits)\n",
    "    \n",
    "    gs.fit(ratingsData)\n",
    "    \n",
    "    # best RMSE score\n",
    "    print('The best RMSE is {}'.format(gs.best_score['rmse']))\n",
    "    \n",
    "    # combination of parameters that gave the best RMSE score\n",
    "    print('The best params are {}'.format(gs.best_params['rmse']))"
   ]
  },
  {
   "cell_type": "code",
   "execution_count": 47,
   "metadata": {},
   "outputs": [
    {
     "name": "stdout",
     "output_type": "stream",
     "text": [
      "0.9280846209716946\n{'n_epochs': 5, 'n_factors': 10, 'reg_pu': 0.6}\n"
     ]
    }
   ],
   "source": [
    "model = NMF\n",
    "paramGrid = {\n",
    "    'n_epochs': [5, 10], \n",
    "    'n_factors': [10, 50],\n",
    "    'reg_pu': [0.4, 0.6]\n",
    "}\n",
    "runModel(ratingsData, model, paramGrid)"
   ]
  },
  {
   "cell_type": "code",
   "execution_count": 54,
   "metadata": {},
   "outputs": [
    {
     "name": "stdout",
     "output_type": "stream",
     "text": [
      "Computing the msd similarity matrix...\nDone computing similarity matrix.\n"
     ]
    },
    {
     "name": "stdout",
     "output_type": "stream",
     "text": [
      "Computing the msd similarity matrix...\nDone computing similarity matrix.\n"
     ]
    },
    {
     "name": "stdout",
     "output_type": "stream",
     "text": [
      "Computing the msd similarity matrix...\nDone computing similarity matrix.\n"
     ]
    },
    {
     "name": "stdout",
     "output_type": "stream",
     "text": [
      "Computing the msd similarity matrix...\nDone computing similarity matrix.\n"
     ]
    },
    {
     "name": "stdout",
     "output_type": "stream",
     "text": [
      "Computing the msd similarity matrix...\nDone computing similarity matrix.\n"
     ]
    },
    {
     "name": "stdout",
     "output_type": "stream",
     "text": [
      "Computing the msd similarity matrix...\nDone computing similarity matrix.\n"
     ]
    },
    {
     "name": "stdout",
     "output_type": "stream",
     "text": [
      "Computing the msd similarity matrix...\nDone computing similarity matrix.\n"
     ]
    },
    {
     "name": "stdout",
     "output_type": "stream",
     "text": [
      "Computing the msd similarity matrix...\nDone computing similarity matrix.\n"
     ]
    },
    {
     "name": "stdout",
     "output_type": "stream",
     "text": [
      "Computing the msd similarity matrix...\nDone computing similarity matrix.\n"
     ]
    },
    {
     "name": "stdout",
     "output_type": "stream",
     "text": [
      "Computing the msd similarity matrix...\nDone computing similarity matrix.\n"
     ]
    },
    {
     "name": "stdout",
     "output_type": "stream",
     "text": [
      "Computing the msd similarity matrix...\nDone computing similarity matrix.\n"
     ]
    },
    {
     "name": "stdout",
     "output_type": "stream",
     "text": [
      "Computing the msd similarity matrix...\nDone computing similarity matrix.\n"
     ]
    },
    {
     "name": "stdout",
     "output_type": "stream",
     "text": [
      "Computing the msd similarity matrix...\nDone computing similarity matrix.\n"
     ]
    },
    {
     "name": "stdout",
     "output_type": "stream",
     "text": [
      "Computing the msd similarity matrix...\nDone computing similarity matrix.\n"
     ]
    },
    {
     "name": "stdout",
     "output_type": "stream",
     "text": [
      "Computing the msd similarity matrix...\nDone computing similarity matrix.\n"
     ]
    },
    {
     "name": "stdout",
     "output_type": "stream",
     "text": [
      "Computing the msd similarity matrix...\nDone computing similarity matrix.\n"
     ]
    },
    {
     "name": "stdout",
     "output_type": "stream",
     "text": [
      "Computing the msd similarity matrix...\nDone computing similarity matrix.\n"
     ]
    },
    {
     "name": "stdout",
     "output_type": "stream",
     "text": [
      "Computing the msd similarity matrix...\nDone computing similarity matrix.\n"
     ]
    },
    {
     "name": "stdout",
     "output_type": "stream",
     "text": [
      "Computing the msd similarity matrix...\nDone computing similarity matrix.\n"
     ]
    },
    {
     "name": "stdout",
     "output_type": "stream",
     "text": [
      "Computing the msd similarity matrix...\nDone computing similarity matrix.\n"
     ]
    },
    {
     "name": "stdout",
     "output_type": "stream",
     "text": [
      "Computing the msd similarity matrix...\nDone computing similarity matrix.\n"
     ]
    },
    {
     "name": "stdout",
     "output_type": "stream",
     "text": [
      "Computing the msd similarity matrix...\nDone computing similarity matrix.\n"
     ]
    },
    {
     "name": "stdout",
     "output_type": "stream",
     "text": [
      "Computing the msd similarity matrix...\nDone computing similarity matrix.\n"
     ]
    },
    {
     "name": "stdout",
     "output_type": "stream",
     "text": [
      "Computing the msd similarity matrix...\nDone computing similarity matrix.\n"
     ]
    },
    {
     "name": "stdout",
     "output_type": "stream",
     "text": [
      "The best RMSE is 0.9052067005143343\nThe best params are {'n_epochs': 5, 'n_factors': 10, 'reg_pu': 0.4}\n"
     ]
    }
   ],
   "source": [
    "model = KNNWithMeans\n",
    "paramGrid = {'n_epochs': [5, 10], 'n_factors': [10, 50],\n",
    "                  'reg_pu': [0.4, 0.6]}\n",
    "runModel(ratingsData, model, paramGrid)"
   ]
  },
  {
   "cell_type": "code",
   "execution_count": null,
   "metadata": {},
   "outputs": [],
   "source": []
  }
 ],
 "metadata": {
  "kernelspec": {
   "display_name": "Python 2",
   "language": "python",
   "name": "python2"
  },
  "language_info": {
   "codemirror_mode": {
    "name": "ipython",
    "version": 2
   },
   "file_extension": ".py",
   "mimetype": "text/x-python",
   "name": "python",
   "nbconvert_exporter": "python",
   "pygments_lexer": "ipython2",
   "version": "2.7.6"
  }
 },
 "nbformat": 4,
 "nbformat_minor": 0
}
