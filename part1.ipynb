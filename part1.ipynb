{
 "cells": [
  {
   "cell_type": "code",
   "execution_count": 34,
   "metadata": {
    "collapsed": true
   },
   "outputs": [],
   "source": [
    "import pandas as pd\n",
    "import numpy as np\n",
    "import implicit\n",
    "import nmslib\n",
    "from scipy.sparse import csr_matrix\n",
    "\n",
    "from surprise import NMF, KNNBasic, KNNWithMeans\n",
    "from surprise.model_selection import GridSearchCV\n",
    "from surprise import Dataset\n",
    "from surprise import Reader\n",
    "\n",
    "\n",
    "from sklearn import model_selection\n",
    "from surprise.model_selection import train_test_split\n",
    "\n",
    "import matplotlib.pyplot as plt\n",
    "# %matplotlib inline\n",
    "plt.style.use('seaborn-whitegrid')\n",
    "\n",
    "\n",
    "\n",
    "\n"
   ]
  },
  {
   "cell_type": "code",
   "execution_count": 2,
   "metadata": {},
   "outputs": [],
   "source": [
    "# dataFolder = 'ml-latest-small'\n",
    "dataFolder = 'ml-latest-small'\n",
    "links = pd.read_csv(dataFolder + '/links.csv')\n",
    "movies = pd.read_csv(dataFolder + '/movies.csv')\n",
    "ratings = pd.read_csv(dataFolder + '/ratings.csv')\n",
    "tags = pd.read_csv(dataFolder + '/tags.csv')"
   ]
  },
  {
   "cell_type": "code",
   "execution_count": 3,
   "metadata": {
    "collapsed": false
   },
   "outputs": [],
   "source": [
    "# ratings.head()\n"
   ]
  },
  {
   "cell_type": "code",
   "execution_count": 4,
   "metadata": {
    "collapsed": false
   },
   "outputs": [],
   "source": [
    "# movieIds = movies['movieId'].unique()\n",
    "# numMovies = len(movieIds)\n",
    "# print('We have {} movies'.format(numMovies))"
   ]
  },
  {
   "cell_type": "code",
   "execution_count": 5,
   "metadata": {},
   "outputs": [],
   "source": [
    "# userIds = ratings['userId'].unique()\n",
    "# numUsers = len(userIds)\n",
    "# print('We have {} users'.format(numUsers))"
   ]
  },
  {
   "cell_type": "code",
   "execution_count": 6,
   "metadata": {},
   "outputs": [],
   "source": [
    "# movieUserMatrix = np.empty((numMovies, numUsers), dtype=int)\n",
    "# \n",
    "# userIdToUserIndex = {}\n",
    "# for index, userId in enumerate(userIds):\n",
    "#     userIdToUserIndex[userId] = index\n",
    "# \n",
    "# movieIdToMovieIndex = {}\n",
    "# for index, movieId in enumerate(movieIds):\n",
    "#     movieIdToMovieIndex[movieId] = index\n",
    "# \n",
    "# for row in ratings.iterrows():\n",
    "#     userId = row[1]['userId']\n",
    "#     movieId = row[1]['movieId']\n",
    "#     rating = row[1]['rating']\n",
    "# \n",
    "#     userIndex = int(userIdToUserIndex[userId])\n",
    "#     movieIndex = int(movieIdToMovieIndex[movieId])\n",
    "# \n",
    "#     movieUserMatrix[movieIndex][userIndex] = int(rating)"
   ]
  },
  {
   "cell_type": "code",
   "execution_count": 7,
   "metadata": {
    "collapsed": false
   },
   "outputs": [],
   "source": [
    "# movieUserMatrixSparse = csr_matrix(movieUserMatrix)\n",
    "# movieUserMatrixSparse"
   ]
  },
  {
   "cell_type": "code",
   "execution_count": 8,
   "metadata": {},
   "outputs": [],
   "source": []
  },
  {
   "cell_type": "code",
   "execution_count": 8,
   "metadata": {},
   "outputs": [],
   "source": [
    "# #Matrix Factorization\n",
    "# \n",
    "# \n",
    "# # initialize a model\n",
    "# modelMatrixFactorization = implicit.als.AlternatingLeastSquares(factors=50)\n",
    "# \n",
    "# # train the model on a sparse matrix of item/user/confidence weights\n",
    "# modelMatrixFactorization.fit(movieUserMatrixSparse)\n",
    "# \n",
    "# # recommend items for a user\n",
    "# user_items = movieUserMatrixSparse.T.tocsr()\n",
    "# userId = 1\n",
    "# recommendations = modelMatrixFactorization.recommend(userId, user_items)\n",
    "# \n",
    "# # find related items\n",
    "# movieId = 1\n",
    "# related = modelMatrixFactorization.similar_items(movieId)\n"
   ]
  },
  {
   "cell_type": "code",
   "execution_count": 9,
   "metadata": {},
   "outputs": [],
   "source": [
    "# # Approximate Nearest Neighbors\n",
    "# \n",
    "# \n",
    "# # initialize a model\n",
    "# modelNearestNeighbor = implicit.approximate_als.NMSLibAlternatingLeastSquares()\n",
    "# \n",
    "# # train the model on a sparse matrix of item/user/confidence weights\n",
    "# modelNearestNeighbor.fit(movieUserMatrixSparse)\n",
    "# \n",
    "# # recommend items for a user\n",
    "# user_items = movieUserMatrixSparse.T.tocsr()\n",
    "# userId = 1\n",
    "# recommendations = modelNearestNeighbor.recommend(userId, user_items)\n",
    "# \n",
    "# # find related items\n",
    "# movieId = 1\n",
    "# related = modelNearestNeighbor.similar_items(movieId)\n",
    "# \n"
   ]
  },
  {
   "cell_type": "code",
   "execution_count": 10,
   "metadata": {},
   "outputs": [],
   "source": [
    "# # find related items\n",
    "# movieIndex = 0\n",
    "# \n",
    "# \n",
    "# def getMovieName(movieIndex):\n",
    "#     return movies[movies['movieId'] == movieIds[movieIndex]].iloc[0]['title']\n",
    "# \n",
    "# \n",
    "# movieName = getMovieName(movieIndex)\n",
    "# \n",
    "# print('Looking at {}'.format(movieName))\n",
    "# print('')\n",
    "# \n",
    "# relatedMovies = modelMatrixFactorization.similar_items(movieIndex)\n",
    "# \n",
    "# for movieIndex, confidence in relatedMovies:\n",
    "#     movieName = getMovieName(movieIndex)\n",
    "#     print('We are {:.0f}% confident that {} is similar'.format(confidence * 100, movieName))"
   ]
  },
  {
   "cell_type": "code",
   "execution_count": 11,
   "metadata": {},
   "outputs": [],
   "source": [
    "# # find related items\n",
    "# movieIndex = 0\n",
    "# \n",
    "# \n",
    "# def getMovieName(movieIndex):\n",
    "#     return movies[movies['movieId'] == movieIds[movieIndex]].iloc[0]['title']\n",
    "# \n",
    "# \n",
    "# movieName = getMovieName(movieIndex)\n",
    "# \n",
    "# print('Looking at {}'.format(movieName))\n",
    "# print('')\n",
    "# \n",
    "# relatedMovies = modelNearestNeighbor.similar_items(movieIndex)\n",
    "# \n",
    "# for movieIndex, confidence in relatedMovies:\n",
    "#     movieName = getMovieName(movieIndex)\n",
    "#     print('We are {:.0f}% confident that {} is similar'.format(confidence * 100, movieName))"
   ]
  },
  {
   "cell_type": "code",
   "execution_count": 12,
   "metadata": {},
   "outputs": [],
   "source": [
    "# from annoy import AnnoyIndex\n",
    "# \n",
    "# f = 40\n",
    "# model = AnnoyIndex(numMovies)  # Length of item vector that will be indexed\n",
    "#     \n",
    "# for index, movieRow in enumerate(movieUserMatrix.transpose()):\n",
    "#     model.add_item(index, movieRow)\n",
    "# \n",
    "# model.build(10) # 10 trees\n",
    "# model.save('test.ann')\n",
    "# \n",
    "# u = AnnoyIndex(f)\n",
    "# u.load('test.ann') # super fast, will just mmap the file\n",
    "# print(u.get_nns_by_item(0, 10)) # will find the 1000 nearest neighbors"
   ]
  },
  {
   "cell_type": "code",
   "execution_count": 54,
   "metadata": {},
   "outputs": [],
   "source": [
    "ratingsAllDF = ratings[['userId', 'movieId', 'rating']]\n",
    "\n",
    "ratingsTrainDF, ratingsTestDF = model_selection.train_test_split(ratingsAllDF, test_size=0.2, random_state=324)\n"
   ]
  },
  {
   "cell_type": "code",
   "execution_count": 55,
   "metadata": {},
   "outputs": [],
   "source": [
    ""
   ]
  },
  {
   "cell_type": "code",
   "execution_count": 55,
   "metadata": {},
   "outputs": [],
   "source": [
    "# A reader is still needed but only the rating_scale param is required.\n",
    "reader = Reader(rating_scale=(1, 5))\n",
    "\n",
    "# The columns must correspond to user id, item id and ratings (in that order).\n",
    "ratingsTrainDataset = Dataset.load_from_df(ratingsTrainDF, reader)\n",
    "# ratingsTrain = ratingsTrainDataset.build_full_trainset()"
   ]
  },
  {
   "cell_type": "code",
   "execution_count": 56,
   "metadata": {},
   "outputs": [],
   "source": [
    "ratingsTest = np.asarray(ratingsTestDF)\n",
    "# ratingsTrain, ratingsTest = train_test_split(ratingsData, test_size=.0)\n",
    "# ratingsTest"
   ]
  },
  {
   "cell_type": "code",
   "execution_count": 70,
   "metadata": {},
   "outputs": [
    {
     "name": "stdout",
     "output_type": "stream",
     "text": [
      "Train data: 80668\nTest data: 20168\n"
     ]
    }
   ],
   "source": [
    "print('Train data: {}'.format(ratingsTrainDataset.df.shape[0]))\n",
    "print('Test data: {}'.format(len(ratingsTest)))\n"
   ]
  },
  {
   "cell_type": "code",
   "execution_count": 63,
   "metadata": {},
   "outputs": [],
   "source": [
    ""
   ]
  },
  {
   "cell_type": "code",
   "execution_count": 60,
   "metadata": {},
   "outputs": [
    {
     "data": {
      "text/plain": [
       "<surprise.trainset.Trainset at 0x114d47f60>"
      ]
     },
     "execution_count": 60,
     "metadata": {},
     "output_type": "execute_result"
    }
   ],
   "source": [
    ""
   ]
  },
  {
   "cell_type": "code",
   "execution_count": 64,
   "metadata": {},
   "outputs": [
    {
     "data": {
      "text/plain": [
       "<surprise.trainset.Trainset at 0x117b7ad68>"
      ]
     },
     "execution_count": 64,
     "metadata": {},
     "output_type": "execute_result"
    }
   ],
   "source": [
    ""
   ]
  },
  {
   "cell_type": "code",
   "execution_count": 58,
   "metadata": {},
   "outputs": [],
   "source": [
    "def runModel(ratings, model, paramGrid):\n",
    "    \n",
    "    crossValidationSplits = 5\n",
    "    gridSearch = GridSearchCV(model, paramGrid, measures=['rmse', 'mae'], cv=crossValidationSplits)\n",
    "    \n",
    "    gridSearch.fit(ratings)\n",
    "    \n",
    "    return gridSearch"
   ]
  },
  {
   "cell_type": "code",
   "execution_count": 67,
   "metadata": {},
   "outputs": [],
   "source": [
    "model = NMF\n",
    "# paramGrid = {\n",
    "#     'n_epochs': [10, 25, 50], \n",
    "#     'n_factors': [5, 15, 30],\n",
    "#     'reg_pu': [0.1, 0.3, 0.5],\n",
    "#     'reg_qi': [0.1, 0.3, 0.5],\n",
    "#     'biased': [True, False],\n",
    "#     'random_state': [42],\n",
    "# }\n",
    "paramGrid = {\n",
    "    'n_epochs': [10], \n",
    "    'n_factors': [5],\n",
    "    'reg_pu': [0.1],\n",
    "    'reg_qi': [0.1],\n",
    "    'biased': [True, False],\n",
    "    'random_state': [42],\n",
    "}\n",
    "gridSearch = runModel(ratingsTrainDataset, model, paramGrid)"
   ]
  },
  {
   "cell_type": "code",
   "execution_count": 68,
   "metadata": {
    "collapsed": false
   },
   "outputs": [
    {
     "data": {
      "image/png": "[encoded data removed]",
      "text/plain": [
       "<Figure size 432x288 with 1 Axes>"
      ]
     },
     "metadata": {},
     "output_type": "display_data"
    },
    {
     "data": {
      "image/png": "[encoded data removed]",
      "text/plain": [
       "<Figure size 432x288 with 1 Axes>"
      ]
     },
     "metadata": {},
     "output_type": "display_data"
    },
    {
     "data": {
      "image/png": "[encoded data removed]",
      "text/plain": [
       "<Figure size 432x288 with 1 Axes>"
      ]
     },
     "metadata": {},
     "output_type": "display_data"
    },
    {
     "data": {
      "image/png": "[encoded data removed]",
      "text/plain": [
       "<Figure size 432x288 with 1 Axes>"
      ]
     },
     "metadata": {},
     "output_type": "display_data"
    },
    {
     "data": {
      "image/png": "[encoded data removed]",
      "text/plain": [
       "<Figure size 432x288 with 1 Axes>"
      ]
     },
     "metadata": {},
     "output_type": "display_data"
    },
    {
     "data": {
      "image/png": "[encoded data removed]",
      "text/plain": [
       "<Figure size 432x288 with 1 Axes>"
      ]
     },
     "metadata": {},
     "output_type": "display_data"
    },
    {
     "data": {
      "image/png": "[encoded data removed]",
      "text/plain": [
       "<Figure size 432x288 with 1 Axes>"
      ]
     },
     "metadata": {},
     "output_type": "display_data"
    },
    {
     "data": {
      "image/png": "[encoded data removed]",
      "text/plain": [
       "<Figure size 432x288 with 1 Axes>"
      ]
     },
     "metadata": {},
     "output_type": "display_data"
    },
    {
     "data": {
      "image/png": "[encoded data removed]",
      "text/plain": [
       "<Figure size 432x288 with 1 Axes>"
      ]
     },
     "metadata": {},
     "output_type": "display_data"
    },
    {
     "data": {
      "image/png": "[encoded data removed]",
      "text/plain": [
       "<Figure size 432x288 with 1 Axes>"
      ]
     },
     "metadata": {},
     "output_type": "display_data"
    }
   ],
   "source": [
    "for param in paramGrid.keys():\n",
    "    if param == 'random_state':\n",
    "        continue\n",
    "    for resultType in ['mean_test_mae', 'mean_test_rmse']:\n",
    "        x = [result for result in gridSearch.cv_results['param_{}'.format(param)]]\n",
    "        y = [result for result in gridSearch.cv_results[resultType]]\n",
    "        \n",
    "        plt.plot(x, y, 'o', color='black')\n",
    "        plt.title('Matrix Factorization Model')\n",
    "        plt.xlabel(param)\n",
    "        plt.ylabel(resultType)\n",
    "        plt.show()\n",
    "        plt.close()"
   ]
  },
  {
   "cell_type": "code",
   "execution_count": 69,
   "metadata": {},
   "outputs": [
    {
     "name": "stdout",
     "output_type": "stream",
     "text": [
      "The best RMSE is 0.8817371530955587\nThe best params are {'n_epochs': 10, 'n_factors': 5, 'reg_pu': 0.1, 'reg_qi': 0.1, 'biased': True, 'random_state': 42}\n"
     ]
    }
   ],
   "source": [
    "# best RMSE score\n",
    "print('The best RMSE is {}'.format(gridSearch.best_score['rmse']))\n",
    "\n",
    "# combination of parameters that gave the best RMSE score\n",
    "print('The best params are {}'.format(gridSearch.best_params['rmse']))"
   ]
  },
  {
   "cell_type": "code",
   "execution_count": 22,
   "metadata": {
    "collapsed": false
   },
   "outputs": [
    {
     "name": "stdout",
     "output_type": "stream",
     "text": [
      "{'split0_test_rmse': array([0.93979627, 0.9271889 , 1.92274226, 1.74548046, 0.97516777,\n       0.95499049, 1.28998659, 1.08124646]), 'split1_test_rmse': array([0.93631373, 0.92197962, 1.9300968 , 1.74879721, 0.96524045,\n       0.95928844, 1.28184158, 1.07640407]), 'split2_test_rmse': array([0.92363522, 0.91874427, 1.9215396 , 1.73859924, 0.95518245,\n       0.94384292, 1.27654055, 1.07734103]), 'split3_test_rmse': array([0.91793569, 0.9210884 , 1.9272713 , 1.75102454, 0.96725435,\n       0.943302  , 1.27709531, 1.07642315]), 'split4_test_rmse': array([0.92311695, 0.91518562, 1.92260897, 1.74550729, 0.96772138,\n       0.94141914, 1.2840903 , 1.07359988]), 'mean_test_rmse': array([0.92815957, 0.92083736, 1.92485179, 1.74588175, 0.96611328,\n       0.9485686 , 1.28191087, 1.07700292]), 'std_test_rmse': array([0.00839439, 0.00395052, 0.0032807 , 0.00420201, 0.00642054,\n       0.00717411, 0.00493968, 0.00246566]), 'rank_test_rmse': array([2, 1, 8, 7, 4, 3, 6, 5]), 'split0_test_mae': array([0.71850324, 0.72050687, 1.74032557, 1.56515528, 0.78196821,\n       0.75955872, 1.01699772, 0.82419535]), 'split1_test_mae': array([0.71407445, 0.71520126, 1.75035163, 1.57005235, 0.76899888,\n       0.76222001, 1.01010155, 0.82087028]), 'split2_test_mae': array([0.70703791, 0.71365538, 1.74216149, 1.56061485, 0.76344667,\n       0.75175549, 1.00752052, 0.82273662]), 'split3_test_mae': array([0.69974699, 0.71572444, 1.74722386, 1.57149544, 0.77290927,\n       0.74668044, 1.00557567, 0.82297363]), 'split4_test_mae': array([0.7050274 , 0.70816565, 1.74507736, 1.56936452, 0.77457721,\n       0.74739315, 1.01681984, 0.8207622 ]), 'mean_test_mae': array([0.708878  , 0.71465072, 1.74502798, 1.56733649, 0.77238005,\n       0.75352156, 1.01140306, 0.82230762]), 'std_test_mae': array([0.00665187, 0.00396982, 0.00356357, 0.00396796, 0.00613641,\n       0.00631803, 0.0047195 , 0.00131494]), 'rank_test_mae': array([1, 2, 8, 7, 4, 3, 6, 5]), 'mean_fit_time': array([0.50212955, 0.47625566, 1.00953708, 1.0118969 , 0.9075213 ,\n       1.06013455, 2.06473937, 1.96702514]), 'std_fit_time': array([0.01724803, 0.00157599, 0.00654365, 0.00465264, 0.01777969,\n       0.07117928, 0.1776629 , 0.06886777]), 'mean_test_time': array([0.15143886, 0.14411235, 0.14593458, 0.14603009, 0.15293055,\n       0.18640485, 0.14378967, 0.14405308]), 'std_test_time': array([0.03440993, 0.03558485, 0.0386625 , 0.03441742, 0.03636388,\n       0.04910668, 0.0362116 , 0.03734622]), 'params': [{'n_epochs': 5, 'n_factors': 10, 'reg_pu': 0.4}, {'n_epochs': 5, 'n_factors': 10, 'reg_pu': 0.6}, {'n_epochs': 5, 'n_factors': 50, 'reg_pu': 0.4}, {'n_epochs': 5, 'n_factors': 50, 'reg_pu': 0.6}, {'n_epochs': 10, 'n_factors': 10, 'reg_pu': 0.4}, {'n_epochs': 10, 'n_factors': 10, 'reg_pu': 0.6}, {'n_epochs': 10, 'n_factors': 50, 'reg_pu': 0.4}, {'n_epochs': 10, 'n_factors': 50, 'reg_pu': 0.6}], 'param_n_epochs': [5, 5, 5, 5, 10, 10, 10, 10], 'param_n_factors': [10, 10, 50, 50, 10, 10, 50, 50], 'param_reg_pu': [0.4, 0.6, 0.4, 0.6, 0.4, 0.6, 0.4, 0.6]}\n"
     ]
    }
   ],
   "source": [
    "print(gridSearch.cv_results)"
   ]
  },
  {
   "cell_type": "code",
   "execution_count": 16,
   "metadata": {},
   "outputs": [
    {
     "name": "stdout",
     "output_type": "stream",
     "text": [
      "Computing the msd similarity matrix...\nDone computing similarity matrix.\n"
     ]
    },
    {
     "name": "stdout",
     "output_type": "stream",
     "text": [
      "Computing the msd similarity matrix...\nDone computing similarity matrix.\n"
     ]
    },
    {
     "name": "stdout",
     "output_type": "stream",
     "text": [
      "Computing the msd similarity matrix...\nDone computing similarity matrix.\n"
     ]
    },
    {
     "name": "stdout",
     "output_type": "stream",
     "text": [
      "Computing the msd similarity matrix...\nDone computing similarity matrix.\n"
     ]
    },
    {
     "name": "stdout",
     "output_type": "stream",
     "text": [
      "Computing the msd similarity matrix...\nDone computing similarity matrix.\n"
     ]
    },
    {
     "name": "stdout",
     "output_type": "stream",
     "text": [
      "Computing the msd similarity matrix...\nDone computing similarity matrix.\n"
     ]
    },
    {
     "name": "stdout",
     "output_type": "stream",
     "text": [
      "Computing the msd similarity matrix...\nDone computing similarity matrix.\n"
     ]
    },
    {
     "name": "stdout",
     "output_type": "stream",
     "text": [
      "Computing the msd similarity matrix...\nDone computing similarity matrix.\n"
     ]
    },
    {
     "name": "stdout",
     "output_type": "stream",
     "text": [
      "Computing the msd similarity matrix...\nDone computing similarity matrix.\n"
     ]
    },
    {
     "name": "stdout",
     "output_type": "stream",
     "text": [
      "Computing the msd similarity matrix...\nDone computing similarity matrix.\n"
     ]
    },
    {
     "name": "stdout",
     "output_type": "stream",
     "text": [
      "Computing the msd similarity matrix...\nDone computing similarity matrix.\n"
     ]
    },
    {
     "name": "stdout",
     "output_type": "stream",
     "text": [
      "Computing the msd similarity matrix...\nDone computing similarity matrix.\n"
     ]
    },
    {
     "name": "stdout",
     "output_type": "stream",
     "text": [
      "Computing the msd similarity matrix...\nDone computing similarity matrix.\n"
     ]
    },
    {
     "name": "stdout",
     "output_type": "stream",
     "text": [
      "Computing the msd similarity matrix...\nDone computing similarity matrix.\n"
     ]
    },
    {
     "name": "stdout",
     "output_type": "stream",
     "text": [
      "Computing the msd similarity matrix...\nDone computing similarity matrix.\n"
     ]
    },
    {
     "name": "stdout",
     "output_type": "stream",
     "text": [
      "Computing the msd similarity matrix...\nDone computing similarity matrix.\n"
     ]
    },
    {
     "name": "stdout",
     "output_type": "stream",
     "text": [
      "Computing the msd similarity matrix...\nDone computing similarity matrix.\n"
     ]
    },
    {
     "name": "stdout",
     "output_type": "stream",
     "text": [
      "Computing the msd similarity matrix...\nDone computing similarity matrix.\n"
     ]
    },
    {
     "name": "stdout",
     "output_type": "stream",
     "text": [
      "Computing the msd similarity matrix...\nDone computing similarity matrix.\n"
     ]
    },
    {
     "name": "stdout",
     "output_type": "stream",
     "text": [
      "Computing the msd similarity matrix...\nDone computing similarity matrix.\n"
     ]
    },
    {
     "name": "stdout",
     "output_type": "stream",
     "text": [
      "Computing the msd similarity matrix...\nDone computing similarity matrix.\n"
     ]
    },
    {
     "name": "stdout",
     "output_type": "stream",
     "text": [
      "Computing the msd similarity matrix...\nDone computing similarity matrix.\n"
     ]
    },
    {
     "name": "stdout",
     "output_type": "stream",
     "text": [
      "Computing the msd similarity matrix...\nDone computing similarity matrix.\n"
     ]
    },
    {
     "name": "stdout",
     "output_type": "stream",
     "text": [
      "Computing the msd similarity matrix...\nDone computing similarity matrix.\n"
     ]
    },
    {
     "name": "stdout",
     "output_type": "stream",
     "text": [
      "Computing the msd similarity matrix...\nDone computing similarity matrix.\n"
     ]
    },
    {
     "name": "stdout",
     "output_type": "stream",
     "text": [
      "Computing the msd similarity matrix...\nDone computing similarity matrix.\n"
     ]
    },
    {
     "name": "stdout",
     "output_type": "stream",
     "text": [
      "Computing the msd similarity matrix...\nDone computing similarity matrix.\n"
     ]
    },
    {
     "name": "stdout",
     "output_type": "stream",
     "text": [
      "Computing the msd similarity matrix...\nDone computing similarity matrix.\n"
     ]
    },
    {
     "name": "stdout",
     "output_type": "stream",
     "text": [
      "Computing the msd similarity matrix...\nDone computing similarity matrix.\n"
     ]
    },
    {
     "name": "stdout",
     "output_type": "stream",
     "text": [
      "Computing the msd similarity matrix...\nDone computing similarity matrix.\n"
     ]
    },
    {
     "name": "stdout",
     "output_type": "stream",
     "text": [
      "Computing the msd similarity matrix...\nDone computing similarity matrix.\n"
     ]
    }
   ],
   "source": [
    "# model = KNNWithMeans\n",
    "# paramGrid = {\n",
    "#     'n_epochs': [5, 10], \n",
    "#     'n_factors': [10, 50],\n",
    "#     'reg_pu': [0.4, 0.6]\n",
    "# }\n",
    "# runModel(ratingsTrain, model, paramGrid)"
   ]
  },
  {
   "cell_type": "code",
   "execution_count": 73,
   "metadata": {},
   "outputs": [
    {
     "name": "stdout",
     "output_type": "stream",
     "text": [
      "\nUsing 8067 ratings\n"
     ]
    },
    {
     "name": "stdout",
     "output_type": "stream",
     "text": [
      "\nUsing 16134 ratings\n"
     ]
    },
    {
     "name": "stdout",
     "output_type": "stream",
     "text": [
      "\nUsing 24200 ratings\n"
     ]
    },
    {
     "name": "stdout",
     "output_type": "stream",
     "text": [
      "\nUsing 32267 ratings\n"
     ]
    },
    {
     "name": "stdout",
     "output_type": "stream",
     "text": [
      "\nUsing 40334 ratings\n"
     ]
    },
    {
     "name": "stdout",
     "output_type": "stream",
     "text": [
      "\nUsing 48401 ratings\n"
     ]
    },
    {
     "name": "stdout",
     "output_type": "stream",
     "text": [
      "\nUsing 56468 ratings\n"
     ]
    },
    {
     "name": "stdout",
     "output_type": "stream",
     "text": [
      "\nUsing 64534 ratings\n"
     ]
    },
    {
     "name": "stdout",
     "output_type": "stream",
     "text": [
      "\nUsing 72601 ratings\n"
     ]
    },
    {
     "name": "stdout",
     "output_type": "stream",
     "text": [
      "\nUsing 80668 ratings\n"
     ]
    }
   ],
   "source": [
    "scales = [0.1, 0.2, 0.3, 0.4, 0.5, 0.6, 0.7, 0.8, 0.9, 1]\n",
    "\n",
    "scores = []\n",
    "\n",
    "for scale in scales:\n",
    "    ratingsTrainSampledDF = ratingsTrainDF.sample(frac=scale, random_state=833)\n",
    "    numRatings = ratingsTrainSampledDF.shape[0]\n",
    "    # print('')\n",
    "    # print('Using {} ratings'.format(numRatings))\n",
    "    \n",
    "    reader = Reader(rating_scale=(1, 5))\n",
    "    ratingsTrainDataset = Dataset.load_from_df(ratingsTrainSampledDF, reader)\n",
    "    \n",
    "    model = NMF\n",
    "    bestParamGrid = {\n",
    "        'n_epochs': [10], \n",
    "        'n_factors': [5],\n",
    "        'reg_pu': [0.1],\n",
    "        'reg_qi': [0.1],\n",
    "        'biased': [True],\n",
    "        'random_state': [234],\n",
    "    }\n",
    "    gridSearch = runModel(ratingsTrainDataset, model, bestParamGrid)\n",
    "    \n",
    "    # best RMSE score\n",
    "    bestScore = gridSearch.best_score['rmse']\n",
    "    # print('The best RMSE of {}'.format(bestScore))\n",
    "    scores.append(bestScore)"
   ]
  },
  {
   "cell_type": "code",
   "execution_count": 74,
   "metadata": {},
   "outputs": [
    {
     "data": {
      "image/png": "[encoded data removed]",
      "text/plain": [
       "<Figure size 432x288 with 1 Axes>"
      ]
     },
     "metadata": {},
     "output_type": "display_data"
    }
   ],
   "source": [
    "plt.plot(scales, scores, 'o', color='black')\n",
    "plt.title('Matrix Factorization Model')\n",
    "plt.xlabel('Data Sample Percentage')\n",
    "plt.ylabel('rmse')\n",
    "plt.show()\n",
    "plt.close()"
   ]
  },
  {
   "cell_type": "code",
   "execution_count": null,
   "metadata": {},
   "outputs": [],
   "source": []
  }
 ],
 "metadata": {
  "kernelspec": {
   "display_name": "Python 2",
   "language": "python",
   "name": "python2"
  },
  "language_info": {
   "codemirror_mode": {
    "name": "ipython",
    "version": 2
   },
   "file_extension": ".py",
   "mimetype": "text/x-python",
   "name": "python",
   "nbconvert_exporter": "python",
   "pygments_lexer": "ipython2",
   "version": "2.7.6"
  }
 },
 "nbformat": 4,
 "nbformat_minor": 0
}
