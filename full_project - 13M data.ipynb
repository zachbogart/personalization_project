{
 "cells": [
  {
   "cell_type": "code",
   "execution_count": null,
   "metadata": {
    "colab": {
     "base_uri": "https://localhost:8080/",
     "height": 153
    },
    "colab_type": "code",
    "id": "fFlbmdm84J-q",
    "outputId": "e79b8276-81dd-4e35-a5b1-e7288eaa475c"
   },
   "outputs": [],
   "source": [
    "# %%bash\n",
    "# pip install lightfm"
   ]
  },
  {
   "cell_type": "code",
   "execution_count": 1,
   "metadata": {
    "colab": {},
    "colab_type": "code",
    "id": "vRAyVp2f3_JM"
   },
   "outputs": [
    {
     "name": "stderr",
     "output_type": "stream",
     "text": [
      "/Users/joshfeldman/Desktop/Projects/personalization_project/venv/lib/python3.6/site-packages/lightfm/_lightfm_fast.py:9: UserWarning: LightFM was compiled without OpenMP support. Only a single thread will be used.\n",
      "  warnings.warn('LightFM was compiled without OpenMP support. '\n"
     ]
    }
   ],
   "source": [
    "from lightfm import LightFM\n",
    "from lightfm.datasets import fetch_movielens\n",
    "from lightfm.evaluation import precision_at_k, recall_at_k, auc_score\n",
    "from sklearn import model_selection\n",
    "from scipy.sparse import coo_matrix\n",
    "from scipy import sparse\n",
    "from time import time\n",
    "import matplotlib.pyplot as plt\n",
    "import csv\n",
    "\n",
    "import numpy as np\n",
    "import pandas as pd\n",
    "\n",
    "# from google.colab import files"
   ]
  },
  {
   "cell_type": "markdown",
   "metadata": {
    "colab_type": "text",
    "id": "lggw5EBugV0m"
   },
   "source": [
    "## Util"
   ]
  },
  {
   "cell_type": "code",
   "execution_count": 2,
   "metadata": {
    "colab": {},
    "colab_type": "code",
    "id": "ZXYmkugHfKU3"
   },
   "outputs": [],
   "source": [
    "def downloadCSVFile(listOfDicts, fileName):\n",
    "    resultDF = pd.DataFrame(listOfDicts)\n",
    "    resultDF.to_csv(fileName)\n",
    "#   files.download(fileName)"
   ]
  },
  {
   "cell_type": "markdown",
   "metadata": {
    "colab_type": "text",
    "id": "dfDaz12o6Nkp"
   },
   "source": [
    "##Get Data"
   ]
  },
  {
   "cell_type": "code",
   "execution_count": 3,
   "metadata": {
    "colab": {
     "base_uri": "https://localhost:8080/",
     "height": 34
    },
    "colab_type": "code",
    "id": "Movb0besXQMK",
    "outputId": "f48c24f5-622c-46aa-af5c-a3a5d5c70711"
   },
   "outputs": [],
   "source": [
    "# %%bash\n",
    "# mkdir -p 'results'\n",
    "\n",
    "# rm ratings.csv"
   ]
  },
  {
   "cell_type": "code",
   "execution_count": 4,
   "metadata": {
    "colab": {
     "base_uri": "https://localhost:8080/",
     "height": 86,
     "resources": {
      "http://localhost:8080/nbextensions/google.colab/files.js": {
       "data": "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",
       "headers": [
        [
         "content-type",
         "application/javascript"
        ]
       ],
       "ok": true,
       "status": 200,
       "status_text": ""
      }
     }
    },
    "colab_type": "code",
    "id": "fFtc23SrRECP",
    "outputId": "de4a2f36-d79e-48a0-f284-281b6f95abd9"
   },
   "outputs": [],
   "source": [
    "# # Upload ratings.csv\n",
    "\n",
    "# from google.colab import files\n",
    "\n",
    "# uploaded = files.upload()\n",
    "\n",
    "# for fn in uploaded.keys():\n",
    "#   print('User uploaded file \"{name}\" with length {length} bytes'.format(\n",
    "#       name=fn, length=len(uploaded[fn])))"
   ]
  },
  {
   "cell_type": "code",
   "execution_count": null,
   "metadata": {
    "colab": {},
    "colab_type": "code",
    "id": "jJYiA2klXlfz"
   },
   "outputs": [],
   "source": []
  },
  {
   "cell_type": "markdown",
   "metadata": {
    "colab_type": "text",
    "id": "u0QZRkcZ5UgA"
   },
   "source": [
    "### Make Train, Validate, Test"
   ]
  },
  {
   "cell_type": "code",
   "execution_count": 5,
   "metadata": {
    "colab": {},
    "colab_type": "code",
    "id": "PR0ZJtyOP8M0"
   },
   "outputs": [
    {
     "name": "stdout",
     "output_type": "stream",
     "text": [
      "We have 13876722 ratings total\n",
      "We have 278304 users\n",
      "We have 46491 movies\n",
      "We have 11101377 train ratings\n",
      "We have 2775345 test ratings\n",
      "We have 8881101 grid search train ratings\n",
      "We have 2220276 grid search validate ratings\n"
     ]
    }
   ],
   "source": [
    "# ratingsDataPath = 'data-medium/ratings_5550689.csv'\n",
    "# ratingsDataPath = 'data-medium/ratings_1387672.csv'\n",
    "ratingsDataPath = 'data-medium/ratings_13876722.csv'\n",
    "# ratingsDataPath = 'ml-latest-small/ratings.csv'\n",
    "\n",
    "ratingsDF = pd.read_csv(ratingsDataPath)\n",
    "ratingsDF = ratingsDF[['userId', 'movieId', 'rating']]\n",
    "\n",
    "print('We have {} ratings total'.format(len(ratingsDF)))\n",
    "\n",
    "# Alter ratings to work better for our model\n",
    "ratingsDF['rating'] = ratingsDF['rating'].apply(lambda x: x - 2.9)\n",
    "\n",
    "userIds = ratingsDF['userId'].unique().astype('int32')\n",
    "movieIds = ratingsDF['movieId'].unique().astype('int32')\n",
    "\n",
    "print('We have {} users'.format(len(userIds)))\n",
    "print('We have {} movies'.format(len(movieIds)))\n",
    "\n",
    "movieIdToIndex = {}\n",
    "for index, movieId in enumerate(movieIds):\n",
    "    movieIdToIndex[movieId] = index\n",
    "\n",
    "userIdToIndex = {}\n",
    "for index, userId in enumerate(userIds):\n",
    "    userIdToIndex[userId] = index\n",
    "\n",
    "ratingsTrainDF, ratingsTestDF = model_selection.train_test_split(ratingsDF, test_size=0.2, random_state=324)\n",
    "ratingsTrainGridSearchDF, ratingsValidateGridSearchDF = model_selection.train_test_split(ratingsTrainDF, test_size=0.2, random_state=773)\n",
    "\n",
    "print('We have {} train ratings'.format(len(ratingsTrainDF)))\n",
    "print('We have {} test ratings'.format(len(ratingsTestDF)))\n",
    "print('We have {} grid search train ratings'.format(len(ratingsTrainGridSearchDF)))\n",
    "print('We have {} grid search validate ratings'.format(len(ratingsValidateGridSearchDF)))\n"
   ]
  },
  {
   "cell_type": "code",
   "execution_count": 6,
   "metadata": {
    "colab": {
     "base_uri": "https://localhost:8080/",
     "height": 164
    },
    "colab_type": "code",
    "id": "lwWtcTxsNKa2",
    "outputId": "1ff2f702-717e-411b-c34f-89b85ca8ae3c"
   },
   "outputs": [
    {
     "data": {
      "text/html": [
       "<div>\n",
       "<style scoped>\n",
       "    .dataframe tbody tr th:only-of-type {\n",
       "        vertical-align: middle;\n",
       "    }\n",
       "\n",
       "    .dataframe tbody tr th {\n",
       "        vertical-align: top;\n",
       "    }\n",
       "\n",
       "    .dataframe thead th {\n",
       "        text-align: right;\n",
       "    }\n",
       "</style>\n",
       "<table border=\"1\" class=\"dataframe\">\n",
       "  <thead>\n",
       "    <tr style=\"text-align: right;\">\n",
       "      <th></th>\n",
       "      <th>userId</th>\n",
       "      <th>movieId</th>\n",
       "      <th>rating</th>\n",
       "    </tr>\n",
       "  </thead>\n",
       "  <tbody>\n",
       "    <tr>\n",
       "      <th>8114862</th>\n",
       "      <td>18250</td>\n",
       "      <td>3252</td>\n",
       "      <td>1.1</td>\n",
       "    </tr>\n",
       "    <tr>\n",
       "      <th>5499116</th>\n",
       "      <td>9698</td>\n",
       "      <td>5546</td>\n",
       "      <td>-2.4</td>\n",
       "    </tr>\n",
       "    <tr>\n",
       "      <th>9188073</th>\n",
       "      <td>221741</td>\n",
       "      <td>3949</td>\n",
       "      <td>0.6</td>\n",
       "    </tr>\n",
       "    <tr>\n",
       "      <th>3458186</th>\n",
       "      <td>274455</td>\n",
       "      <td>31696</td>\n",
       "      <td>1.1</td>\n",
       "    </tr>\n",
       "    <tr>\n",
       "      <th>5738893</th>\n",
       "      <td>82514</td>\n",
       "      <td>52604</td>\n",
       "      <td>0.6</td>\n",
       "    </tr>\n",
       "  </tbody>\n",
       "</table>\n",
       "</div>"
      ],
      "text/plain": [
       "         userId  movieId  rating\n",
       "8114862   18250     3252     1.1\n",
       "5499116    9698     5546    -2.4\n",
       "9188073  221741     3949     0.6\n",
       "3458186  274455    31696     1.1\n",
       "5738893   82514    52604     0.6"
      ]
     },
     "execution_count": 6,
     "metadata": {},
     "output_type": "execute_result"
    }
   ],
   "source": [
    "ratingsTrainDF.head()"
   ]
  },
  {
   "cell_type": "code",
   "execution_count": null,
   "metadata": {
    "colab": {},
    "colab_type": "code",
    "id": "v1R33UyCSjDd"
   },
   "outputs": [],
   "source": []
  },
  {
   "cell_type": "markdown",
   "metadata": {
    "colab_type": "text",
    "id": "I1ppHISbiyv_"
   },
   "source": [
    "### Convert to Matrix"
   ]
  },
  {
   "cell_type": "code",
   "execution_count": 7,
   "metadata": {
    "colab": {
     "base_uri": "https://localhost:8080/",
     "height": 232
    },
    "colab_type": "code",
    "id": "Q3oHre0tVS1E",
    "outputId": "bf5bd6a6-17fd-4453-d37e-1310e9ac3b8a"
   },
   "outputs": [
    {
     "name": "stdout",
     "output_type": "stream",
     "text": [
      "Shape of X Train: (278304, 46491)\n",
      "Shape of X Validate: (278304, 46491)\n",
      "Shape of X Test: (278304, 46491)\n"
     ]
    }
   ],
   "source": [
    "def ratingsDFToUserMovieMatrix(ratingsDF, userIdToIndex, movieIdToIndex):\n",
    "    numUsers = len(userIdToIndex)\n",
    "    numMovies = len(movieIdToIndex)\n",
    "    \n",
    "#     startTime = time()\n",
    "#     mat = sparse.coo_matrix((ratingsDF[\"rating\"], (ratingsDF[\"userId\"], ratingsDF[\"movieId\"])))\n",
    "#     result1 = mat\n",
    "#     totalTime = time() - startTime\n",
    "#     print('Method 1 takes {} seconds'.format(totalTime))\n",
    "#     print(result1.todense())\n",
    "#     print('Shape: {}'.format(result1.shape))\n",
    "#     print('')\n",
    "\n",
    "#     startTime = time()\n",
    "#     ratingsDF2 = ratingsDF.copy()\n",
    "#     numRatings = len(ratingsDF)\n",
    "#     usersInDF = set(ratingsDF['userId'])\n",
    "#     for user in userIds:\n",
    "#         if user not in usersInDF:\n",
    "#             ratingsDF2.loc[numRatings] = 0\n",
    "#             numRatings += 1\n",
    "#     moviesInDF = set(ratingsDF['movieId'])\n",
    "#     for movie in movieIds:\n",
    "#         if movie not in moviesInDF:\n",
    "#             ratingsDF2.loc[numRatings] = 0\n",
    "#             numRatings += 1\n",
    "        \n",
    "#     userItemDF = ratingsDF2.pivot_table(index='userId', columns='movieId', values='rating', fill_value=0)#.fillna(0)\n",
    "#     result2 = coo_matrix(userItemDF.values)\n",
    "#     totalTime = time() - startTime\n",
    "#     print('Method 2 takes {} seconds'.format(totalTime))\n",
    "#     print(result2.todense())\n",
    "#     print('Shape: {}'.format(result2.shape))\n",
    "#     print('')\n",
    "\n",
    "    startTime = time()\n",
    "    userMovieMatrix = np.zeros((numUsers, numMovies))\n",
    "    for index, row in ratingsDF.iterrows():\n",
    "        userId = int(row['userId'])\n",
    "        movieId = int(row['movieId'])\n",
    "        rating = float(row['rating'])\n",
    "\n",
    "        userIndex = userIdToIndex[userId]\n",
    "        movieIndex = movieIdToIndex[movieId]\n",
    "        userMovieMatrix[userIndex, movieIndex] = rating\n",
    "    result3 = sparse.coo_matrix(userMovieMatrix)\n",
    "    totalTime = time() - startTime\n",
    "#     print('')\n",
    "#     print('Method 3 takes {} seconds'.format(totalTime))\n",
    "        \n",
    "#     print('Method 1 and 2: {}'.format(result1 == result2))\n",
    "#     print('Method 2 and 3: {}'.format(result2 == result3))\n",
    "    \n",
    "    return result3\n",
    "\n",
    "\n",
    "#     return coo_matrix(userMovieMatrix)\n",
    "\n",
    "\n",
    "XTrain = ratingsDFToUserMovieMatrix(ratingsTrainGridSearchDF, userIdToIndex, movieIdToIndex)\n",
    "print('Shape of X Train: {}'.format(XTrain.shape))\n",
    "XValidate = ratingsDFToUserMovieMatrix(ratingsValidateGridSearchDF, userIdToIndex, movieIdToIndex)\n",
    "print('Shape of X Validate: {}'.format(XValidate.shape))\n",
    "XTest = ratingsDFToUserMovieMatrix(ratingsTestDF, userIdToIndex, movieIdToIndex)\n",
    "print('Shape of X Test: {}'.format(XTest.shape))"
   ]
  },
  {
   "cell_type": "code",
   "execution_count": null,
   "metadata": {
    "colab": {
     "base_uri": "https://localhost:8080/",
     "height": 198
    },
    "colab_type": "code",
    "id": "3mtDUYfj6V9u",
    "outputId": "d08d5e4b-d25c-40ca-8d97-e8f26290539a"
   },
   "outputs": [],
   "source": []
  },
  {
   "cell_type": "code",
   "execution_count": null,
   "metadata": {
    "colab": {},
    "colab_type": "code",
    "id": "V41O4m_t4Paz"
   },
   "outputs": [],
   "source": []
  },
  {
   "cell_type": "markdown",
   "metadata": {
    "colab_type": "text",
    "id": "JLm5_DSd9wrf"
   },
   "source": [
    "# Add K-Fold Validation to Grid Search"
   ]
  },
  {
   "cell_type": "markdown",
   "metadata": {
    "colab_type": "text",
    "id": "OJ5XGOkCi5xt"
   },
   "source": [
    "# Run Grid Search"
   ]
  },
  {
   "cell_type": "code",
   "execution_count": 8,
   "metadata": {
    "colab": {},
    "colab_type": "code",
    "id": "q5WF_ACA4VxH"
   },
   "outputs": [],
   "source": [
    "def runModel(params, XTrain, XTest):\n",
    "    learningRate = params['learning_rate']\n",
    "    lossFunction = params['loss']\n",
    "    learning_schedule = params['learning_schedule']\n",
    "  \n",
    "    startTime = time()\n",
    "  \n",
    "    model = LightFM(\n",
    "        learning_rate=learningRate, \n",
    "        loss=lossFunction, \n",
    "        learning_schedule=learning_schedule, \n",
    "        random_state=8362\n",
    "    )\n",
    "    model.fit(XTrain, epochs=5)\n",
    "\n",
    "    totalTime = time() - startTime\n",
    "\n",
    "    # Evaluate the trained model\n",
    "    #   test_precision = precision_at_k(model, XTest, k=10).mean()\n",
    "    #   test_recall = recall_at_k(model, XTest, k=10).mean()\n",
    "    train_auc = auc_score(model, XTrain).mean()\n",
    "    test_auc = auc_score(model, XTest).mean()\n",
    "\n",
    "    return train_auc, test_auc, totalTime"
   ]
  },
  {
   "cell_type": "code",
   "execution_count": 9,
   "metadata": {
    "colab": {},
    "colab_type": "code",
    "id": "nPP7-8qL6CEX"
   },
   "outputs": [],
   "source": [
    "gridSearchParams = {\n",
    "    'learning_rate': [0.05],\n",
    "    'loss': ['logistic', 'bpr', 'warp', 'warp-kos'],\n",
    "#     'loss': ['bpr'],\n",
    "    'learning_schedule': ['adagrad', 'adadelta'],\n",
    "}\n",
    "\n",
    "def gridSearch(gridSearchParams):\n",
    "  \n",
    "    results = []\n",
    "  \n",
    "    for learningRate in gridSearchParams['learning_rate']:\n",
    "        for lossFunction in gridSearchParams['loss']:\n",
    "            for learning_schedule in gridSearchParams['learning_schedule']:\n",
    "                params = {\n",
    "                    'learning_rate': learningRate,\n",
    "                    'loss': lossFunction,\n",
    "                    'learning_schedule': learning_schedule,\n",
    "                }\n",
    "                print('Running for params: {}'.format(params))\n",
    "                train_auc, test_auc, totalTime = runModel(params, XTrain, XValidate)\n",
    "                params['train_auc'] = train_auc\n",
    "                params['test_auc'] = test_auc\n",
    "                params['time'] = totalTime\n",
    "                results.append(params)\n",
    "        \n",
    "    print(results)\n",
    "    downloadCSVFile(results, 'gridSearchResults.csv')\n",
    "    return results"
   ]
  },
  {
   "cell_type": "code",
   "execution_count": null,
   "metadata": {
    "colab": {},
    "colab_type": "code",
    "id": "11Kr4x5Ye9xK"
   },
   "outputs": [
    {
     "name": "stdout",
     "output_type": "stream",
     "text": [
      "Running for params: {'learning_rate': 0.05, 'loss': 'logistic', 'learning_schedule': 'adagrad'}\n",
      "Running for params: {'learning_rate': 0.05, 'loss': 'logistic', 'learning_schedule': 'adadelta'}\n",
      "Running for params: {'learning_rate': 0.05, 'loss': 'bpr', 'learning_schedule': 'adagrad'}\n",
      "Running for params: {'learning_rate': 0.05, 'loss': 'bpr', 'learning_schedule': 'adadelta'}\n",
      "Running for params: {'learning_rate': 0.05, 'loss': 'warp', 'learning_schedule': 'adagrad'}\n",
      "Running for params: {'learning_rate': 0.05, 'loss': 'warp', 'learning_schedule': 'adadelta'}\n",
      "Running for params: {'learning_rate': 0.05, 'loss': 'warp-kos', 'learning_schedule': 'adagrad'}\n",
      "Running for params: {'learning_rate': 0.05, 'loss': 'warp-kos', 'learning_schedule': 'adadelta'}\n",
      "[{'learning_rate': 0.05, 'loss': 'logistic', 'learning_schedule': 'adagrad', 'train_auc': 0.90176773, 'test_auc': 0.9065967, 'time': 41.997424840927124}, {'learning_rate': 0.05, 'loss': 'logistic', 'learning_schedule': 'adadelta', 'train_auc': 0.8889635, 'test_auc': 0.8949989, 'time': 44.459969997406006}, {'learning_rate': 0.05, 'loss': 'bpr', 'learning_schedule': 'adagrad', 'train_auc': 0.90670204, 'test_auc': 0.88085854, 'time': 52.89458394050598}, {'learning_rate': 0.05, 'loss': 'bpr', 'learning_schedule': 'adadelta', 'train_auc': 0.9385197, 'test_auc': 0.921634, 'time': 55.41671323776245}, {'learning_rate': 0.05, 'loss': 'warp', 'learning_schedule': 'adagrad', 'train_auc': 0.9865967, 'test_auc': 0.98366535, 'time': 46.81434631347656}, {'learning_rate': 0.05, 'loss': 'warp', 'learning_schedule': 'adadelta', 'train_auc': 0.9839919, 'test_auc': 0.98314655, 'time': 62.67248892784119}, {'learning_rate': 0.05, 'loss': 'warp-kos', 'learning_schedule': 'adagrad', 'train_auc': 0.98231757, 'test_auc': 0.97679526, 'time': 92.77039003372192}, {'learning_rate': 0.05, 'loss': 'warp-kos', 'learning_schedule': 'adadelta', 'train_auc': 0.97998875, 'test_auc': 0.97775346, 'time': 111.35166573524475}]\n",
      "Total time: 295.11 minutes\n"
     ]
    }
   ],
   "source": [
    "startTime = time()\n",
    "\n",
    "gridSearchResults = gridSearch(gridSearchParams)\n",
    "\n",
    "totalTime = time() - startTime\n",
    "if totalTime > 60:\n",
    "    print('Total time: {:0.2f} minutes'.format(totalTime / 60))\n",
    "else:\n",
    "    print('Total time: {:0.2f} seconds'.format(totalTime))"
   ]
  },
  {
   "cell_type": "code",
   "execution_count": null,
   "metadata": {
    "colab": {},
    "colab_type": "code",
    "id": "jb5dF-0LfoOm"
   },
   "outputs": [
    {
     "name": "stdout",
     "output_type": "stream",
     "text": [
      "Best AUC is: 0.9836653470993042\n"
     ]
    },
    {
     "data": {
      "text/plain": [
       "{'learning_rate': 0.05, 'learning_schedule': 'adagrad', 'loss': 'warp'}"
      ]
     },
     "execution_count": 11,
     "metadata": {},
     "output_type": "execute_result"
    }
   ],
   "source": [
    "def extractBestParams(gridSearchResults):\n",
    "    bestIndex = 0\n",
    "    bestAUC = gridSearchResults[0]['test_auc']\n",
    "\n",
    "    for index, results in enumerate(gridSearchResults):\n",
    "        if results['test_auc'] > bestAUC:\n",
    "            bestAUC = results['test_auc']\n",
    "            bestIndex = index\n",
    "\n",
    "    bestParams = {}\n",
    "    for param, value in gridSearchResults[bestIndex].items():\n",
    "        if param in ['train_auc', 'test_auc', 'time']:\n",
    "            continue\n",
    "        bestParams[param] = value\n",
    "\n",
    "    print('Best AUC is: {}'.format(bestAUC))\n",
    "    return bestParams\n",
    "\n",
    "bestParams = extractBestParams(gridSearchResults)\n",
    "bestParams"
   ]
  },
  {
   "cell_type": "code",
   "execution_count": null,
   "metadata": {
    "colab": {},
    "colab_type": "code",
    "id": "ck1uk4lQx5WW"
   },
   "outputs": [
    {
     "data": {
      "image/png": "[encoded data removed]",
      "text/plain": [
       "<Figure size 432x288 with 1 Axes>"
      ]
     },
     "metadata": {
      "needs_background": "light"
     },
     "output_type": "display_data"
    },
    {
     "data": {
      "image/png": "[encoded data removed]",
      "text/plain": [
       "<Figure size 432x288 with 1 Axes>"
      ]
     },
     "metadata": {
      "needs_background": "light"
     },
     "output_type": "display_data"
    },
    {
     "data": {
      "image/png": "[encoded data removed]",
      "text/plain": [
       "<Figure size 432x288 with 1 Axes>"
      ]
     },
     "metadata": {
      "needs_background": "light"
     },
     "output_type": "display_data"
    }
   ],
   "source": [
    "def plotGridSearchResults(gridSearchResults):\n",
    "    gridSearchDF = pd.DataFrame(gridSearchResults)\n",
    "    for param in gridSearchParams.keys():\n",
    "        plt.scatter(gridSearchDF[param], gridSearchDF['train_auc'], color='blue')\n",
    "        plt.scatter(gridSearchDF[param], gridSearchDF['test_auc'], color='green')\n",
    "        plt.title('AUC -- {}'.format(param))\n",
    "        plt.ylabel('AUC')\n",
    "        plt.xlabel(param)\n",
    "        plt.legend(['train', 'test'], loc='upper right')\n",
    "        plt.show()\n",
    "\n",
    "plotGridSearchResults(gridSearchResults)"
   ]
  },
  {
   "cell_type": "code",
   "execution_count": null,
   "metadata": {},
   "outputs": [
    {
     "data": {
      "image/png": "[encoded data removed]",
      "text/plain": [
       "<Figure size 432x288 with 1 Axes>"
      ]
     },
     "metadata": {
      "needs_background": "light"
     },
     "output_type": "display_data"
    }
   ],
   "source": [
    "def plotGridSearchTime(gridSearchResults):\n",
    "    gridSearchDF = pd.DataFrame(gridSearchResults)\n",
    "    plt.scatter(gridSearchDF['loss'], gridSearchDF['time'], color='blue')\n",
    "    plt.title('Time -- {}'.format('loss'))\n",
    "    plt.ylabel('Time')\n",
    "    plt.xlabel('loss')\n",
    "    plt.legend(['time'], loc='upper right')\n",
    "    plt.show()\n",
    "\n",
    "plotGridSearchTime(gridSearchResults)"
   ]
  },
  {
   "cell_type": "markdown",
   "metadata": {
    "colab_type": "text",
    "id": "pgchjMnutcxW"
   },
   "source": [
    "# Find Best # of Epochs"
   ]
  },
  {
   "cell_type": "markdown",
   "metadata": {},
   "source": [
    "Write code to check best score in each epoch and then return the best score, not the last score"
   ]
  },
  {
   "cell_type": "markdown",
   "metadata": {
    "colab_type": "text",
    "id": "mHKpyLy77IvI"
   },
   "source": [
    "# Sampling Amount of Data"
   ]
  },
  {
   "cell_type": "code",
   "execution_count": null,
   "metadata": {
    "colab": {},
    "colab_type": "code",
    "id": "R8tRcWXv0BIy"
   },
   "outputs": [
    {
     "data": {
      "text/plain": [
       "[2220275, 4440550, 6660826, 8881101, 11101377]"
      ]
     },
     "execution_count": 14,
     "metadata": {},
     "output_type": "execute_result"
    }
   ],
   "source": [
    "dataFractions = np.arange(0.2, 1.2, 0.2)\n",
    "numRatings = len(ratingsTrainDF)\n",
    "dataSizes = [int(fraction * numRatings) for fraction in dataFractions]\n",
    "dataSizes"
   ]
  },
  {
   "cell_type": "code",
   "execution_count": null,
   "metadata": {
    "colab": {},
    "colab_type": "code",
    "id": "wacMRXoR-o2j"
   },
   "outputs": [],
   "source": [
    "def sizeSamplingSearch(dataSizes):\n",
    "    sizeSamplingResults = []\n",
    "\n",
    "    for numRatings in dataSizes:\n",
    "        print('')\n",
    "        print('Running for size: {}'.format(numRatings))\n",
    "        ratingsTrainDFSampled = ratingsTrainDF.sample(n=numRatings)\n",
    "        XTrain = ratingsDFToUserMovieMatrix(ratingsTrainDFSampled, userIdToIndex, movieIdToIndex)\n",
    "        train_auc, test_auc, totalTime = runModel(bestParams, XTrain, XValidate)\n",
    "        result = {\n",
    "            'numRatings': numRatings,\n",
    "            'train_auc': train_auc,\n",
    "            'test_auc': test_auc,\n",
    "            'time': totalTime,\n",
    "        }\n",
    "        sizeSamplingResults.append(result)\n",
    "\n",
    "    return sizeSamplingResults"
   ]
  },
  {
   "cell_type": "code",
   "execution_count": null,
   "metadata": {
    "colab": {},
    "colab_type": "code",
    "id": "7mQkH7OmB7oL"
   },
   "outputs": [
    {
     "name": "stdout",
     "output_type": "stream",
     "text": [
      "\n",
      "Running for size: 2220275\n",
      "\n",
      "Running for size: 4440550\n",
      "\n",
      "Running for size: 6660826\n",
      "\n",
      "Running for size: 8881101\n",
      "\n",
      "Running for size: 11101377\n"
     ]
    }
   ],
   "source": [
    "sizeSamplingResults = sizeSamplingSearch(dataSizes)\n"
   ]
  },
  {
   "cell_type": "code",
   "execution_count": null,
   "metadata": {
    "colab": {},
    "colab_type": "code",
    "id": "TQlm7kVqB9bF"
   },
   "outputs": [
    {
     "data": {
      "image/png": "[encoded data removed]",
      "text/plain": [
       "<Figure size 432x288 with 1 Axes>"
      ]
     },
     "metadata": {
      "needs_background": "light"
     },
     "output_type": "display_data"
    },
    {
     "data": {
      "image/png": "[encoded data removed]",
      "text/plain": [
       "<Figure size 432x288 with 1 Axes>"
      ]
     },
     "metadata": {
      "needs_background": "light"
     },
     "output_type": "display_data"
    }
   ],
   "source": [
    "def plotSizeSamplingResults(sizeSamplingResults):\n",
    "    sizeSamplingDF = pd.DataFrame(sizeSamplingResults)\n",
    "\n",
    "    plt.scatter(sizeSamplingDF['numRatings'], sizeSamplingDF['train_auc'], color='blue')\n",
    "    plt.scatter(sizeSamplingDF['numRatings'], sizeSamplingDF['test_auc'], color='green')\n",
    "    plt.title('AUC -- Number of Ratings')\n",
    "    plt.ylabel('AUC')\n",
    "    plt.xlabel('Number of Ratings')\n",
    "    plt.legend(['train', 'test'], loc='upper right')\n",
    "    plt.show()\n",
    "\n",
    "    plt.scatter(sizeSamplingDF['numRatings'], sizeSamplingDF['time'], color='blue')\n",
    "    plt.title('Time -- Number of Ratings')\n",
    "    plt.ylabel('Time')\n",
    "    plt.xlabel('Number of Ratings')\n",
    "    plt.legend(['time'], loc='upper left')\n",
    "    plt.show()\n",
    "\n",
    "plotSizeSamplingResults(sizeSamplingResults)"
   ]
  },
  {
   "cell_type": "code",
   "execution_count": null,
   "metadata": {
    "colab": {},
    "colab_type": "code",
    "id": "yYUb7usiJAZo"
   },
   "outputs": [],
   "source": []
  },
  {
   "cell_type": "markdown",
   "metadata": {
    "colab_type": "text",
    "id": "Y8wOv6zqTMRv"
   },
   "source": [
    "# Sample By Number of Users"
   ]
  },
  {
   "cell_type": "code",
   "execution_count": null,
   "metadata": {
    "colab": {},
    "colab_type": "code",
    "id": "WIprTpi1TPAG"
   },
   "outputs": [
    {
     "data": {
      "text/plain": [
       "[55660, 111321, 166982, 222643, 278304]"
      ]
     },
     "execution_count": 18,
     "metadata": {},
     "output_type": "execute_result"
    }
   ],
   "source": [
    "userFractions = np.arange(0.2, 1.2, 0.2)\n",
    "numUsers = len(userIds)\n",
    "userSizes = [int(fraction * numUsers) for fraction in userFractions]\n",
    "userSizes"
   ]
  },
  {
   "cell_type": "code",
   "execution_count": null,
   "metadata": {
    "colab": {},
    "colab_type": "code",
    "id": "5TOQTQpY6uzZ"
   },
   "outputs": [],
   "source": [
    "def userSamplingSearch(userSizes):\n",
    "    userSamplingResults = []\n",
    "\n",
    "    for numUsers in userSizes:\n",
    "        print('Running for size: {}'.format(numUsers))\n",
    "        sampledUserIds = np.random.choice(userIds, numUsers, replace=False)\n",
    "        userIdToIndexSampled = {}\n",
    "        for index, userId in enumerate(sampledUserIds):\n",
    "            userIdToIndexSampled[userId] = index\n",
    "\n",
    "        ratingsDFSampled = ratingsDF[ratingsDF['userId'].isin(sampledUserIds)]\n",
    "\n",
    "        ratingsTrainDFSampled, ratingsTestDFSampled = model_selection.train_test_split(ratingsDFSampled, test_size=0.2, random_state=3339)\n",
    "        XTrain = ratingsDFToUserMovieMatrix(ratingsTrainDFSampled, userIdToIndexSampled, movieIdToIndex)\n",
    "        XTest = ratingsDFToUserMovieMatrix(ratingsTestDFSampled, userIdToIndexSampled, movieIdToIndex)\n",
    "\n",
    "        train_auc, test_auc, totalTime = runModel(bestParams, XTrain, XTest)\n",
    "        result = {\n",
    "            'numUsers': numUsers,\n",
    "            'train_auc': train_auc,\n",
    "            'test_auc': test_auc,\n",
    "            'time': totalTime,\n",
    "        }\n",
    "        userSamplingResults.append(result)\n",
    "\n",
    "    return userSamplingResults"
   ]
  },
  {
   "cell_type": "code",
   "execution_count": null,
   "metadata": {
    "colab": {},
    "colab_type": "code",
    "id": "xsLzLcOaAQsT"
   },
   "outputs": [
    {
     "name": "stdout",
     "output_type": "stream",
     "text": [
      "Running for size: 55660\n",
      "Running for size: 111321\n",
      "Running for size: 166982\n"
     ]
    }
   ],
   "source": [
    "userSamplingResults = userSamplingSearch(userSizes)\n",
    "userSamplingResults"
   ]
  },
  {
   "cell_type": "code",
   "execution_count": null,
   "metadata": {
    "colab": {},
    "colab_type": "code",
    "id": "mtMts6T1AT7R"
   },
   "outputs": [],
   "source": [
    "def plotUserSamplingResults(sizeSamplingResults):\n",
    "    sizeSamplingDF = pd.DataFrame(sizeSamplingResults)\n",
    "\n",
    "    plt.scatter(sizeSamplingDF['numUsers'], sizeSamplingDF['train_auc'], color='blue')\n",
    "    plt.scatter(sizeSamplingDF['numUsers'], sizeSamplingDF['test_auc'], color='green')\n",
    "    plt.title('AUC -- Number of Ratings')\n",
    "    plt.ylabel('AUC')\n",
    "    plt.xlabel('Number of Users')\n",
    "    plt.legend(['train', 'test'], loc='upper right')\n",
    "    plt.show()\n",
    "\n",
    "    plt.scatter(sizeSamplingDF['numUsers'], sizeSamplingDF['time'], color='blue')\n",
    "    plt.title('Time -- Number of Ratings')\n",
    "    plt.ylabel('Time')\n",
    "    plt.xlabel('Number of Users')\n",
    "    plt.legend( ['time'], loc='upper left')\n",
    "    plt.show()\n",
    "\n",
    "plotUserSamplingResults(userSamplingResults)"
   ]
  },
  {
   "cell_type": "markdown",
   "metadata": {
    "colab": {},
    "colab_type": "code",
    "id": "-9Opw_EQBcPF"
   },
   "source": [
    "# Sample By Number of Movies"
   ]
  },
  {
   "cell_type": "code",
   "execution_count": null,
   "metadata": {},
   "outputs": [],
   "source": [
    "movieFractions = np.arange(0.2, 1.2, 0.2)\n",
    "numMovies = len(movieIds)\n",
    "movieSizes = [int(fraction * numMovies) for fraction in movieFractions]\n",
    "movieSizes"
   ]
  },
  {
   "cell_type": "code",
   "execution_count": null,
   "metadata": {},
   "outputs": [],
   "source": [
    "def movieSamplingSearch(movieSizes):\n",
    "    movieSamplingResults = []\n",
    "\n",
    "    for numMovies in movieSizes:\n",
    "        print('Running for size: {}'.format(numMovies))\n",
    "        sampledMovieIds = np.random.choice(movieIds, numMovies, replace=False)\n",
    "        movieIdToIndexSampled = {}\n",
    "        for index, movieId in enumerate(sampledMovieIds):\n",
    "            movieIdToIndexSampled[movieId] = index\n",
    "\n",
    "        ratingsDFSampled = ratingsDF[ratingsDF['movieId'].isin(sampledMovieIds)]\n",
    "\n",
    "        ratingsTrainDFSampled, ratingsTestDFSampled = model_selection.train_test_split(ratingsDFSampled, test_size=0.2, random_state=3339)\n",
    "        XTrain = ratingsDFToUserMovieMatrix(ratingsTrainDFSampled, userIdToIndex, movieIdToIndexSampled)\n",
    "        XTest = ratingsDFToUserMovieMatrix(ratingsTestDFSampled, userIdToIndex, movieIdToIndexSampled)\n",
    "\n",
    "        train_auc, test_auc, totalTime = runModel(bestParams, XTrain, XTest)\n",
    "        result = {\n",
    "            'numMovie': numMovies,\n",
    "            'train_auc': train_auc,\n",
    "            'test_auc': test_auc,\n",
    "            'time': totalTime,\n",
    "        }\n",
    "        movieSamplingResults.append(result)\n",
    "\n",
    "    return movieSamplingResults"
   ]
  },
  {
   "cell_type": "code",
   "execution_count": null,
   "metadata": {},
   "outputs": [],
   "source": [
    "movieSamplingResults = movieSamplingSearch(movieSizes)\n",
    "movieSamplingResults"
   ]
  },
  {
   "cell_type": "code",
   "execution_count": null,
   "metadata": {},
   "outputs": [],
   "source": [
    "def plotMovieSamplingResults(sizeSamplingResults):\n",
    "    sizeSamplingDF = pd.DataFrame(sizeSamplingResults)\n",
    "\n",
    "    plt.scatter(sizeSamplingDF['numMovie'], sizeSamplingDF['train_auc'], color='blue')\n",
    "    plt.scatter(sizeSamplingDF['numMovie'], sizeSamplingDF['test_auc'], color='green')\n",
    "    plt.title('AUC -- Number of Ratings')\n",
    "    plt.ylabel('AUC')\n",
    "    plt.xlabel('Number of Movies')\n",
    "    plt.legend(['train', 'test'], loc='upper right')\n",
    "    plt.show()\n",
    "\n",
    "    plt.scatter(sizeSamplingDF['numMovie'], sizeSamplingDF['time'], color='blue')\n",
    "    plt.title('Time -- Number of Ratings')\n",
    "    plt.ylabel('Time')\n",
    "    plt.xlabel('Number of Movies')\n",
    "    plt.legend( ['time'], loc='upper left')\n",
    "    plt.show()\n",
    "\n",
    "plotMovieSamplingResults(movieSamplingResults)"
   ]
  },
  {
   "cell_type": "code",
   "execution_count": null,
   "metadata": {},
   "outputs": [],
   "source": []
  },
  {
   "cell_type": "code",
   "execution_count": null,
   "metadata": {},
   "outputs": [],
   "source": []
  }
 ],
 "metadata": {
  "accelerator": "GPU",
  "colab": {
   "collapsed_sections": [],
   "name": "Personalization Project - FM.ipynb",
   "provenance": [],
   "version": "0.3.2"
  },
  "kernelspec": {
   "display_name": "venv",
   "language": "python",
   "name": "venv"
  },
  "language_info": {
   "codemirror_mode": {
    "name": "ipython",
    "version": 3
   },
   "file_extension": ".py",
   "mimetype": "text/x-python",
   "name": "python",
   "nbconvert_exporter": "python",
   "pygments_lexer": "ipython3",
   "version": "3.6.6"
  }
 },
 "nbformat": 4,
 "nbformat_minor": 1
}
