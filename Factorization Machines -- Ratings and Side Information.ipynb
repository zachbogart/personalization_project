{
 "cells": [
  {
   "cell_type": "code",
   "execution_count": 1,
   "metadata": {
    "colab": {
     "base_uri": "https://localhost:8080/",
     "height": 153
    },
    "colab_type": "code",
    "id": "fFlbmdm84J-q",
    "outputId": "859ceba7-f525-4bd9-f688-eb41c7cf3ba0"
   },
   "outputs": [],
   "source": [
    "# %%bash\n",
    "# pip install lightfm"
   ]
  },
  {
   "cell_type": "code",
   "execution_count": 2,
   "metadata": {
    "colab": {},
    "colab_type": "code",
    "id": "vRAyVp2f3_JM"
   },
   "outputs": [
    {
     "name": "stderr",
     "output_type": "stream",
     "text": [
      "/Users/joshfeldman/Desktop/Projects/personalization_project/venv/lib/python3.6/site-packages/lightfm/_lightfm_fast.py:9: UserWarning: LightFM was compiled without OpenMP support. Only a single thread will be used.\n",
      "  warnings.warn('LightFM was compiled without OpenMP support. '\n"
     ]
    }
   ],
   "source": [
    "from lightfm import LightFM\n",
    "from lightfm.datasets import fetch_movielens\n",
    "from lightfm.evaluation import precision_at_k, recall_at_k, auc_score\n",
    "from sklearn import model_selection\n",
    "from sklearn.model_selection import KFold\n",
    "from scipy.sparse import coo_matrix\n",
    "from sklearn import preprocessing\n",
    "from time import time\n",
    "import matplotlib.pyplot as plt\n",
    "import csv\n",
    "\n",
    "import numpy as np\n",
    "import pandas as pd\n",
    "\n",
    "# from google.colab import files"
   ]
  },
  {
   "cell_type": "markdown",
   "metadata": {
    "colab_type": "text",
    "id": "lggw5EBugV0m"
   },
   "source": [
    "## Util"
   ]
  },
  {
   "cell_type": "code",
   "execution_count": 3,
   "metadata": {
    "colab": {},
    "colab_type": "code",
    "id": "ZXYmkugHfKU3"
   },
   "outputs": [],
   "source": [
    "def downloadCSVFile(listOfDicts, fileName):\n",
    "  resultDF = pd.DataFrame(listOfDicts)\n",
    "  resultDF.to_csv(fileName)\n",
    "#   files.download(fileName)"
   ]
  },
  {
   "cell_type": "markdown",
   "metadata": {
    "colab_type": "text",
    "id": "dfDaz12o6Nkp"
   },
   "source": [
    "##Get Data"
   ]
  },
  {
   "cell_type": "code",
   "execution_count": 4,
   "metadata": {
    "colab": {
     "base_uri": "https://localhost:8080/",
     "height": 102
    },
    "colab_type": "code",
    "id": "Movb0besXQMK",
    "outputId": "4a289581-2d30-4751-bf27-c032c18f4f98"
   },
   "outputs": [],
   "source": [
    "# %%bash\n",
    "# ls\n",
    "# mkdir -p 'results'\n",
    "\n",
    "# rm ratings.csv"
   ]
  },
  {
   "cell_type": "code",
   "execution_count": 5,
   "metadata": {
    "colab": {
     "base_uri": "https://localhost:8080/",
     "height": 86,
     "resources": {
      "http://localhost:8080/nbextensions/google.colab/files.js": {
       "data": "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",
       "headers": [
        [
         "content-type",
         "application/javascript"
        ]
       ],
       "ok": true,
       "status": 200,
       "status_text": ""
      }
     }
    },
    "colab_type": "code",
    "id": "fFtc23SrRECP",
    "outputId": "a2f0181e-5b1f-438a-c5ea-9d9fa55bde78"
   },
   "outputs": [],
   "source": [
    "# Upload ratings.csv\n",
    "\n",
    "# from google.colab import files\n",
    "\n",
    "# uploaded = files.upload()\n",
    "\n",
    "# for fn in uploaded.keys():\n",
    "#   print('User uploaded file \"{name}\" with length {length} bytes'.format(\n",
    "#       name=fn, length=len(uploaded[fn])))"
   ]
  },
  {
   "cell_type": "code",
   "execution_count": null,
   "metadata": {
    "colab": {},
    "colab_type": "code",
    "id": "azpqzZPIcCZc"
   },
   "outputs": [],
   "source": []
  },
  {
   "cell_type": "markdown",
   "metadata": {
    "colab_type": "text",
    "id": "u0QZRkcZ5UgA"
   },
   "source": [
    "### Make Train, Validate, Test"
   ]
  },
  {
   "cell_type": "code",
   "execution_count": 6,
   "metadata": {
    "colab": {
     "base_uri": "https://localhost:8080/",
     "height": 119
    },
    "colab_type": "code",
    "id": "PR0ZJtyOP8M0",
    "outputId": "44c36960-0ac8-4e87-86bc-bb29b36fc902"
   },
   "outputs": [
    {
     "name": "stdout",
     "output_type": "stream",
     "text": [
      "We have 203750 users\n",
      "We have 24174 movies\n",
      "We have 1110137 train ratings\n",
      "We have 277535 test ratings\n",
      "We have 740091 grid search train ratings for each of 3 folds\n",
      "We have 370046 grid search validate ratings for each of 3 folds\n"
     ]
    }
   ],
   "source": [
    "ratingsDataPath = 'data-medium/ratings_1387672.csv'\n",
    "# ratingsDataPath = 'ratings.csv'\n",
    "\n",
    "ratingsDF = pd.read_csv(ratingsDataPath)\n",
    "ratingsDF = ratingsDF[['userId', 'movieId', 'rating']]\n",
    "\n",
    "# Alter ratings to work better for our model\n",
    "ratingsDF['rating'] = ratingsDF['rating'].apply(lambda x: x - 2.9)\n",
    "\n",
    "ratingsDF['userId'] = ratingsDF['userId'].astype('int32')\n",
    "ratingsDF['movieId'] = ratingsDF['movieId'].astype('int32')\n",
    "\n",
    "userIds = ratingsDF['userId'].unique()\n",
    "movieIds = ratingsDF['movieId'].unique()\n",
    "\n",
    "movieIdToIndex = {}\n",
    "for index, movieId in enumerate(movieIds):\n",
    "  movieIdToIndex[movieId] = index\n",
    "\n",
    "userIdToIndex = {}\n",
    "for index, userId in enumerate(userIds):\n",
    "  userIdToIndex[userId] = index\n",
    "\n",
    "ratingsTrainDF, ratingsTestDF = model_selection.train_test_split(ratingsDF, test_size=0.2, random_state=324)\n",
    "\n",
    "# We want to do k-fold validation, so we create k differen't versions of the data\n",
    "ratingsTrainArray = ratingsTrainDF.values\n",
    "\n",
    "k = 3\n",
    "trainValidateArrays = []\n",
    "kFold = KFold(n_splits=k, random_state=299, shuffle=True)\n",
    "for train_index, test_index in kFold.split(ratingsTrainArray):\n",
    "  ratingsTrainGridSearch, ratingsValidateGridSearch = ratingsTrainArray[train_index], ratingsTrainArray[test_index]\n",
    "  trainValidateArrays.append((ratingsTrainGridSearch, ratingsValidateGridSearch))\n",
    "# ratingsTrainGridSearchDF, ratingsValidateGridSearchDF = model_selection.train_test_split(ratingsTrainDF, test_size=0.2, random_state=773)\n",
    "\n",
    "print('We have {} users'.format(len(userIds)))\n",
    "print('We have {} movies'.format(len(movieIds)))\n",
    "print('We have {} train ratings'.format(len(ratingsTrainDF)))\n",
    "print('We have {} test ratings'.format(len(ratingsTestDF)))\n",
    "print('We have {} grid search train ratings for each of {} folds'.format(len(trainValidateArrays[0][0]), k))\n",
    "print('We have {} grid search validate ratings for each of {} folds'.format(len(trainValidateArrays[0][1]), k))"
   ]
  },
  {
   "cell_type": "code",
   "execution_count": 7,
   "metadata": {
    "colab": {
     "base_uri": "https://localhost:8080/",
     "height": 204
    },
    "colab_type": "code",
    "id": "lwWtcTxsNKa2",
    "outputId": "1092a27b-7168-4edb-c050-4b277daf5394"
   },
   "outputs": [
    {
     "data": {
      "text/html": [
       "<div>\n",
       "<style scoped>\n",
       "    .dataframe tbody tr th:only-of-type {\n",
       "        vertical-align: middle;\n",
       "    }\n",
       "\n",
       "    .dataframe tbody tr th {\n",
       "        vertical-align: top;\n",
       "    }\n",
       "\n",
       "    .dataframe thead th {\n",
       "        text-align: right;\n",
       "    }\n",
       "</style>\n",
       "<table border=\"1\" class=\"dataframe\">\n",
       "  <thead>\n",
       "    <tr style=\"text-align: right;\">\n",
       "      <th></th>\n",
       "      <th>userId</th>\n",
       "      <th>movieId</th>\n",
       "      <th>rating</th>\n",
       "    </tr>\n",
       "  </thead>\n",
       "  <tbody>\n",
       "    <tr>\n",
       "      <th>1385920</th>\n",
       "      <td>258790</td>\n",
       "      <td>594</td>\n",
       "      <td>-0.4</td>\n",
       "    </tr>\n",
       "    <tr>\n",
       "      <th>18532</th>\n",
       "      <td>211231</td>\n",
       "      <td>2797</td>\n",
       "      <td>-0.4</td>\n",
       "    </tr>\n",
       "    <tr>\n",
       "      <th>784929</th>\n",
       "      <td>198557</td>\n",
       "      <td>356</td>\n",
       "      <td>1.1</td>\n",
       "    </tr>\n",
       "    <tr>\n",
       "      <th>812525</th>\n",
       "      <td>266597</td>\n",
       "      <td>166486</td>\n",
       "      <td>0.1</td>\n",
       "    </tr>\n",
       "    <tr>\n",
       "      <th>608720</th>\n",
       "      <td>191893</td>\n",
       "      <td>434</td>\n",
       "      <td>1.1</td>\n",
       "    </tr>\n",
       "  </tbody>\n",
       "</table>\n",
       "</div>"
      ],
      "text/plain": [
       "         userId  movieId  rating\n",
       "1385920  258790      594    -0.4\n",
       "18532    211231     2797    -0.4\n",
       "784929   198557      356     1.1\n",
       "812525   266597   166486     0.1\n",
       "608720   191893      434     1.1"
      ]
     },
     "execution_count": 7,
     "metadata": {},
     "output_type": "execute_result"
    }
   ],
   "source": [
    "ratingsTrainDF.head()"
   ]
  },
  {
   "cell_type": "code",
   "execution_count": null,
   "metadata": {
    "colab": {},
    "colab_type": "code",
    "id": "r8cYXga6Kjt4"
   },
   "outputs": [],
   "source": []
  },
  {
   "cell_type": "markdown",
   "metadata": {
    "colab_type": "text",
    "id": "I1ppHISbiyv_"
   },
   "source": [
    "### Convert to Matrix"
   ]
  },
  {
   "cell_type": "code",
   "execution_count": 8,
   "metadata": {
    "colab": {
     "base_uri": "https://localhost:8080/",
     "height": 102
    },
    "colab_type": "code",
    "id": "Q3oHre0tVS1E",
    "outputId": "81e00bab-c924-4ed2-91ea-05b0bbd2040a"
   },
   "outputs": [
    {
     "name": "stdout",
     "output_type": "stream",
     "text": [
      "Shape of X Train: (203750, 24174)\n",
      "Shape of X Test: (203750, 24174)\n",
      "\n",
      "Shape of each X Train: (203750, 24174)\n",
      "Shape of each X Validate: (203750, 24174)\n"
     ]
    }
   ],
   "source": [
    "def ratingsDFToUserMovieMatrix(ratingsDF, userIdToIndex, movieIdToIndex): \n",
    "  return ratingsArrayToUserMovieMatrix(ratingsDF.values, userIdToIndex, movieIdToIndex)\n",
    "\n",
    "def ratingsArrayToUserMovieMatrix(ratings, userIdToIndex, movieIdToIndex):\n",
    "  numUsers = len(userIdToIndex)\n",
    "  numMovies = len(movieIdToIndex)\n",
    "  \n",
    "  userMovieMatrix = np.zeros((numUsers, numMovies))\n",
    "  \n",
    "  for userId, movieId, rating in ratings:\n",
    "    userId = int(userId)\n",
    "    movieId = int(movieId)\n",
    "    rating = float(rating)\n",
    "    \n",
    "    userIndex = userIdToIndex[userId]\n",
    "    movieIndex = movieIdToIndex[movieId]\n",
    "    userMovieMatrix[userIndex, movieIndex] = rating\n",
    "    \n",
    "  \n",
    "  return coo_matrix(userMovieMatrix)\n",
    "\n",
    "\n",
    "XTrainValidateFolds = []\n",
    "for ratingsTrain, ratingsValidate in trainValidateArrays:\n",
    "  XTrain = ratingsArrayToUserMovieMatrix(ratingsTrain, userIdToIndex, movieIdToIndex)\n",
    "  XValidate = ratingsArrayToUserMovieMatrix(ratingsValidate, userIdToIndex, movieIdToIndex)\n",
    "  XTrainValidateFolds.append((XTrain, XValidate))\n",
    "XTrain = ratingsArrayToUserMovieMatrix(ratingsTrainArray, userIdToIndex, movieIdToIndex)\n",
    "XTest = ratingsDFToUserMovieMatrix(ratingsTestDF, userIdToIndex, movieIdToIndex)\n",
    "\n",
    "print('Shape of X Train: {}'.format(XTrain.shape))\n",
    "print('Shape of X Test: {}'.format(XTest.shape))\n",
    "print('')\n",
    "print('Shape of each X Train: {}'.format(XTrainValidateFolds[0][0].shape))\n",
    "print('Shape of each X Validate: {}'.format(XTrainValidateFolds[0][1].shape))"
   ]
  },
  {
   "cell_type": "markdown",
   "metadata": {
    "colab_type": "text",
    "id": "N-SA-VNz0pz4"
   },
   "source": [
    "# Find Baseline Score"
   ]
  },
  {
   "cell_type": "code",
   "execution_count": 9,
   "metadata": {
    "colab": {},
    "colab_type": "code",
    "id": "xULs4HlS99Ii"
   },
   "outputs": [],
   "source": [
    "def calculateAUC(userStats):\n",
    "  tp = userStats['tp']\n",
    "  fp = userStats['fp']\n",
    "  tn = userStats['tn']\n",
    "  fn = userStats['fn']\n",
    "  if tp + fn == 0 or tn + fp == 0:\n",
    "    return -5\n",
    "  tpr = tp / (tp + fn)\n",
    "  fpr = fp / (tn + fp)\n",
    "  auc = (tpr - fpr + 1) / 2\n",
    "  return auc"
   ]
  },
  {
   "cell_type": "code",
   "execution_count": 10,
   "metadata": {
    "colab": {
     "base_uri": "https://localhost:8080/",
     "height": 34
    },
    "colab_type": "code",
    "id": "tywOqOdp4rVm",
    "outputId": "95ee1fc0-16c3-4060-bae6-e3f7c5b51dd3"
   },
   "outputs": [
    {
     "name": "stdout",
     "output_type": "stream",
     "text": [
      "Our baseline AUC is 0.10802340452518355\n"
     ]
    }
   ],
   "source": [
    "averageMovieRatings = np.asarray(np.mean(XTrain, axis=0))[0]\n",
    "\n",
    "numUsers = XTest.shape[0]\n",
    "numMovies = XTest.shape[1]\n",
    "\n",
    "\n",
    "startingStats = {\n",
    "  'tp': 0,\n",
    "  'fp': 0,\n",
    "  'tn': 0,\n",
    "  'fn': 0\n",
    "}\n",
    "\n",
    "currentUserIndex = -1\n",
    "currentUserStats = {**startingStats}\n",
    "aucPerUser = np.zeros(numUsers)\n",
    "\n",
    "for userIndex,movieIndex,ratingActual in zip(XTest.row, XTest.col, XTest.data):\n",
    "  if userIndex != currentUserIndex:\n",
    "    aucPerUser[currentUserIndex] = calculateAUC(currentUserStats)\n",
    "    currentUserStats = {**startingStats}\n",
    "    currentUserIndex = userIndex\n",
    "  \n",
    "  if ratingActual != 0:\n",
    "    ratingPredicted = averageMovieRatings[movieIndex]\n",
    "    if ratingActual > 0:\n",
    "      if ratingPredicted > 0:\n",
    "        currentUserStats['tp'] += 1\n",
    "      else:\n",
    "        currentUserStats['fn'] += 1\n",
    "    else:\n",
    "      if ratingPredicted > 0:\n",
    "        currentUserStats['fp'] += 1\n",
    "      else:\n",
    "        currentUserStats['tn'] += 1\n",
    "\n",
    "aucPerUser = [auc for auc in aucPerUser if auc != -5]\n",
    "baselineAUC = np.mean(aucPerUser)\n",
    "print('Our baseline AUC is {}'.format(baselineAUC))"
   ]
  },
  {
   "cell_type": "markdown",
   "metadata": {
    "colab_type": "text",
    "id": "cpoNtssZdgza"
   },
   "source": [
    "## Add on Side Info from IMDB\n"
   ]
  },
  {
   "cell_type": "markdown",
   "metadata": {
    "colab_type": "text",
    "id": "kyKZzAOtdlYz"
   },
   "source": [
    "### Create Linkage"
   ]
  },
  {
   "cell_type": "code",
   "execution_count": 11,
   "metadata": {
    "colab": {},
    "colab_type": "code",
    "id": "9xOcOxKFdnjS"
   },
   "outputs": [],
   "source": [
    "# grab links file from MovieLens\n",
    "links_path = 'ml-latest/links.csv'\n",
    "linksDF = pd.read_csv(links_path)\n",
    "linksDF = linksDF[['movieId', 'imdbId']]"
   ]
  },
  {
   "cell_type": "code",
   "execution_count": 12,
   "metadata": {
    "colab": {
     "base_uri": "https://localhost:8080/",
     "height": 204
    },
    "colab_type": "code",
    "id": "ebwhMdoIdpcu",
    "outputId": "6d428f88-fcba-4217-b1e6-44ab89998cf8"
   },
   "outputs": [
    {
     "data": {
      "text/html": [
       "<div>\n",
       "<style scoped>\n",
       "    .dataframe tbody tr th:only-of-type {\n",
       "        vertical-align: middle;\n",
       "    }\n",
       "\n",
       "    .dataframe tbody tr th {\n",
       "        vertical-align: top;\n",
       "    }\n",
       "\n",
       "    .dataframe thead th {\n",
       "        text-align: right;\n",
       "    }\n",
       "</style>\n",
       "<table border=\"1\" class=\"dataframe\">\n",
       "  <thead>\n",
       "    <tr style=\"text-align: right;\">\n",
       "      <th></th>\n",
       "      <th>movieId</th>\n",
       "    </tr>\n",
       "  </thead>\n",
       "  <tbody>\n",
       "    <tr>\n",
       "      <th>0</th>\n",
       "      <td>1476</td>\n",
       "    </tr>\n",
       "    <tr>\n",
       "      <th>1</th>\n",
       "      <td>2694</td>\n",
       "    </tr>\n",
       "    <tr>\n",
       "      <th>2</th>\n",
       "      <td>2664</td>\n",
       "    </tr>\n",
       "    <tr>\n",
       "      <th>3</th>\n",
       "      <td>1721</td>\n",
       "    </tr>\n",
       "    <tr>\n",
       "      <th>4</th>\n",
       "      <td>1610</td>\n",
       "    </tr>\n",
       "  </tbody>\n",
       "</table>\n",
       "</div>"
      ],
      "text/plain": [
       "   movieId\n",
       "0     1476\n",
       "1     2694\n",
       "2     2664\n",
       "3     1721\n",
       "4     1610"
      ]
     },
     "execution_count": 12,
     "metadata": {},
     "output_type": "execute_result"
    }
   ],
   "source": [
    "# make dataframe from movieIds above\n",
    "just_movie_ids = pd.DataFrame(movieIds)\n",
    "just_movie_ids.columns = ['movieId']\n",
    "just_movie_ids.head()"
   ]
  },
  {
   "cell_type": "code",
   "execution_count": 13,
   "metadata": {
    "colab": {},
    "colab_type": "code",
    "id": "miQdXUDTdrUd"
   },
   "outputs": [],
   "source": [
    "# merge links to movieIds \n",
    "side_info_linkage = just_movie_ids.merge(linksDF, on=\"movieId\", how=\"left\")"
   ]
  },
  {
   "cell_type": "code",
   "execution_count": 14,
   "metadata": {
    "colab": {
     "base_uri": "https://localhost:8080/",
     "height": 204
    },
    "colab_type": "code",
    "id": "xA6hbQXMdt3p",
    "outputId": "6357c019-e068-4e9c-fd96-888db3828124"
   },
   "outputs": [
    {
     "data": {
      "text/html": [
       "<div>\n",
       "<style scoped>\n",
       "    .dataframe tbody tr th:only-of-type {\n",
       "        vertical-align: middle;\n",
       "    }\n",
       "\n",
       "    .dataframe tbody tr th {\n",
       "        vertical-align: top;\n",
       "    }\n",
       "\n",
       "    .dataframe thead th {\n",
       "        text-align: right;\n",
       "    }\n",
       "</style>\n",
       "<table border=\"1\" class=\"dataframe\">\n",
       "  <thead>\n",
       "    <tr style=\"text-align: right;\">\n",
       "      <th></th>\n",
       "      <th>movieId</th>\n",
       "      <th>imdbId</th>\n",
       "    </tr>\n",
       "  </thead>\n",
       "  <tbody>\n",
       "    <tr>\n",
       "      <th>0</th>\n",
       "      <td>1476</td>\n",
       "      <td>119951</td>\n",
       "    </tr>\n",
       "    <tr>\n",
       "      <th>1</th>\n",
       "      <td>2694</td>\n",
       "      <td>142342</td>\n",
       "    </tr>\n",
       "    <tr>\n",
       "      <th>2</th>\n",
       "      <td>2664</td>\n",
       "      <td>49366</td>\n",
       "    </tr>\n",
       "    <tr>\n",
       "      <th>3</th>\n",
       "      <td>1721</td>\n",
       "      <td>120338</td>\n",
       "    </tr>\n",
       "    <tr>\n",
       "      <th>4</th>\n",
       "      <td>1610</td>\n",
       "      <td>99810</td>\n",
       "    </tr>\n",
       "  </tbody>\n",
       "</table>\n",
       "</div>"
      ],
      "text/plain": [
       "   movieId  imdbId\n",
       "0     1476  119951\n",
       "1     2694  142342\n",
       "2     2664   49366\n",
       "3     1721  120338\n",
       "4     1610   99810"
      ]
     },
     "execution_count": 14,
     "metadata": {},
     "output_type": "execute_result"
    }
   ],
   "source": [
    "side_info_linkage.head()"
   ]
  },
  {
   "cell_type": "markdown",
   "metadata": {
    "colab_type": "text",
    "id": "E_A_YveueUZn"
   },
   "source": [
    "### Get IMDB Info"
   ]
  },
  {
   "cell_type": "code",
   "execution_count": 15,
   "metadata": {
    "colab": {},
    "colab_type": "code",
    "id": "3bBLYxJUeWmk"
   },
   "outputs": [],
   "source": [
    " # read in imdb data (filtered to only include movies)\n",
    "imdb_path = 'imdb_side_info.csv'\n",
    "\n",
    "imdbDF = pd.read_csv(imdb_path)\n",
    "imdbDF['tconst'] = imdbDF['tconst'].str[2:].astype(int)"
   ]
  },
  {
   "cell_type": "code",
   "execution_count": 16,
   "metadata": {
    "colab": {
     "base_uri": "https://localhost:8080/",
     "height": 440
    },
    "colab_type": "code",
    "id": "cdpknefbeY7Y",
    "outputId": "f7df8ab3-121d-48ed-f9a5-d9723c5021cb"
   },
   "outputs": [
    {
     "data": {
      "text/html": [
       "<div>\n",
       "<style scoped>\n",
       "    .dataframe tbody tr th:only-of-type {\n",
       "        vertical-align: middle;\n",
       "    }\n",
       "\n",
       "    .dataframe tbody tr th {\n",
       "        vertical-align: top;\n",
       "    }\n",
       "\n",
       "    .dataframe thead th {\n",
       "        text-align: right;\n",
       "    }\n",
       "</style>\n",
       "<table border=\"1\" class=\"dataframe\">\n",
       "  <thead>\n",
       "    <tr style=\"text-align: right;\">\n",
       "      <th></th>\n",
       "      <th>Unnamed: 0</th>\n",
       "      <th>tconst</th>\n",
       "      <th>titleType</th>\n",
       "      <th>primaryTitle</th>\n",
       "      <th>originalTitle</th>\n",
       "      <th>isAdult</th>\n",
       "      <th>startYear</th>\n",
       "      <th>endYear</th>\n",
       "      <th>runtimeMinutes</th>\n",
       "      <th>genres</th>\n",
       "      <th>...</th>\n",
       "      <th>Adult</th>\n",
       "      <th>Thriller</th>\n",
       "      <th>Drama</th>\n",
       "      <th>Sci-Fi</th>\n",
       "      <th>Talk-Show</th>\n",
       "      <th>Reality-TV</th>\n",
       "      <th>Film-Noir</th>\n",
       "      <th>Documentary</th>\n",
       "      <th>Musical</th>\n",
       "      <th>War</th>\n",
       "    </tr>\n",
       "  </thead>\n",
       "  <tbody>\n",
       "    <tr>\n",
       "      <th>0</th>\n",
       "      <td>0</td>\n",
       "      <td>5</td>\n",
       "      <td>short</td>\n",
       "      <td>Blacksmith Scene</td>\n",
       "      <td>Blacksmith Scene</td>\n",
       "      <td>0</td>\n",
       "      <td>1893</td>\n",
       "      <td>\\N</td>\n",
       "      <td>1</td>\n",
       "      <td>['Comedy', 'Short']</td>\n",
       "      <td>...</td>\n",
       "      <td>0</td>\n",
       "      <td>0</td>\n",
       "      <td>0</td>\n",
       "      <td>0</td>\n",
       "      <td>0</td>\n",
       "      <td>0</td>\n",
       "      <td>0</td>\n",
       "      <td>0</td>\n",
       "      <td>0</td>\n",
       "      <td>0</td>\n",
       "    </tr>\n",
       "    <tr>\n",
       "      <th>1</th>\n",
       "      <td>1</td>\n",
       "      <td>8</td>\n",
       "      <td>short</td>\n",
       "      <td>Edison Kinetoscopic Record of a Sneeze</td>\n",
       "      <td>Edison Kinetoscopic Record of a Sneeze</td>\n",
       "      <td>0</td>\n",
       "      <td>1894</td>\n",
       "      <td>\\N</td>\n",
       "      <td>1</td>\n",
       "      <td>['Documentary', 'Short']</td>\n",
       "      <td>...</td>\n",
       "      <td>0</td>\n",
       "      <td>0</td>\n",
       "      <td>0</td>\n",
       "      <td>0</td>\n",
       "      <td>0</td>\n",
       "      <td>0</td>\n",
       "      <td>0</td>\n",
       "      <td>1</td>\n",
       "      <td>0</td>\n",
       "      <td>0</td>\n",
       "    </tr>\n",
       "    <tr>\n",
       "      <th>2</th>\n",
       "      <td>2</td>\n",
       "      <td>10</td>\n",
       "      <td>short</td>\n",
       "      <td>Exiting the Factory</td>\n",
       "      <td>La sortie de l'usine Lumière à Lyon</td>\n",
       "      <td>0</td>\n",
       "      <td>1895</td>\n",
       "      <td>\\N</td>\n",
       "      <td>1</td>\n",
       "      <td>['Documentary', 'Short']</td>\n",
       "      <td>...</td>\n",
       "      <td>0</td>\n",
       "      <td>0</td>\n",
       "      <td>0</td>\n",
       "      <td>0</td>\n",
       "      <td>0</td>\n",
       "      <td>0</td>\n",
       "      <td>0</td>\n",
       "      <td>1</td>\n",
       "      <td>0</td>\n",
       "      <td>0</td>\n",
       "    </tr>\n",
       "    <tr>\n",
       "      <th>3</th>\n",
       "      <td>3</td>\n",
       "      <td>12</td>\n",
       "      <td>short</td>\n",
       "      <td>The Arrival of a Train</td>\n",
       "      <td>L'arrivée d'un train à La Ciotat</td>\n",
       "      <td>0</td>\n",
       "      <td>1896</td>\n",
       "      <td>\\N</td>\n",
       "      <td>1</td>\n",
       "      <td>['Documentary', 'Short']</td>\n",
       "      <td>...</td>\n",
       "      <td>0</td>\n",
       "      <td>0</td>\n",
       "      <td>0</td>\n",
       "      <td>0</td>\n",
       "      <td>0</td>\n",
       "      <td>0</td>\n",
       "      <td>0</td>\n",
       "      <td>1</td>\n",
       "      <td>0</td>\n",
       "      <td>0</td>\n",
       "    </tr>\n",
       "    <tr>\n",
       "      <th>4</th>\n",
       "      <td>4</td>\n",
       "      <td>14</td>\n",
       "      <td>short</td>\n",
       "      <td>The Sprinkler Sprinkled</td>\n",
       "      <td>L'arroseur arrosé</td>\n",
       "      <td>0</td>\n",
       "      <td>1895</td>\n",
       "      <td>\\N</td>\n",
       "      <td>1</td>\n",
       "      <td>['Comedy', 'Short']</td>\n",
       "      <td>...</td>\n",
       "      <td>0</td>\n",
       "      <td>0</td>\n",
       "      <td>0</td>\n",
       "      <td>0</td>\n",
       "      <td>0</td>\n",
       "      <td>0</td>\n",
       "      <td>0</td>\n",
       "      <td>0</td>\n",
       "      <td>0</td>\n",
       "      <td>0</td>\n",
       "    </tr>\n",
       "  </tbody>\n",
       "</table>\n",
       "<p>5 rows × 38 columns</p>\n",
       "</div>"
      ],
      "text/plain": [
       "   Unnamed: 0  tconst titleType                            primaryTitle  \\\n",
       "0           0       5     short                        Blacksmith Scene   \n",
       "1           1       8     short  Edison Kinetoscopic Record of a Sneeze   \n",
       "2           2      10     short                     Exiting the Factory   \n",
       "3           3      12     short                  The Arrival of a Train   \n",
       "4           4      14     short                 The Sprinkler Sprinkled   \n",
       "\n",
       "                            originalTitle  isAdult  startYear endYear  \\\n",
       "0                        Blacksmith Scene        0       1893      \\N   \n",
       "1  Edison Kinetoscopic Record of a Sneeze        0       1894      \\N   \n",
       "2     La sortie de l'usine Lumière à Lyon        0       1895      \\N   \n",
       "3        L'arrivée d'un train à La Ciotat        0       1896      \\N   \n",
       "4                       L'arroseur arrosé        0       1895      \\N   \n",
       "\n",
       "  runtimeMinutes                    genres ...   Adult  Thriller  Drama  \\\n",
       "0              1       ['Comedy', 'Short'] ...       0         0      0   \n",
       "1              1  ['Documentary', 'Short'] ...       0         0      0   \n",
       "2              1  ['Documentary', 'Short'] ...       0         0      0   \n",
       "3              1  ['Documentary', 'Short'] ...       0         0      0   \n",
       "4              1       ['Comedy', 'Short'] ...       0         0      0   \n",
       "\n",
       "   Sci-Fi  Talk-Show  Reality-TV  Film-Noir  Documentary  Musical  War  \n",
       "0       0          0           0          0            0        0    0  \n",
       "1       0          0           0          0            1        0    0  \n",
       "2       0          0           0          0            1        0    0  \n",
       "3       0          0           0          0            1        0    0  \n",
       "4       0          0           0          0            0        0    0  \n",
       "\n",
       "[5 rows x 38 columns]"
      ]
     },
     "execution_count": 16,
     "metadata": {},
     "output_type": "execute_result"
    }
   ],
   "source": [
    "imdbDF.head()"
   ]
  },
  {
   "cell_type": "code",
   "execution_count": 17,
   "metadata": {
    "colab": {
     "base_uri": "https://localhost:8080/",
     "height": 136
    },
    "colab_type": "code",
    "id": "txmrw-I97M0o",
    "outputId": "9ef305b9-2ac0-4b6a-95ac-dce91953f9fd"
   },
   "outputs": [
    {
     "data": {
      "text/plain": [
       "Index(['Unnamed: 0', 'tconst', 'titleType', 'primaryTitle', 'originalTitle',\n",
       "       'isAdult', 'startYear', 'endYear', 'runtimeMinutes', 'genres', '\\N',\n",
       "       'Romance', 'Adventure', 'Music', 'Family', 'Crime', 'Biography',\n",
       "       'Comedy', 'Western', 'Animation', 'Short', 'News', 'Fantasy', 'History',\n",
       "       'Action', 'Sport', 'Horror', 'Mystery', 'Adult', 'Thriller', 'Drama',\n",
       "       'Sci-Fi', 'Talk-Show', 'Reality-TV', 'Film-Noir', 'Documentary',\n",
       "       'Musical', 'War'],\n",
       "      dtype='object')"
      ]
     },
     "execution_count": 17,
     "metadata": {},
     "output_type": "execute_result"
    }
   ],
   "source": [
    "imdbDF.columns"
   ]
  },
  {
   "cell_type": "markdown",
   "metadata": {
    "colab_type": "text",
    "id": "UNIqiMFzefcm"
   },
   "source": [
    "## Merge"
   ]
  },
  {
   "cell_type": "code",
   "execution_count": null,
   "metadata": {
    "colab": {},
    "colab_type": "code",
    "id": "CE6TJnG6ef9S"
   },
   "outputs": [],
   "source": []
  },
  {
   "cell_type": "code",
   "execution_count": 18,
   "metadata": {
    "colab": {
     "base_uri": "https://localhost:8080/",
     "height": 173
    },
    "colab_type": "code",
    "id": "XXv1n19reiJM",
    "outputId": "c0031e77-80c0-44d5-8ff9-6a568a488d27"
   },
   "outputs": [
    {
     "name": "stdout",
     "output_type": "stream",
     "text": [
      "Shape of full side info: (24174, 40)\n"
     ]
    },
    {
     "name": "stderr",
     "output_type": "stream",
     "text": [
      "/Users/joshfeldman/Desktop/Projects/personalization_project/venv/lib/python3.6/site-packages/ipykernel_launcher.py:25: SettingWithCopyWarning: \n",
      "A value is trying to be set on a copy of a slice from a DataFrame\n",
      "\n",
      "See the caveats in the documentation: http://pandas.pydata.org/pandas-docs/stable/indexing.html#indexing-view-versus-copy\n"
     ]
    },
    {
     "name": "stdout",
     "output_type": "stream",
     "text": [
      "Shape of Side Info: (24174, 25)\n"
     ]
    },
    {
     "name": "stderr",
     "output_type": "stream",
     "text": [
      "/Users/joshfeldman/Desktop/Projects/personalization_project/venv/lib/python3.6/site-packages/sklearn/utils/validation.py:590: DataConversionWarning: Data with input dtype int64 was converted to float64 by MinMaxScaler.\n",
      "  warnings.warn(msg, DataConversionWarning)\n"
     ]
    }
   ],
   "source": [
    "sideFeatures = ['startYear', 'Comedy', 'Crime', 'Western', 'Film-Noir', 'Horror', 'Thriller', 'News', 'War', 'Fantasy', 'Romance', \n",
    "    'Documentary', 'Animation', 'History','Adventure', 'Action', 'Sport', 'Family', 'Mystery', 'Sci-Fi', \n",
    "    'Short', 'Drama', 'Biography', 'Music', 'Musical']\n",
    "\n",
    "def normalizeColumns(df):\n",
    "    x = df.values\n",
    "    min_max_scaler = preprocessing.MinMaxScaler()\n",
    "    x_scaled = min_max_scaler.fit_transform(x)\n",
    "    return pd.DataFrame(x_scaled)\n",
    "  \n",
    "  \n",
    "def makeSideFeatures(side_info_linkage, sideFeatures):\n",
    "  # join to ratings data\n",
    "  # print(with_linksDF.shape)\n",
    "  full_side_info = side_info_linkage.merge(imdbDF, left_on='imdbId', right_on='tconst', how='left')\n",
    "  print('Shape of full side info: {}'.format(full_side_info.shape))\n",
    "\n",
    "\n",
    "  full_side_info = full_side_info[sideFeatures]\n",
    "\n",
    "  for feature in sideFeatures:\n",
    "    nullValue = 0\n",
    "    if feature == 'startYear':\n",
    "      nullValue = 1970\n",
    "    full_side_info[feature][full_side_info[feature].isnull()] = nullValue\n",
    "    full_side_info[feature] = full_side_info[feature].astype(int)\n",
    "\n",
    "  \n",
    "\n",
    "  full_side_info = normalizeColumns(full_side_info) # No need to normalize these, they're binary\n",
    "  return coo_matrix(full_side_info)\n",
    "\n",
    " \n",
    "\n",
    "  \n",
    "side_info_matrix = makeSideFeatures(side_info_linkage, sideFeatures)\n",
    "print('Shape of Side Info: {}'.format(side_info_matrix.shape))\n",
    "\n"
   ]
  },
  {
   "cell_type": "code",
   "execution_count": null,
   "metadata": {
    "colab": {
     "base_uri": "https://localhost:8080/",
     "height": 34
    },
    "colab_type": "code",
    "id": "Xy70rrp7eoAh",
    "outputId": "05edc6be-4709-4eb4-a177-89b70c5e4e9c"
   },
   "outputs": [],
   "source": [
    "\n"
   ]
  },
  {
   "cell_type": "markdown",
   "metadata": {
    "colab_type": "text",
    "id": "OJ5XGOkCi5xt"
   },
   "source": [
    "# Run Grid Search"
   ]
  },
  {
   "cell_type": "code",
   "execution_count": 19,
   "metadata": {
    "colab": {},
    "colab_type": "code",
    "id": "q5WF_ACA4VxH"
   },
   "outputs": [],
   "source": [
    "def runModel(params, XTrain, XTest, side_info_matrix, numEpochs):\n",
    "  model = LightFM(**params)\n",
    "  \n",
    "  startTime = time()\n",
    "  model.fit(XTrain, epochs=numEpochs, item_features = side_info_matrix)\n",
    "  \n",
    "  totalTime = time() - startTime\n",
    "\n",
    "  train_auc = auc_score(model, XTrain, item_features = side_info_matrix).mean()\n",
    "  test_auc = auc_score(model, XTest, item_features = side_info_matrix).mean()\n",
    "  \n",
    "  return train_auc, test_auc, totalTime"
   ]
  },
  {
   "cell_type": "code",
   "execution_count": 20,
   "metadata": {
    "colab": {},
    "colab_type": "code",
    "id": "nPP7-8qL6CEX"
   },
   "outputs": [],
   "source": [
    "gridSearchParams = {\n",
    "    'learning_rate': [0.05, 0.1, 0.15],\n",
    "    'loss': ['bpr', 'warp', 'warp-kos'],\n",
    "    'learning_schedule': ['adagrad', 'adadelta'],\n",
    "    'no_components': [5, 8, 10, 14],\n",
    "    'item_alpha': [0.0, 0.0001, 0.001, 0.01],\n",
    "    'user_alpha': [0.0, 0.0001, 0.001, 0.01],\n",
    "}\n",
    "\n",
    "def gridSearch(gridSearchParams, XTrainValidateFolds):\n",
    "  numEpochs = 4\n",
    "  \n",
    "  gridSearchResults = {}\n",
    "  for gridSearchParam, paramValues in gridSearchParams.items():\n",
    "    print('Running for parameter: {}'.format(gridSearchParam))\n",
    "    gridSearchResults[gridSearchParam] = []\n",
    "    for paramValue in paramValues:\n",
    "      params = {\n",
    "          gridSearchParam: paramValue\n",
    "      }\n",
    "      \n",
    "      trainAUCs = []\n",
    "      testAUCs = []\n",
    "      times = []\n",
    "      for XTrain, XValidate in XTrainValidateFolds:\n",
    "        trainAUC, testAUC, time = runModel(params, XTrain, XValidate, side_info_matrix, numEpochs)\n",
    "        trainAUCs.append(trainAUC)\n",
    "        testAUCs.append(testAUC)\n",
    "        times.append(time)\n",
    "      \n",
    "      \n",
    "      result = {\n",
    "          'value': paramValue,\n",
    "          'train_auc': np.mean(trainAUCs),\n",
    "          'test_auc': np.mean(testAUC),\n",
    "          'time': np.mean(time),\n",
    "      }\n",
    "      gridSearchResults[gridSearchParam].append(result)\n",
    "        \n",
    "  return gridSearchResults"
   ]
  },
  {
   "cell_type": "code",
   "execution_count": 21,
   "metadata": {
    "colab": {
     "base_uri": "https://localhost:8080/",
     "height": 190
    },
    "colab_type": "code",
    "id": "11Kr4x5Ye9xK",
    "outputId": "fb5589e2-bddc-430a-a69a-3b18359c11b2"
   },
   "outputs": [
    {
     "name": "stdout",
     "output_type": "stream",
     "text": [
      "Running for parameter: learning_rate\n",
      "Running for parameter: loss\n",
      "Running for parameter: learning_schedule\n",
      "Running for parameter: no_components\n",
      "Running for parameter: item_alpha\n",
      "Running for parameter: user_alpha\n",
      "\n",
      "{'learning_rate': [{'value': 0.05, 'train_auc': 0.6053, 'test_auc': 0.6021007, 'time': 2.8122589588165283}, {'value': 0.1, 'train_auc': 0.6502486, 'test_auc': 0.6127184, 'time': 4.103519916534424}, {'value': 0.15, 'train_auc': 0.66418844, 'test_auc': 0.6100554, 'time': 3.939072847366333}], 'loss': [{'value': 'bpr', 'train_auc': 0.8032949, 'test_auc': 0.5331308, 'time': 4.179883718490601}, {'value': 'warp', 'train_auc': 0.86618894, 'test_auc': 0.69071114, 'time': 3.968827247619629}, {'value': 'warp-kos', 'train_auc': 0.8940201, 'test_auc': 0.6868121, 'time': 7.398738145828247}], 'learning_schedule': [{'value': 'adagrad', 'train_auc': 0.6096077, 'test_auc': 0.6030692, 'time': 2.60660982131958}, {'value': 'adadelta', 'train_auc': 0.6216691, 'test_auc': 0.57859945, 'time': 3.376175880432129}], 'no_components': [{'value': 5, 'train_auc': 0.5923751, 'test_auc': 0.6010464, 'time': 1.708266019821167}, {'value': 8, 'train_auc': 0.6021567, 'test_auc': 0.6048314, 'time': 2.0986359119415283}, {'value': 10, 'train_auc': 0.6096082, 'test_auc': 0.6051469, 'time': 2.33901309967041}, {'value': 14, 'train_auc': 0.61843395, 'test_auc': 0.60773176, 'time': 2.85261607170105}], 'item_alpha': [{'value': 0.0, 'train_auc': 0.6073229, 'test_auc': 0.60237575, 'time': 2.329897880554199}, {'value': 0.0001, 'train_auc': 0.6297311, 'test_auc': 0.61713505, 'time': 2.778877019882202}, {'value': 0.001, 'train_auc': 0.52713174, 'test_auc': 0.5186513, 'time': 2.7644641399383545}, {'value': 0.01, 'train_auc': 0.61590695, 'test_auc': 0.6164465, 'time': 2.7822580337524414}], 'user_alpha': [{'value': 0.0, 'train_auc': 0.6041997, 'test_auc': 0.60204244, 'time': 2.4979100227355957}, {'value': 0.0001, 'train_auc': 0.6048295, 'test_auc': 0.6053626, 'time': 2.753101110458374}, {'value': 0.001, 'train_auc': 0.61187106, 'test_auc': 0.61252004, 'time': 2.72989821434021}, {'value': 0.01, 'train_auc': 0.57843393, 'test_auc': 0.5756848, 'time': 2.8192901611328125}]}\n",
      "Total time: 389.51 minutes\n"
     ]
    }
   ],
   "source": [
    "startTime = time()\n",
    "\n",
    "gridSearchResults = gridSearch(gridSearchParams, XTrainValidateFolds)\n",
    "print('')\n",
    "print(gridSearchResults)\n",
    "# downloadCSVFile(gridSearchResults, 'gridSearchResults.csv')\n",
    "\n",
    "totalTime = time() - startTime\n",
    "if totalTime > 60:\n",
    "    print('Total time: {:0.2f} minutes'.format(totalTime / 60))\n",
    "else:\n",
    "    print('Total time: {:0.2f} seconds'.format(totalTime))"
   ]
  },
  {
   "cell_type": "code",
   "execution_count": 22,
   "metadata": {
    "colab": {
     "base_uri": "https://localhost:8080/",
     "height": 221
    },
    "colab_type": "code",
    "id": "jb5dF-0LfoOm",
    "outputId": "6f5522a6-aef5-422d-94a9-9bbace8d94ff"
   },
   "outputs": [
    {
     "name": "stdout",
     "output_type": "stream",
     "text": [
      "Best AUC for learning_rate is: 0.612718403339386\n",
      "Best AUC for loss is: 0.6907111406326294\n",
      "Best AUC for learning_schedule is: 0.6030691862106323\n",
      "Best AUC for no_components is: 0.6077317595481873\n",
      "Best AUC for item_alpha is: 0.6171350479125977\n",
      "Best AUC for user_alpha is: 0.6125200390815735\n"
     ]
    },
    {
     "data": {
      "text/plain": [
       "{'item_alpha': 0.0001,\n",
       " 'learning_rate': 0.1,\n",
       " 'learning_schedule': 'adagrad',\n",
       " 'loss': 'warp',\n",
       " 'no_components': 14,\n",
       " 'user_alpha': 0.001}"
      ]
     },
     "execution_count": 22,
     "metadata": {},
     "output_type": "execute_result"
    }
   ],
   "source": [
    "def extractBestParams(gridSearchResults):\n",
    "  bestParams = {}\n",
    "  \n",
    "  for parameter, parameterResults in gridSearchResults.items():\n",
    "    bestIndex = 0\n",
    "    bestAUC = parameterResults[0]['test_auc']\n",
    "\n",
    "    for index, stats in enumerate(parameterResults):\n",
    "      if stats['test_auc'] > bestAUC:\n",
    "        bestAUC = stats['test_auc']\n",
    "        bestIndex = index\n",
    "    \n",
    "    bestStats = parameterResults[bestIndex]\n",
    "    bestParams[parameter] = bestStats['value']\n",
    "  \n",
    "    print('Best AUC for {} is: {}'.format(parameter, bestAUC))\n",
    "  return bestParams\n",
    "\n",
    "bestParams = extractBestParams(gridSearchResults)\n",
    "bestParams"
   ]
  },
  {
   "cell_type": "code",
   "execution_count": 23,
   "metadata": {
    "colab": {
     "base_uri": "https://localhost:8080/",
     "height": 4325
    },
    "colab_type": "code",
    "id": "ck1uk4lQx5WW",
    "outputId": "e875840e-61a1-42ec-d872-3fe8477eefd0"
   },
   "outputs": [
    {
     "data": {
      "image/png": "[encoded data removed]",
      "text/plain": [
       "<Figure size 432x288 with 1 Axes>"
      ]
     },
     "metadata": {
      "needs_background": "light"
     },
     "output_type": "display_data"
    },
    {
     "data": {
      "image/png": "[encoded data removed]",
      "text/plain": [
       "<Figure size 432x288 with 1 Axes>"
      ]
     },
     "metadata": {
      "needs_background": "light"
     },
     "output_type": "display_data"
    },
    {
     "data": {
      "image/png": "[encoded data removed]",
      "text/plain": [
       "<Figure size 432x288 with 1 Axes>"
      ]
     },
     "metadata": {
      "needs_background": "light"
     },
     "output_type": "display_data"
    },
    {
     "data": {
      "image/png": "[encoded data removed]",
      "text/plain": [
       "<Figure size 432x288 with 1 Axes>"
      ]
     },
     "metadata": {
      "needs_background": "light"
     },
     "output_type": "display_data"
    },
    {
     "data": {
      "image/png": "[encoded data removed]",
      "text/plain": [
       "<Figure size 432x288 with 1 Axes>"
      ]
     },
     "metadata": {
      "needs_background": "light"
     },
     "output_type": "display_data"
    },
    {
     "data": {
      "image/png": "[encoded data removed]",
      "text/plain": [
       "<Figure size 432x288 with 1 Axes>"
      ]
     },
     "metadata": {
      "needs_background": "light"
     },
     "output_type": "display_data"
    },
    {
     "data": {
      "image/png": "[encoded data removed]",
      "text/plain": [
       "<Figure size 432x288 with 1 Axes>"
      ]
     },
     "metadata": {
      "needs_background": "light"
     },
     "output_type": "display_data"
    },
    {
     "data": {
      "image/png": "[encoded data removed]",
      "text/plain": [
       "<Figure size 432x288 with 1 Axes>"
      ]
     },
     "metadata": {
      "needs_background": "light"
     },
     "output_type": "display_data"
    },
    {
     "data": {
      "image/png": "[encoded data removed]",
      "text/plain": [
       "<Figure size 432x288 with 1 Axes>"
      ]
     },
     "metadata": {
      "needs_background": "light"
     },
     "output_type": "display_data"
    },
    {
     "data": {
      "image/png": "[encoded data removed]",
      "text/plain": [
       "<Figure size 432x288 with 1 Axes>"
      ]
     },
     "metadata": {
      "needs_background": "light"
     },
     "output_type": "display_data"
    },
    {
     "data": {
      "image/png": "[encoded data removed]",
      "text/plain": [
       "<Figure size 432x288 with 1 Axes>"
      ]
     },
     "metadata": {
      "needs_background": "light"
     },
     "output_type": "display_data"
    },
    {
     "data": {
      "image/png": "[encoded data removed]",
      "text/plain": [
       "<Figure size 432x288 with 1 Axes>"
      ]
     },
     "metadata": {
      "needs_background": "light"
     },
     "output_type": "display_data"
    }
   ],
   "source": [
    "def plotGridSearchResults(gridSearchResults):\n",
    "  for param, paramResults in gridSearchResults.items():\n",
    "    gridSearchDF = pd.DataFrame(paramResults)\n",
    "   \n",
    "    barWidth = 0.3\n",
    "    barSpace = 0.16\n",
    "    _X = np.arange(len(gridSearchDF['value']))\n",
    "    plt.bar(_X - barSpace, gridSearchDF['train_auc'], barWidth, color='blue')\n",
    "    plt.bar(_X + barSpace, gridSearchDF['test_auc'], barWidth, color='green')\n",
    "    plt.xticks(_X, gridSearchDF['value'])\n",
    "    plt.title('AUC -- {}'.format(param))\n",
    "    plt.ylabel('AUC')\n",
    "    plt.xlabel(param)\n",
    "    plt.legend(['train', 'test'], loc='best')\n",
    "    plt.show()\n",
    "\n",
    "    plt.bar(_X, gridSearchDF['time'], barWidth, color='red')\n",
    "    plt.xticks(_X, gridSearchDF['value'])\n",
    "    plt.title('Time -- {}'.format('time'))\n",
    "    plt.ylabel('Time')\n",
    "    plt.xlabel(param)\n",
    "    plt.legend(['train'], loc='best')\n",
    "    plt.show()\n",
    "  \n",
    "plotGridSearchResults(gridSearchResults)"
   ]
  },
  {
   "cell_type": "markdown",
   "metadata": {
    "colab_type": "text",
    "id": "bcxWq7S3V4QZ"
   },
   "source": [
    "## Find Best Number of Epochs"
   ]
  },
  {
   "cell_type": "code",
   "execution_count": 24,
   "metadata": {
    "colab": {},
    "colab_type": "code",
    "id": "0S0Fi_CcCsC_"
   },
   "outputs": [],
   "source": [
    "def runModelOverEpochs(params, XTrain, XTest, side_info_matrix, maxEpochs): \n",
    "  model = LightFM(**params)\n",
    "  results = []\n",
    "  \n",
    "  runningTotalTime = 0\n",
    "  for epoch in range(1, maxEpochs + 1):\n",
    "    startTime = time()\n",
    "    model.fit_partial(XTrain, item_features = side_info_matrix)\n",
    "    totalTime = time() - startTime\n",
    "    runningTotalTime += totalTime\n",
    "    train_auc = auc_score(model, XTrain, item_features = side_info_matrix).mean()\n",
    "    test_auc = auc_score(model, XTest, item_features = side_info_matrix).mean()\n",
    "    results.append((train_auc, test_auc, runningTotalTime, epoch))\n",
    "  return results"
   ]
  },
  {
   "cell_type": "code",
   "execution_count": 25,
   "metadata": {
    "colab": {},
    "colab_type": "code",
    "id": "qJEJ0qwNV8tt"
   },
   "outputs": [],
   "source": [
    "def epochSearch(XTrain, XValidate, maxEpochs):\n",
    "  \n",
    "  modelResults = runModelOverEpochs(bestParams, XTrain, XValidate, side_info_matrix, maxEpochs)\n",
    "  \n",
    "  epochSearchResults = []\n",
    "  for train_auc, test_auc, time, epoch in modelResults:\n",
    "    epochSearchResults.append({\n",
    "        'train_auc': train_auc,\n",
    "        'test_auc': test_auc,\n",
    "        'epoch': epoch,\n",
    "        'time': time,\n",
    "    })\n",
    "    \n",
    "#   print(epochSearchResults)\n",
    "  return epochSearchResults"
   ]
  },
  {
   "cell_type": "code",
   "execution_count": 26,
   "metadata": {
    "colab": {
     "base_uri": "https://localhost:8080/",
     "height": 85
    },
    "colab_type": "code",
    "id": "QLD2UKNmCU19",
    "outputId": "55ccd07a-2a6d-41ac-9009-5deebdc725ef"
   },
   "outputs": [
    {
     "name": "stdout",
     "output_type": "stream",
     "text": [
      "Running fold: 1\n",
      "Running fold: 2\n",
      "Running fold: 3\n",
      "Total time: 402.73 minutes\n"
     ]
    }
   ],
   "source": [
    "startTime = time()\n",
    "\n",
    "maxEpochs = 20\n",
    "epochSearchResults = []\n",
    "fold = 1\n",
    "for XTrain, XValidate in XTrainValidateFolds:\n",
    "  print('Running fold: {}'.format(fold))\n",
    "  epochSearchResults.append(epochSearch(XTrain, XValidate, maxEpochs))\n",
    "  fold += 1\n",
    "#   downloadCSVFile(epochSearchResults, 'epochSearchResults.csv')\n",
    "\n",
    "totalTime = time() - startTime\n",
    "if totalTime > 60:\n",
    "    print('Total time: {:0.2f} minutes'.format(totalTime / 60))\n",
    "else:\n",
    "    print('Total time: {:0.2f} seconds'.format(totalTime))"
   ]
  },
  {
   "cell_type": "code",
   "execution_count": 27,
   "metadata": {
    "colab": {
     "base_uri": "https://localhost:8080/",
     "height": 102
    },
    "colab_type": "code",
    "id": "mHx0qwXkGPmN",
    "outputId": "5f96b441-a874-4202-df56-d878ce64680b"
   },
   "outputs": [
    {
     "name": "stdout",
     "output_type": "stream",
     "text": [
      "The best number of Epochs for fold 1 is 17\n",
      "The best number of Epochs for fold 2 is 17\n",
      "The best number of Epochs for fold 3 is 17\n",
      "\n",
      "The best number of Epochs overall is 17\n"
     ]
    }
   ],
   "source": [
    "def findBestEpoch(epochSearchResults):\n",
    "  previousAUC = -10\n",
    "  bestEpoch = -1\n",
    "  \n",
    "  for result in epochSearchResults:\n",
    "    testAUC = result['test_auc']\n",
    "    if testAUC > previousAUC:\n",
    "      previousAUC = testAUC\n",
    "      bestEpoch = result['epoch']\n",
    "  return bestEpoch\n",
    "  \n",
    "bestEpochs = []\n",
    "for index, epochSearchResult in enumerate(epochSearchResults):\n",
    "  bestEpochFold = findBestEpoch(epochSearchResult)\n",
    "  bestEpochs.append(bestEpochFold)\n",
    "  print('The best number of Epochs for fold {} is {}'.format(index + 1, bestEpochFold))\n",
    "\n",
    "bestEpoch = int(np.median(bestEpochs))\n",
    "print('')\n",
    "print('The best number of Epochs overall is {}'.format(bestEpoch))"
   ]
  },
  {
   "cell_type": "code",
   "execution_count": 28,
   "metadata": {
    "colab": {
     "base_uri": "https://localhost:8080/",
     "height": 2171
    },
    "colab_type": "code",
    "id": "cnf2_Nr1EJOi",
    "outputId": "c127d8d2-2c01-4d0e-8818-f398cc6b88ed"
   },
   "outputs": [
    {
     "data": {
      "image/png": "[encoded data removed]",
      "text/plain": [
       "<Figure size 432x288 with 1 Axes>"
      ]
     },
     "metadata": {
      "needs_background": "light"
     },
     "output_type": "display_data"
    },
    {
     "data": {
      "image/png": "[encoded data removed]",
      "text/plain": [
       "<Figure size 432x288 with 1 Axes>"
      ]
     },
     "metadata": {
      "needs_background": "light"
     },
     "output_type": "display_data"
    },
    {
     "data": {
      "image/png": "[encoded data removed]",
      "text/plain": [
       "<Figure size 432x288 with 1 Axes>"
      ]
     },
     "metadata": {
      "needs_background": "light"
     },
     "output_type": "display_data"
    },
    {
     "data": {
      "image/png": "[encoded data removed]",
      "text/plain": [
       "<Figure size 432x288 with 1 Axes>"
      ]
     },
     "metadata": {
      "needs_background": "light"
     },
     "output_type": "display_data"
    },
    {
     "data": {
      "image/png": "[encoded data removed]",
      "text/plain": [
       "<Figure size 432x288 with 1 Axes>"
      ]
     },
     "metadata": {
      "needs_background": "light"
     },
     "output_type": "display_data"
    },
    {
     "data": {
      "image/png": "[encoded data removed]",
      "text/plain": [
       "<Figure size 432x288 with 1 Axes>"
      ]
     },
     "metadata": {
      "needs_background": "light"
     },
     "output_type": "display_data"
    }
   ],
   "source": [
    "def plotEpochSearchResults(epochSearchResults):\n",
    "  for epochSearchResult in epochSearchResults:\n",
    "    epochSearchDF = pd.DataFrame(epochSearchResult)\n",
    "    plt.plot(epochSearchDF['epoch'], epochSearchDF['train_auc'], color='blue')\n",
    "    plt.scatter(epochSearchDF['epoch'], epochSearchDF['train_auc'], color='blue')\n",
    "    plt.plot(epochSearchDF['epoch'], epochSearchDF['test_auc'], color='green')\n",
    "    plt.scatter(epochSearchDF['epoch'], epochSearchDF['test_auc'], color='green')\n",
    "    plt.title('AUC -- Epochs')\n",
    "    plt.ylabel('AUC')\n",
    "    plt.xlabel('Epoch')\n",
    "    plt.legend(['train', 'test'], loc='best')\n",
    "    plt.show()\n",
    "\n",
    "    plt.plot(epochSearchDF['epoch'], epochSearchDF['time'], color='red')\n",
    "    plt.scatter(epochSearchDF['epoch'], epochSearchDF['time'], color='red')\n",
    "    plt.title('Time -- Epochs')\n",
    "    plt.ylabel('Time')\n",
    "    plt.xlabel('Epoch')\n",
    "    plt.legend(['train'], loc='best')\n",
    "    plt.show()\n",
    "\n",
    "  \n",
    "plotEpochSearchResults(epochSearchResults)"
   ]
  },
  {
   "cell_type": "markdown",
   "metadata": {
    "colab_type": "text",
    "id": "mHKpyLy77IvI"
   },
   "source": [
    "# Sampling Amount of Data"
   ]
  },
  {
   "cell_type": "code",
   "execution_count": 29,
   "metadata": {
    "colab": {
     "base_uri": "https://localhost:8080/",
     "height": 34
    },
    "colab_type": "code",
    "id": "R8tRcWXv0BIy",
    "outputId": "71d06522-4b5e-47cf-afb7-dd4ef456ac30"
   },
   "outputs": [
    {
     "data": {
      "text/plain": [
       "[222027, 444054, 666082, 888109, 1110137]"
      ]
     },
     "execution_count": 29,
     "metadata": {},
     "output_type": "execute_result"
    }
   ],
   "source": [
    "dataFractions = np.arange(0.2, 1.2, 0.2)\n",
    "numRatings = len(ratingsTrainDF)\n",
    "dataSizes = [int(fraction * numRatings) for fraction in dataFractions]\n",
    "dataSizes"
   ]
  },
  {
   "cell_type": "code",
   "execution_count": 30,
   "metadata": {
    "colab": {},
    "colab_type": "code",
    "id": "wacMRXoR-o2j"
   },
   "outputs": [],
   "source": [
    "def sizeSamplingSearch(dataSizes):\n",
    "  sizeSamplingResults = []\n",
    "\n",
    "  for numRatings in dataSizes:\n",
    "    print('Running for size: {}'.format(numRatings))\n",
    "    ratingsTrainDFSampled = ratingsTrainDF.sample(n=numRatings)\n",
    "    XTrain = ratingsDFToUserMovieMatrix(ratingsTrainDFSampled, userIdToIndex, movieIdToIndex)\n",
    "    train_auc, test_auc, totalTime = runModel(bestParams, XTrain, XTest, side_info_matrix, bestEpoch)\n",
    "    result = {\n",
    "        'numRatings': numRatings,\n",
    "        'train_auc': train_auc,\n",
    "        'test_auc': test_auc,\n",
    "        'time': totalTime,\n",
    "    }\n",
    "    sizeSamplingResults.append(result)\n",
    "\n",
    "  return sizeSamplingResults"
   ]
  },
  {
   "cell_type": "code",
   "execution_count": 31,
   "metadata": {
    "colab": {
     "base_uri": "https://localhost:8080/",
     "height": 102
    },
    "colab_type": "code",
    "id": "7mQkH7OmB7oL",
    "outputId": "041340af-2f51-439e-d96a-27a4c527c1f4"
   },
   "outputs": [
    {
     "name": "stdout",
     "output_type": "stream",
     "text": [
      "Running for size: 222027\n",
      "Running for size: 444054\n",
      "Running for size: 666082\n",
      "Running for size: 888109\n",
      "Running for size: 1110137\n"
     ]
    }
   ],
   "source": [
    "sizeSamplingResults = sizeSamplingSearch(dataSizes)\n"
   ]
  },
  {
   "cell_type": "code",
   "execution_count": 32,
   "metadata": {
    "colab": {
     "base_uri": "https://localhost:8080/",
     "height": 735
    },
    "colab_type": "code",
    "id": "TQlm7kVqB9bF",
    "outputId": "f479f50d-1852-413d-af39-4782229834e0"
   },
   "outputs": [
    {
     "data": {
      "image/png": "[encoded data removed]",
      "text/plain": [
       "<Figure size 432x288 with 1 Axes>"
      ]
     },
     "metadata": {
      "needs_background": "light"
     },
     "output_type": "display_data"
    },
    {
     "data": {
      "image/png": "[encoded data removed]",
      "text/plain": [
       "<Figure size 432x288 with 1 Axes>"
      ]
     },
     "metadata": {
      "needs_background": "light"
     },
     "output_type": "display_data"
    }
   ],
   "source": [
    "def plotSizeSamplingResults(sizeSamplingResults):\n",
    "  sizeSamplingDF = pd.DataFrame(sizeSamplingResults)\n",
    "  \n",
    "  plt.scatter(sizeSamplingDF['numRatings'], sizeSamplingDF['train_auc'], color='blue')\n",
    "  plt.plot(sizeSamplingDF['numRatings'], sizeSamplingDF['train_auc'], color='blue')\n",
    "  plt.scatter(sizeSamplingDF['numRatings'], sizeSamplingDF['test_auc'], color='green')\n",
    "  plt.plot(sizeSamplingDF['numRatings'], sizeSamplingDF['test_auc'], color='green')\n",
    "  plt.title('AUC -- Number of Ratings')\n",
    "  plt.ylabel('AUC')\n",
    "  plt.xlabel('Number of Ratings')\n",
    "  plt.legend(['train', 'test'], loc='best')\n",
    "  plt.show()\n",
    "  \n",
    "  plt.scatter(sizeSamplingDF['numRatings'], sizeSamplingDF['time'], color='red')\n",
    "  plt.plot(sizeSamplingDF['numRatings'], sizeSamplingDF['time'], color='red')\n",
    "  plt.title('Time -- Number of Ratings')\n",
    "  plt.ylabel('Time')\n",
    "  plt.xlabel('Number of Ratings')\n",
    "  plt.legend(['train'], loc='best')\n",
    "  plt.show()\n",
    "  \n",
    "  \n",
    "plotSizeSamplingResults(sizeSamplingResults)"
   ]
  },
  {
   "cell_type": "code",
   "execution_count": null,
   "metadata": {
    "colab": {},
    "colab_type": "code",
    "id": "yYUb7usiJAZo"
   },
   "outputs": [],
   "source": []
  },
  {
   "cell_type": "markdown",
   "metadata": {
    "colab_type": "text",
    "id": "Y8wOv6zqTMRv"
   },
   "source": [
    "# Sample By Number of Users"
   ]
  },
  {
   "cell_type": "code",
   "execution_count": 33,
   "metadata": {
    "colab": {},
    "colab_type": "code",
    "id": "OWk9QiKunSMM"
   },
   "outputs": [],
   "source": [
    "def sortUsersByDensity(ratingsDF):\n",
    "  counts = ratingsDF['userId'].value_counts()\n",
    "  return np.asarray(counts.keys())"
   ]
  },
  {
   "cell_type": "code",
   "execution_count": 34,
   "metadata": {
    "colab": {
     "base_uri": "https://localhost:8080/",
     "height": 34
    },
    "colab_type": "code",
    "id": "WIprTpi1TPAG",
    "outputId": "24c3dfbd-6160-4de3-e761-7a1df1b7d82c"
   },
   "outputs": [
    {
     "data": {
      "text/plain": [
       "[40750, 81500, 122250, 163000, 203750]"
      ]
     },
     "execution_count": 34,
     "metadata": {},
     "output_type": "execute_result"
    }
   ],
   "source": [
    "numUsersTotal = len(userIds)\n",
    "userIdsByDensity = sortUsersByDensity(ratingsDF)\n",
    "userFractions = np.arange(0.2, 1.2, 0.2)\n",
    "userSizes = [int(fraction * numUsersTotal) for fraction in userFractions]\n",
    "userSizes"
   ]
  },
  {
   "cell_type": "code",
   "execution_count": 35,
   "metadata": {
    "colab": {},
    "colab_type": "code",
    "id": "5TOQTQpY6uzZ"
   },
   "outputs": [],
   "source": [
    "def userSamplingSearch(userSizes):\n",
    "  userSamplingResultsDense = []\n",
    "\n",
    "  for numUsers in userSizes:\n",
    "    print('Running for the most dense users of size: {}'.format(numUsers))\n",
    "    sampledUserIds = userIdsByDensity[:numUsers]\n",
    "    userIdToIndexSampled = {}\n",
    "    for index, userId in enumerate(sampledUserIds):\n",
    "      userIdToIndexSampled[userId] = index\n",
    "      \n",
    "    ratingsTrainDFSampled = ratingsTrainDF[ratingsTrainDF['userId'].isin(sampledUserIds)]\n",
    "    ratingsTestDFSampled = ratingsTestDF[ratingsTestDF['userId'].isin(sampledUserIds)]\n",
    "    \n",
    "    XTrain = ratingsDFToUserMovieMatrix(ratingsTrainDFSampled, userIdToIndexSampled, movieIdToIndex)\n",
    "    XTest = ratingsDFToUserMovieMatrix(ratingsTestDFSampled, userIdToIndexSampled, movieIdToIndex)\n",
    "    \n",
    "    train_auc, test_auc, totalTime = runModel(bestParams, XTrain, XTest, side_info_matrix, bestEpoch)\n",
    "    result = {\n",
    "        'numUsers': numUsers,\n",
    "        'train_auc': train_auc,\n",
    "        'test_auc': test_auc,\n",
    "        'time': totalTime,\n",
    "    }\n",
    "    userSamplingResultsDense.append(result)\n",
    "    \n",
    "    \n",
    "  userSamplingResultsSparse = []\n",
    "  \n",
    "  for numUsers in userSizes:\n",
    "    print('Running for the least dense users of size: {}'.format(numUsers))\n",
    "    sampledUserIds = userIdsByDensity[(numUsersTotal - numUsers):]\n",
    "    userIdToIndexSampled = {}\n",
    "    for index, userId in enumerate(sampledUserIds):\n",
    "      userIdToIndexSampled[userId] = index\n",
    "      \n",
    "    ratingsTrainDFSampled = ratingsTrainDF[ratingsTrainDF['userId'].isin(sampledUserIds)]\n",
    "    ratingsTestDFSampled = ratingsTestDF[ratingsTestDF['userId'].isin(sampledUserIds)]\n",
    "\n",
    "    \n",
    "    XTrain = ratingsDFToUserMovieMatrix(ratingsTrainDFSampled, userIdToIndexSampled, movieIdToIndex)\n",
    "    XTest = ratingsDFToUserMovieMatrix(ratingsTestDFSampled, userIdToIndexSampled, movieIdToIndex)\n",
    "    \n",
    "    train_auc, test_auc, totalTime = runModel(bestParams, XTrain, XTest, side_info_matrix, bestEpoch)\n",
    "    result = {\n",
    "        'numUsers': numUsers,\n",
    "        'train_auc': train_auc,\n",
    "        'test_auc': test_auc,\n",
    "        'time': totalTime,\n",
    "    }\n",
    "    userSamplingResultsSparse.append(result)\n",
    "\n",
    "  return userSamplingResultsDense, userSamplingResultsSparse"
   ]
  },
  {
   "cell_type": "code",
   "execution_count": 36,
   "metadata": {
    "colab": {
     "base_uri": "https://localhost:8080/",
     "height": 187
    },
    "colab_type": "code",
    "id": "xsLzLcOaAQsT",
    "outputId": "c1de9bcb-bd69-4350-b92e-55a0ade1d537"
   },
   "outputs": [
    {
     "name": "stdout",
     "output_type": "stream",
     "text": [
      "Running for the most dense users of size: 40750\n",
      "Running for the most dense users of size: 81500\n",
      "Running for the most dense users of size: 122250\n",
      "Running for the most dense users of size: 163000\n",
      "Running for the most dense users of size: 203750\n",
      "Running for the least dense users of size: 40750\n",
      "Running for the least dense users of size: 81500\n",
      "Running for the least dense users of size: 122250\n",
      "Running for the least dense users of size: 163000\n",
      "Running for the least dense users of size: 203750\n"
     ]
    }
   ],
   "source": [
    "userSamplingResultsDense, userSamplingResultsSparse = userSamplingSearch(userSizes)\n",
    "# userSamplingResults"
   ]
  },
  {
   "cell_type": "code",
   "execution_count": 46,
   "metadata": {
    "colab": {
     "base_uri": "https://localhost:8080/",
     "height": 735
    },
    "colab_type": "code",
    "id": "mtMts6T1AT7R",
    "outputId": "95f3d627-5734-4577-9514-360d9b62ed47"
   },
   "outputs": [
    {
     "data": {
      "image/png": "[encoded data removed]",
      "text/plain": [
       "<Figure size 432x288 with 1 Axes>"
      ]
     },
     "metadata": {
      "needs_background": "light"
     },
     "output_type": "display_data"
    },
    {
     "data": {
      "image/png": "[encoded data removed]",
      "text/plain": [
       "<Figure size 432x288 with 1 Axes>"
      ]
     },
     "metadata": {
      "needs_background": "light"
     },
     "output_type": "display_data"
    }
   ],
   "source": [
    "def plotUserSamplingResults(userSamplingResultsDense, userSamplingResultsSparse):\n",
    "  sizeSamplingDFDense = pd.DataFrame(userSamplingResultsDense)\n",
    "  sizeSamplingDFSparse = pd.DataFrame(userSamplingResultsSparse)\n",
    "  \n",
    "  plt.scatter(sizeSamplingDFDense['numUsers'], sizeSamplingDFDense['train_auc'], color='blue')\n",
    "  plt.scatter(sizeSamplingDFSparse['numUsers'], sizeSamplingDFSparse['train_auc'], color='#4f8ff7')\n",
    "  plt.scatter(sizeSamplingDFDense['numUsers'], sizeSamplingDFDense['test_auc'], color='green')\n",
    "  plt.scatter(sizeSamplingDFSparse['numUsers'], sizeSamplingDFSparse['test_auc'], color='#57f954')\n",
    "  plt.plot(sizeSamplingDFDense['numUsers'], sizeSamplingDFDense['train_auc'], color='blue')\n",
    "  plt.plot(sizeSamplingDFSparse['numUsers'], sizeSamplingDFSparse['train_auc'], color='#4f8ff7')\n",
    "  plt.plot(sizeSamplingDFDense['numUsers'], sizeSamplingDFDense['test_auc'], color='green')\n",
    "  plt.plot(sizeSamplingDFSparse['numUsers'], sizeSamplingDFSparse['test_auc'], color='#57f954')\n",
    "  plt.title('AUC -- Number of Users')\n",
    "  plt.ylabel('AUC')\n",
    "  plt.xlabel('Number of Users')\n",
    "  plt.legend(['train dense', 'train sparse', 'test dense', 'test sparse'], loc='best')\n",
    "  plt.show()\n",
    "  \n",
    "  plt.scatter(sizeSamplingDFDense['numUsers'], sizeSamplingDFDense['time'], color='blue')\n",
    "  plt.scatter(sizeSamplingDFSparse['numUsers'], sizeSamplingDFSparse['time'], color='#4f8ff7')\n",
    "  plt.plot(sizeSamplingDFDense['numUsers'], sizeSamplingDFDense['time'], color='blue')\n",
    "  plt.plot(sizeSamplingDFSparse['numUsers'], sizeSamplingDFSparse['time'], color='#4f8ff7')\n",
    "  plt.title('Time -- Number of Users')\n",
    "  plt.ylabel('Time')\n",
    "  plt.xlabel('Number of Users')\n",
    "  plt.legend( ['dense', 'sparse'], loc='best')\n",
    "  plt.show()\n",
    " \n",
    "  \n",
    "plotUserSamplingResults(userSamplingResultsDense, userSamplingResultsSparse)"
   ]
  },
  {
   "cell_type": "markdown",
   "metadata": {
    "colab_type": "text",
    "id": "ywsfc21AzsT6"
   },
   "source": [
    "# Sample By Number Of Movies"
   ]
  },
  {
   "cell_type": "code",
   "execution_count": 38,
   "metadata": {
    "colab": {},
    "colab_type": "code",
    "id": "-9Opw_EQBcPF"
   },
   "outputs": [],
   "source": [
    "def sortMoviesByDensity(ratingsDF):\n",
    "  counts = ratingsDF['movieId'].value_counts()\n",
    "  return np.asarray(counts.keys())"
   ]
  },
  {
   "cell_type": "code",
   "execution_count": 39,
   "metadata": {
    "colab": {
     "base_uri": "https://localhost:8080/",
     "height": 34
    },
    "colab_type": "code",
    "id": "3d6gTa2oz3Bq",
    "outputId": "111dbb75-3acb-4bc2-b191-e61c0b13d11f"
   },
   "outputs": [
    {
     "data": {
      "text/plain": [
       "[4834, 9669, 14504, 19339, 24174]"
      ]
     },
     "execution_count": 39,
     "metadata": {},
     "output_type": "execute_result"
    }
   ],
   "source": [
    "numMoviesTotal = len(movieIds)\n",
    "movieIdsByDensity = sortMoviesByDensity(ratingsDF)\n",
    "movieFractions = np.arange(0.2, 1.2, 0.2)\n",
    "movieSizes = [int(fraction * numMoviesTotal) for fraction in movieFractions]\n",
    "movieSizes"
   ]
  },
  {
   "cell_type": "code",
   "execution_count": 40,
   "metadata": {
    "colab": {},
    "colab_type": "code",
    "id": "7T3cnJcAz3eY"
   },
   "outputs": [],
   "source": [
    "def movieSamplingSearch(movieSizes):\n",
    "  movieSamplingResultsDense = []\n",
    "\n",
    "  for numMovies in movieSizes:\n",
    "    print('Running for the most dense movies of size: {}'.format(numMovies))\n",
    "    sampledMovieIds = movieIdsByDensity[:numMovies]\n",
    "    movieIdToIndexSampled = {}\n",
    "    for index, movieId in enumerate(sampledMovieIds):\n",
    "      movieIdToIndexSampled[movieId] = index\n",
    "      \n",
    "    ratingsTrainDFSampled = ratingsTrainDF[ratingsTrainDF['movieId'].isin(sampledMovieIds)]\n",
    "    ratingsTestDFSampled = ratingsTestDF[ratingsTestDF['movieId'].isin(sampledMovieIds)]\n",
    "    \n",
    "    XTrain = ratingsDFToUserMovieMatrix(ratingsTrainDFSampled, userIdToIndex, movieIdToIndexSampled)\n",
    "    XTest = ratingsDFToUserMovieMatrix(ratingsTestDFSampled, userIdToIndex, movieIdToIndexSampled)\n",
    "    \n",
    "    side_info_linkage_sampled = side_info_linkage[side_info_linkage['movieId'].isin(sampledMovieIds)]\n",
    "    full_side_info_sampled = makeSideFeatures(side_info_linkage_sampled, sideFeatures)\n",
    "    \n",
    "    train_auc, test_auc, totalTime = runModel(bestParams, XTrain, XTest, full_side_info_sampled, bestEpoch)\n",
    "    result = {\n",
    "        'numMovies': numMovies,\n",
    "        'train_auc': train_auc,\n",
    "        'test_auc': test_auc,\n",
    "        'time': totalTime,\n",
    "    }\n",
    "    movieSamplingResultsDense.append(result)\n",
    "    \n",
    "    \n",
    "  movieSamplingResultsSparse = []\n",
    "  \n",
    "  for numMovies in movieSizes:\n",
    "    print('Running for the least dense movies of size: {}'.format(numMovies))\n",
    "    sampledMovieIds = movieIdsByDensity[(numMoviesTotal - numMovies):]\n",
    "    movieIdToIndexSampled = {}\n",
    "    for index, movieId in enumerate(sampledMovieIds):\n",
    "      movieIdToIndexSampled[movieId] = index\n",
    "      \n",
    "    ratingsTrainDFSampled = ratingsTrainDF[ratingsTrainDF['movieId'].isin(sampledMovieIds)]\n",
    "    ratingsTestDFSampled = ratingsTestDF[ratingsTestDF['movieId'].isin(sampledMovieIds)]\n",
    "\n",
    "    XTrain = ratingsDFToUserMovieMatrix(ratingsTrainDFSampled, userIdToIndex, movieIdToIndexSampled)\n",
    "    XTest = ratingsDFToUserMovieMatrix(ratingsTestDFSampled, userIdToIndex, movieIdToIndexSampled)\n",
    "    \n",
    "    side_info_linkage_sampled = side_info_linkage[side_info_linkage['movieId'].isin(sampledMovieIds)]\n",
    "    full_side_info_sampled = makeSideFeatures(side_info_linkage_sampled, sideFeatures)\n",
    "    \n",
    "    train_auc, test_auc, totalTime = runModel(bestParams, XTrain, XTest, full_side_info_sampled, bestEpoch)\n",
    "    result = {\n",
    "        'numMovies': numMovies,\n",
    "        'train_auc': train_auc,\n",
    "        'test_auc': test_auc,\n",
    "        'time': totalTime,\n",
    "    }\n",
    "    movieSamplingResultsSparse.append(result)\n",
    "\n",
    "  return movieSamplingResultsDense, movieSamplingResultsSparse"
   ]
  },
  {
   "cell_type": "code",
   "execution_count": 41,
   "metadata": {
    "colab": {
     "base_uri": "https://localhost:8080/",
     "height": 1397
    },
    "colab_type": "code",
    "id": "y1ZfGalX1bgz",
    "outputId": "e35bd83a-b081-4fed-ec3b-5e028d39d35e"
   },
   "outputs": [
    {
     "name": "stdout",
     "output_type": "stream",
     "text": [
      "Running for the most dense movies of size: 4834\n",
      "Shape of full side info: (4834, 40)\n"
     ]
    },
    {
     "name": "stderr",
     "output_type": "stream",
     "text": [
      "/Users/joshfeldman/Desktop/Projects/personalization_project/venv/lib/python3.6/site-packages/ipykernel_launcher.py:25: SettingWithCopyWarning: \n",
      "A value is trying to be set on a copy of a slice from a DataFrame\n",
      "\n",
      "See the caveats in the documentation: http://pandas.pydata.org/pandas-docs/stable/indexing.html#indexing-view-versus-copy\n",
      "/Users/joshfeldman/Desktop/Projects/personalization_project/venv/lib/python3.6/site-packages/sklearn/utils/validation.py:590: DataConversionWarning: Data with input dtype int64 was converted to float64 by MinMaxScaler.\n",
      "  warnings.warn(msg, DataConversionWarning)\n"
     ]
    },
    {
     "name": "stdout",
     "output_type": "stream",
     "text": [
      "Running for the most dense movies of size: 9669\n",
      "Shape of full side info: (9669, 40)\n"
     ]
    },
    {
     "name": "stderr",
     "output_type": "stream",
     "text": [
      "/Users/joshfeldman/Desktop/Projects/personalization_project/venv/lib/python3.6/site-packages/ipykernel_launcher.py:25: SettingWithCopyWarning: \n",
      "A value is trying to be set on a copy of a slice from a DataFrame\n",
      "\n",
      "See the caveats in the documentation: http://pandas.pydata.org/pandas-docs/stable/indexing.html#indexing-view-versus-copy\n",
      "/Users/joshfeldman/Desktop/Projects/personalization_project/venv/lib/python3.6/site-packages/sklearn/utils/validation.py:590: DataConversionWarning: Data with input dtype int64 was converted to float64 by MinMaxScaler.\n",
      "  warnings.warn(msg, DataConversionWarning)\n"
     ]
    },
    {
     "name": "stdout",
     "output_type": "stream",
     "text": [
      "Running for the most dense movies of size: 14504\n",
      "Shape of full side info: (14504, 40)\n"
     ]
    },
    {
     "name": "stderr",
     "output_type": "stream",
     "text": [
      "/Users/joshfeldman/Desktop/Projects/personalization_project/venv/lib/python3.6/site-packages/ipykernel_launcher.py:25: SettingWithCopyWarning: \n",
      "A value is trying to be set on a copy of a slice from a DataFrame\n",
      "\n",
      "See the caveats in the documentation: http://pandas.pydata.org/pandas-docs/stable/indexing.html#indexing-view-versus-copy\n",
      "/Users/joshfeldman/Desktop/Projects/personalization_project/venv/lib/python3.6/site-packages/sklearn/utils/validation.py:590: DataConversionWarning: Data with input dtype int64 was converted to float64 by MinMaxScaler.\n",
      "  warnings.warn(msg, DataConversionWarning)\n"
     ]
    },
    {
     "name": "stdout",
     "output_type": "stream",
     "text": [
      "Running for the most dense movies of size: 19339\n",
      "Shape of full side info: (19339, 40)\n"
     ]
    },
    {
     "name": "stderr",
     "output_type": "stream",
     "text": [
      "/Users/joshfeldman/Desktop/Projects/personalization_project/venv/lib/python3.6/site-packages/ipykernel_launcher.py:25: SettingWithCopyWarning: \n",
      "A value is trying to be set on a copy of a slice from a DataFrame\n",
      "\n",
      "See the caveats in the documentation: http://pandas.pydata.org/pandas-docs/stable/indexing.html#indexing-view-versus-copy\n",
      "/Users/joshfeldman/Desktop/Projects/personalization_project/venv/lib/python3.6/site-packages/sklearn/utils/validation.py:590: DataConversionWarning: Data with input dtype int64 was converted to float64 by MinMaxScaler.\n",
      "  warnings.warn(msg, DataConversionWarning)\n"
     ]
    },
    {
     "name": "stdout",
     "output_type": "stream",
     "text": [
      "Running for the most dense movies of size: 24174\n",
      "Shape of full side info: (24174, 40)\n"
     ]
    },
    {
     "name": "stderr",
     "output_type": "stream",
     "text": [
      "/Users/joshfeldman/Desktop/Projects/personalization_project/venv/lib/python3.6/site-packages/ipykernel_launcher.py:25: SettingWithCopyWarning: \n",
      "A value is trying to be set on a copy of a slice from a DataFrame\n",
      "\n",
      "See the caveats in the documentation: http://pandas.pydata.org/pandas-docs/stable/indexing.html#indexing-view-versus-copy\n",
      "/Users/joshfeldman/Desktop/Projects/personalization_project/venv/lib/python3.6/site-packages/sklearn/utils/validation.py:590: DataConversionWarning: Data with input dtype int64 was converted to float64 by MinMaxScaler.\n",
      "  warnings.warn(msg, DataConversionWarning)\n"
     ]
    },
    {
     "name": "stdout",
     "output_type": "stream",
     "text": [
      "Running for the least dense movies of size: 4834\n",
      "Shape of full side info: (4834, 40)\n"
     ]
    },
    {
     "name": "stderr",
     "output_type": "stream",
     "text": [
      "/Users/joshfeldman/Desktop/Projects/personalization_project/venv/lib/python3.6/site-packages/ipykernel_launcher.py:25: SettingWithCopyWarning: \n",
      "A value is trying to be set on a copy of a slice from a DataFrame\n",
      "\n",
      "See the caveats in the documentation: http://pandas.pydata.org/pandas-docs/stable/indexing.html#indexing-view-versus-copy\n",
      "/Users/joshfeldman/Desktop/Projects/personalization_project/venv/lib/python3.6/site-packages/sklearn/utils/validation.py:590: DataConversionWarning: Data with input dtype int64 was converted to float64 by MinMaxScaler.\n",
      "  warnings.warn(msg, DataConversionWarning)\n"
     ]
    },
    {
     "name": "stdout",
     "output_type": "stream",
     "text": [
      "Running for the least dense movies of size: 9669\n",
      "Shape of full side info: (9669, 40)\n"
     ]
    },
    {
     "name": "stderr",
     "output_type": "stream",
     "text": [
      "/Users/joshfeldman/Desktop/Projects/personalization_project/venv/lib/python3.6/site-packages/ipykernel_launcher.py:25: SettingWithCopyWarning: \n",
      "A value is trying to be set on a copy of a slice from a DataFrame\n",
      "\n",
      "See the caveats in the documentation: http://pandas.pydata.org/pandas-docs/stable/indexing.html#indexing-view-versus-copy\n",
      "/Users/joshfeldman/Desktop/Projects/personalization_project/venv/lib/python3.6/site-packages/sklearn/utils/validation.py:590: DataConversionWarning: Data with input dtype int64 was converted to float64 by MinMaxScaler.\n",
      "  warnings.warn(msg, DataConversionWarning)\n"
     ]
    },
    {
     "name": "stdout",
     "output_type": "stream",
     "text": [
      "Running for the least dense movies of size: 14504\n",
      "Shape of full side info: (14504, 40)\n"
     ]
    },
    {
     "name": "stderr",
     "output_type": "stream",
     "text": [
      "/Users/joshfeldman/Desktop/Projects/personalization_project/venv/lib/python3.6/site-packages/ipykernel_launcher.py:25: SettingWithCopyWarning: \n",
      "A value is trying to be set on a copy of a slice from a DataFrame\n",
      "\n",
      "See the caveats in the documentation: http://pandas.pydata.org/pandas-docs/stable/indexing.html#indexing-view-versus-copy\n",
      "/Users/joshfeldman/Desktop/Projects/personalization_project/venv/lib/python3.6/site-packages/sklearn/utils/validation.py:590: DataConversionWarning: Data with input dtype int64 was converted to float64 by MinMaxScaler.\n",
      "  warnings.warn(msg, DataConversionWarning)\n"
     ]
    },
    {
     "name": "stdout",
     "output_type": "stream",
     "text": [
      "Running for the least dense movies of size: 19339\n",
      "Shape of full side info: (19339, 40)\n"
     ]
    },
    {
     "name": "stderr",
     "output_type": "stream",
     "text": [
      "/Users/joshfeldman/Desktop/Projects/personalization_project/venv/lib/python3.6/site-packages/ipykernel_launcher.py:25: SettingWithCopyWarning: \n",
      "A value is trying to be set on a copy of a slice from a DataFrame\n",
      "\n",
      "See the caveats in the documentation: http://pandas.pydata.org/pandas-docs/stable/indexing.html#indexing-view-versus-copy\n",
      "/Users/joshfeldman/Desktop/Projects/personalization_project/venv/lib/python3.6/site-packages/sklearn/utils/validation.py:590: DataConversionWarning: Data with input dtype int64 was converted to float64 by MinMaxScaler.\n",
      "  warnings.warn(msg, DataConversionWarning)\n"
     ]
    },
    {
     "name": "stdout",
     "output_type": "stream",
     "text": [
      "Running for the least dense movies of size: 24174\n",
      "Shape of full side info: (24174, 40)\n"
     ]
    },
    {
     "name": "stderr",
     "output_type": "stream",
     "text": [
      "/Users/joshfeldman/Desktop/Projects/personalization_project/venv/lib/python3.6/site-packages/ipykernel_launcher.py:25: SettingWithCopyWarning: \n",
      "A value is trying to be set on a copy of a slice from a DataFrame\n",
      "\n",
      "See the caveats in the documentation: http://pandas.pydata.org/pandas-docs/stable/indexing.html#indexing-view-versus-copy\n",
      "/Users/joshfeldman/Desktop/Projects/personalization_project/venv/lib/python3.6/site-packages/sklearn/utils/validation.py:590: DataConversionWarning: Data with input dtype int64 was converted to float64 by MinMaxScaler.\n",
      "  warnings.warn(msg, DataConversionWarning)\n"
     ]
    }
   ],
   "source": [
    "movieSamplingResultsDense, movieSamplingResultsSparse = movieSamplingSearch(movieSizes)\n",
    "# userSamplingResults"
   ]
  },
  {
   "cell_type": "code",
   "execution_count": 44,
   "metadata": {
    "colab": {
     "base_uri": "https://localhost:8080/",
     "height": 735
    },
    "colab_type": "code",
    "id": "KJuLQKWYz7ak",
    "outputId": "3c00cb56-4fac-43a6-9a46-e371e048e63a"
   },
   "outputs": [
    {
     "data": {
      "image/png": "[encoded data removed]",
      "text/plain": [
       "<Figure size 432x288 with 1 Axes>"
      ]
     },
     "metadata": {
      "needs_background": "light"
     },
     "output_type": "display_data"
    },
    {
     "data": {
      "image/png": "[encoded data removed]",
      "text/plain": [
       "<Figure size 432x288 with 1 Axes>"
      ]
     },
     "metadata": {
      "needs_background": "light"
     },
     "output_type": "display_data"
    }
   ],
   "source": [
    "def plotMovieSamplingResults(movieSamplingResultsDense, movieSamplingResultsSparse):\n",
    "  sizeSamplingDFDense = pd.DataFrame(movieSamplingResultsDense)\n",
    "  sizeSamplingDFSparse = pd.DataFrame(movieSamplingResultsSparse)\n",
    "  \n",
    "  plt.scatter(sizeSamplingDFDense['numMovies'], sizeSamplingDFDense['train_auc'], color='blue')\n",
    "  plt.scatter(sizeSamplingDFSparse['numMovies'], sizeSamplingDFSparse['train_auc'], color='#4f8ff7')\n",
    "  plt.scatter(sizeSamplingDFDense['numMovies'], sizeSamplingDFDense['test_auc'], color='green')\n",
    "  plt.scatter(sizeSamplingDFSparse['numMovies'], sizeSamplingDFSparse['test_auc'], color='#57f954')\n",
    "  plt.plot(sizeSamplingDFDense['numMovies'], sizeSamplingDFDense['train_auc'], color='blue')\n",
    "  plt.plot(sizeSamplingDFSparse['numMovies'], sizeSamplingDFSparse['train_auc'], color='#4f8ff7')\n",
    "  plt.plot(sizeSamplingDFDense['numMovies'], sizeSamplingDFDense['test_auc'], color='green')\n",
    "  plt.plot(sizeSamplingDFSparse['numMovies'], sizeSamplingDFSparse['test_auc'], color='#57f954')\n",
    "  plt.title('AUC -- Number of Movies')\n",
    "  plt.ylabel('AUC')\n",
    "  plt.xlabel('Number of Movies')\n",
    "  plt.legend(['train dense', 'train sparse', 'test dense', 'test sparse'], loc='best')\n",
    "  plt.show()\n",
    "  \n",
    "  plt.scatter(sizeSamplingDFDense['numMovies'], sizeSamplingDFDense['time'], color='blue')\n",
    "  plt.scatter(sizeSamplingDFSparse['numMovies'], sizeSamplingDFSparse['time'], color='#4f8ff7')\n",
    "  plt.plot(sizeSamplingDFDense['numMovies'], sizeSamplingDFDense['time'], color='blue')\n",
    "  plt.plot(sizeSamplingDFSparse['numMovies'], sizeSamplingDFSparse['time'], color='#4f8ff7')\n",
    "  plt.title('Time -- Number of Movies')\n",
    "  plt.ylabel('Time')\n",
    "  plt.xlabel('Number of Movies')\n",
    "  plt.legend( ['time'], loc='best')\n",
    "  plt.show()\n",
    "  \n",
    "plotMovieSamplingResults(movieSamplingResultsDense, movieSamplingResultsSparse)"
   ]
  },
  {
   "cell_type": "code",
   "execution_count": null,
   "metadata": {
    "colab": {},
    "colab_type": "code",
    "id": "PmczEImD1MbH"
   },
   "outputs": [],
   "source": []
  },
  {
   "cell_type": "code",
   "execution_count": null,
   "metadata": {
    "colab": {},
    "colab_type": "code",
    "id": "nuVF0Z0QcCbR"
   },
   "outputs": [],
   "source": []
  }
 ],
 "metadata": {
  "accelerator": "GPU",
  "colab": {
   "collapsed_sections": [],
   "name": "Personalization_Project_FM_sideinfo2.ipynb",
   "provenance": [],
   "version": "0.3.2"
  },
  "kernelspec": {
   "display_name": "Python 3",
   "language": "python",
   "name": "python3"
  },
  "language_info": {
   "codemirror_mode": {
    "name": "ipython",
    "version": 3
   },
   "file_extension": ".py",
   "mimetype": "text/x-python",
   "name": "python",
   "nbconvert_exporter": "python",
   "pygments_lexer": "ipython3",
   "version": "3.6.6"
  }
 },
 "nbformat": 4,
 "nbformat_minor": 1
}
